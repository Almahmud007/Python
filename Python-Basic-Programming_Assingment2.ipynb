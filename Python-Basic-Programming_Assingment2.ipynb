{
 "cells": [
  {
   "cell_type": "markdown",
   "id": "8cf74658",
   "metadata": {},
   "source": [
    "1. Write a Python program to convert kilometers to miles?"
   ]
  },
  {
   "cell_type": "code",
   "execution_count": 18,
   "id": "639f12c5",
   "metadata": {},
   "outputs": [
    {
     "name": "stdout",
     "output_type": "stream",
     "text": [
      "Please type value of kilometer: 1\n",
      "------------------------------\n",
      "1.0 kilometer is equivalent to 0.62 miles.\n"
     ]
    }
   ],
   "source": [
    "km = float(input(\"Please type value of kilometer: \"))\n",
    "mi = 0.621371*km\n",
    "print(\"-\"*30)\n",
    "print(f\"{km} kilometer is equivalent to {mi:.2f} miles.\")"
   ]
  },
  {
   "cell_type": "code",
   "execution_count": null,
   "id": "217c6670",
   "metadata": {},
   "outputs": [],
   "source": []
  },
  {
   "cell_type": "markdown",
   "id": "8aeb5ca4",
   "metadata": {},
   "source": [
    "2. Write a Python program to convert Celsius to Fahrenheit?"
   ]
  },
  {
   "cell_type": "code",
   "execution_count": 21,
   "id": "a8d7ce5c",
   "metadata": {},
   "outputs": [
    {
     "name": "stdout",
     "output_type": "stream",
     "text": [
      "Please type value of Celsius: 7\n",
      "------------------------------\n",
      "7.0°C is equivalent to 44.6°F\n"
     ]
    }
   ],
   "source": [
    "cel = float(input(\"Please type value of Celsius: \"))\n",
    "far = (cel * 9/5) + 32\n",
    "print(\"-\"*30)\n",
    "print(f\"{cel}°C is equivalent to {far:.1f}°F\")"
   ]
  },
  {
   "cell_type": "code",
   "execution_count": null,
   "id": "c9dca773",
   "metadata": {},
   "outputs": [],
   "source": []
  },
  {
   "cell_type": "markdown",
   "id": "65201b43",
   "metadata": {},
   "source": [
    "3. Write a Python program to display a calendar?"
   ]
  },
  {
   "cell_type": "code",
   "execution_count": 22,
   "id": "44c1bfdb",
   "metadata": {},
   "outputs": [
    {
     "name": "stdout",
     "output_type": "stream",
     "text": [
      "Please type year: 2020\n",
      "Please type month: 10\n",
      "    October 2020\n",
      "Mo Tu We Th Fr Sa Su\n",
      "          1  2  3  4\n",
      " 5  6  7  8  9 10 11\n",
      "12 13 14 15 16 17 18\n",
      "19 20 21 22 23 24 25\n",
      "26 27 28 29 30 31\n",
      "\n"
     ]
    }
   ],
   "source": [
    "import calendar\n",
    "yy = int(input(\"Please type year: \"))\n",
    "mm = 0\n",
    "while True:\n",
    "    try:\n",
    "        mm = int(input(\"Please type month: \"))\n",
    "    except ValueError:\n",
    "        print(\"Please type valid number in between 1-12\")\n",
    "        continue\n",
    "    if mm >= 1 and mm <= 12:\n",
    "        print(calendar.month(yy, mm))\n",
    "        break\n",
    "    else:\n",
    "        print('Please type valid month in between 1-12')"
   ]
  },
  {
   "cell_type": "code",
   "execution_count": null,
   "id": "0f918fc8",
   "metadata": {},
   "outputs": [],
   "source": []
  },
  {
   "cell_type": "markdown",
   "id": "ce3c431a",
   "metadata": {},
   "source": [
    "4. Write a Python program to solve quadratic equations?"
   ]
  },
  {
   "cell_type": "code",
   "execution_count": 29,
   "id": "7c9a85b8",
   "metadata": {},
   "outputs": [
    {
     "name": "stdout",
     "output_type": "stream",
     "text": [
      "Please type value of a: 50\n",
      "Please type value of b: 30\n",
      "Please type value of c: 10\n",
      "------------------------------\n",
      "33.166247903554j\n",
      " Value of x1: -0.30+0.33j\n",
      " Value of x2: -0.30-0.33j\n"
     ]
    }
   ],
   "source": [
    "import cmath\n",
    "a = float(input(\"Please type value of a: \"))\n",
    "b = float(input(\"Please type value of b: \"))\n",
    "c = float(input(\"Please type value of c: \"))\n",
    "\n",
    "x = cmath.sqrt((b**2) - (4*a*c))\n",
    "\n",
    "p_formula = (-b + x)/ (2*a)\n",
    "n_formula = (-b - x)/ (2*a)\n",
    "print(\"-\"*30)\n",
    "print(x)\n",
    "print(f\" Value of x1: {p_formula:.2f}\")\n",
    "print(f\" Value of x2: {n_formula:.2f}\")"
   ]
  },
  {
   "cell_type": "code",
   "execution_count": null,
   "id": "a6185753",
   "metadata": {},
   "outputs": [],
   "source": []
  },
  {
   "cell_type": "markdown",
   "id": "2e88ea08",
   "metadata": {},
   "source": [
    "5. Write a Python program to swap two variables without a temp variable?"
   ]
  },
  {
   "cell_type": "code",
   "execution_count": 8,
   "id": "bacbe9b0",
   "metadata": {},
   "outputs": [
    {
     "name": "stdout",
     "output_type": "stream",
     "text": [
      "Enter first number: 20\n",
      "Enter second number: luck\n",
      "------------------------------\n",
      "Your fist value after swap is:luck \n",
      "Your second value after swap is:20 \n"
     ]
    }
   ],
   "source": [
    "a = input(\"Enter first number: \")\n",
    "b = input(\"Enter second number: \")\n",
    "\n",
    "a,b = b,a\n",
    "print(\"-\"*30)\n",
    "print(f\"Your fist value after swap is:{a} \")\n",
    "print(f\"Your second value after swap is:{b} \")"
   ]
  },
  {
   "cell_type": "code",
   "execution_count": null,
   "id": "36a59018",
   "metadata": {},
   "outputs": [],
   "source": []
  }
 ],
 "metadata": {
  "kernelspec": {
   "display_name": "Python 3 (ipykernel)",
   "language": "python",
   "name": "python3"
  },
  "language_info": {
   "codemirror_mode": {
    "name": "ipython",
    "version": 3
   },
   "file_extension": ".py",
   "mimetype": "text/x-python",
   "name": "python",
   "nbconvert_exporter": "python",
   "pygments_lexer": "ipython3",
   "version": "3.9.12"
  }
 },
 "nbformat": 4,
 "nbformat_minor": 5
}
