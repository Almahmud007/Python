{
 "cells": [
  {
   "cell_type": "markdown",
   "id": "f539b01e",
   "metadata": {},
   "source": [
    "# Assignment 01 Solutions"
   ]
  },
  {
   "cell_type": "markdown",
   "id": "942401c5",
   "metadata": {},
   "source": [
    "## Q1. What is the purpose of Python's OOP?"
   ]
  },
  {
   "cell_type": "markdown",
   "id": "64b566ca",
   "metadata": {},
   "source": [
    "<b>Answer</b>\n",
    "In order to structure and organize code, Python's Object-Oriented Programming (OOP) uses representations of actual objects and their interactions. OOP is a paradigm for programming that emphasizes building objects that encapsulate information (attributes) and functionality (methods), promoting modularity, reusability, and simpler code maintenance.\n",
    "\n",
    "Here are some of Python's OOP's main goals:\n",
    "\n",
    "\n",
    "1. **Modularity and Reusability**: OOP makes it possible to divide complicated issues into smaller, easier-to-manage objects. These objects can be reused throughout a program or in separate applications altogether, encouraging the reuse of code and minimizing repetition.\n",
    "\n",
    "2. **Encapsulation**: OOP makes it possible to group properties and methods into a single object, which is known as data encapsulation. This encapsulation shields an object's core operations and offers a simple interface for dealing with it. By restricting access through methods and guaranteeing appropriate validation and manipulation, it aids in maintaining the integrity of the data contained within the object.\n",
    "\n",
    "3. **Abstraction**: OOP enables the development of abstract classes and interfaces, which specify a common set of operations or attributes for a collection of linked objects. Abstraction helps to draw attention to an object's key qualities by obscuring superfluous implementation details. It provides a clear structure for creating complicated systems, which encourages code organization and streamlines the development process.\n",
    "\n",
    "4. Python provides support for inheritance, a feature that enables us to create new classes based on preexisting ones. By allowing us to extend or override parent class characteristics and methods in the child class, inheritance encourages code reuse. It makes it possible for classes to have hierarchical relationships and makes it simpler to create specialized classes that can inherit and alter the behavior of a more generic class.\n",
    "\n",
    "5. **Polymorphism**: Polymorphism describes an object's capacity to adopt many forms or exhibit various behaviors depending on the circumstances. Python uses method overloading and overriding to implement polymorphism. Through the use of a common interface, it enables us to develop code that can interact with objects belonging to other classes, increasing flexibility and code extensibility.\n",
    "\n",
    "Python facilitates the creation of scalable, maintainable, and modular code by employing these OOP principles, which makes it simpler to handle complicated projects and work together in larger development teams.\n"
   ]
  },
  {
   "cell_type": "code",
   "execution_count": null,
   "id": "981ffd77",
   "metadata": {},
   "outputs": [],
   "source": []
  },
  {
   "cell_type": "markdown",
   "id": "7cfcf3e9",
   "metadata": {},
   "source": [
    "### Q2. Where does an inheritance search look for an attribute?"
   ]
  },
  {
   "cell_type": "markdown",
   "id": "a074416d",
   "metadata": {},
   "source": [
    "**Ans:** The Python interpreter first looks for an attribute in the object's namespace when an attribute is accessed on an object. The interpreter will then look for the attribute in the namespace of the object's class if it cannot be found in the object's namespace. Until the attribute is discovered or the interpreter reaches the top of the inheritance chain, this procedure will go up the inheritance chain.\n",
    "\n",
    "Attribute inheritance searches are always conducted from left to right. As a result, if an attribute is declared in more than one class along the inheritance chain, the attribute defined in the class that is leftmost in the inheritance chain will be returned.\n",
    "    \n",
    " #For example, consider the following code: "
   ]
  },
  {
   "cell_type": "code",
   "execution_count": 4,
   "id": "e3cce1d7",
   "metadata": {},
   "outputs": [
    {
     "name": "stdout",
     "output_type": "stream",
     "text": [
      "2\n"
     ]
    }
   ],
   "source": [
    "class A:\n",
    "    def __init__(self):\n",
    "        self.x = 1\n",
    "\n",
    "class B(A):\n",
    "    def __init__(self):\n",
    "        super().__init__()\n",
    "        self.x = 2\n",
    "\n",
    "c = B()\n",
    "print(c.x)"
   ]
  },
  {
   "cell_type": "markdown",
   "id": "480bff5e",
   "metadata": {},
   "source": [
    "In this example, the attribute x is defined in both the A class and the B class. However, since the B class is defined to the left of the A class in the inheritance chain, the attribute that is returned when the print(c.x) statement is executed is the attribute that is defined in the B class, which is 2."
   ]
  },
  {
   "cell_type": "code",
   "execution_count": null,
   "id": "48bff83b",
   "metadata": {},
   "outputs": [],
   "source": []
  },
  {
   "cell_type": "markdown",
   "id": "096d7b0b",
   "metadata": {},
   "source": [
    "### Q3. How do you distinguish between a class object and an instance object?\n",
    "**Ans:** The differences between a class object and an instance object are:\n",
    "In object-oriented programming, the terms \"class object\" and \"instance object\" refer to different concepts:\n",
    "\n",
    "**1. Class Object:** A class object represents the blueprint or template for creating objects of a specific class. It defines the common properties, attributes, and behaviors that all instances of the class will have. In simpler terms, a class object describes the general characteristics of objects that can be created from it. It defines the structure and behavior of the objects but doesn't actually hold any specific data values.\n",
    "\n",
    "**2. Instance Object:** An instance object, also known as an instance or simply an object, is a specific occurrence or realization of a class. It is created based on the blueprint provided by the class object. Each instance has its own unique set of data values and can have its own state and behavior, independent of other instances of the same class. An instance object is essentially a concrete representation of a class, with actual data stored in its attributes.\n",
    "\n",
    "To summarize, a class object defines the overall structure and behavior of a class, while an instance object is a specific entity created from that class, holding its own unique data values and having its own state and behavior."
   ]
  },
  {
   "cell_type": "code",
   "execution_count": null,
   "id": "c56336ed",
   "metadata": {},
   "outputs": [],
   "source": []
  },
  {
   "cell_type": "markdown",
   "id": "fd8cc6bc",
   "metadata": {},
   "source": [
    "### Q4. What makes the first argument in a class’s method function special?\n",
    "By convention, the first parameter in a class' method function in Python is usually called \"self.\" Because it refers to the instance object on which the method is being called, this argument is unique. It enables the method to get at and change the behavior and characteristics of the instance.\n",
    "\n",
    "By convention, we must specify'self' as the first parameter when defining a method inside a class. Python automatically gives the instance object as the'self' parameter when we call a method on a class instance. This enables the method to interact with the particular instance and gain access to its methods and properties.\n",
    "\n",
    "By acting as a reference to the instance itself, the'self' option allows the method to interact with its own data and behavior. We can use it to call other instance methods, read and edit instance variables, and carry out a variety of actions unique to that single instance.\n",
    "\n",
    "For example, consider a Car class with a method called start_engine:"
   ]
  },
  {
   "cell_type": "code",
   "execution_count": 5,
   "id": "26d5a031",
   "metadata": {},
   "outputs": [
    {
     "name": "stdout",
     "output_type": "stream",
     "text": [
      "Engine started.\n"
     ]
    }
   ],
   "source": [
    "class Car:\n",
    "    def start_engine(self):\n",
    "        print(\"Engine started.\")\n",
    "\n",
    "my_car = Car()\n",
    "my_car.start_engine()"
   ]
  },
  {
   "cell_type": "markdown",
   "id": "aefec90d",
   "metadata": {},
   "source": [
    "In this example, when my_car.start_engine() is called, self inside the start_engine method will refer to the my_car instance. This allows the method to perform actions specific to my_car, such as printing \"Engine started.\" Without the self parameter, the method wouldn't have access to the instance and its attributes."
   ]
  },
  {
   "cell_type": "code",
   "execution_count": null,
   "id": "7b131564",
   "metadata": {},
   "outputs": [],
   "source": []
  },
  {
   "cell_type": "markdown",
   "id": "04b0914d",
   "metadata": {},
   "source": [
    "### Q5. What is the purpose of the **__init__** method?\n",
    "**Ans:** \n",
    "\n",
    "The  **__init__**  method, also known as the constructor, is a special method in Python classes. It is automatically called when an instance of a class is created. The main purpose of the **__init__** method is to initialize the attributes of the object.\n",
    "\n",
    "Here are some key points about the **__init__** method:\n",
    "\n",
    "**Initialization:** The **__init__** method allows us to set the initial state of an object by assigning values to its attributes. These attributes represent the data associated with the object.\n",
    "\n",
    "**Method Signature:** The **__init__** method is defined with the name **__init__** and takes self as its first parameter. Additional parameters can be added to the method signature to allow the caller to provide initial values for specific attributes.\n",
    "\n",
    "**Automatic Invocation:** When we create an instance of a class using the class name followed by parentheses, like my_object = MyClass(), Python automatically calls the **__init__** method of that class, passing the newly created object as self. This initialization step allows us to set up the object's initial state.\n",
    "\n",
    "**Attribute Assignment:** Inside the **__init__** method, we can assign values to the instance attributes using the self parameter. These attributes become specific to each instance of the class and can be accessed and modified throughout the object's lifetime."
   ]
  },
  {
   "cell_type": "code",
   "execution_count": 12,
   "id": "1cc4a2d6",
   "metadata": {},
   "outputs": [
    {
     "name": "stdout",
     "output_type": "stream",
     "text": [
      "Alice\n",
      "25\n"
     ]
    }
   ],
   "source": [
    "class Person:\n",
    "    def __init__(self, name, age):\n",
    "        self.name = name\n",
    "        self.age = age\n",
    "\n",
    "person1 = Person(\"Alice\", 25)\n",
    "print(person1.name)\n",
    "print(person1.age)"
   ]
  },
  {
   "cell_type": "code",
   "execution_count": null,
   "id": "28f21e56",
   "metadata": {},
   "outputs": [],
   "source": []
  },
  {
   "cell_type": "markdown",
   "id": "3e47943f",
   "metadata": {},
   "source": [
    "### Q6. What is the process for creating a class instance?\n",
    "**Ans** <br>\n",
    "To create an instance of a class in Python, we need to follow these steps:\n",
    "\n",
    "Define the Class: First, we need to define a class using the class keyword. The class serves as a blueprint for creating objects of that type. It specifies the attributes and methods that the objects will have.\n",
    "\n",
    "Instantiate the Class: To create an instance of the class, we can call the class as if it were a function, followed by parentheses. This creates a new object based on the class definition. The parentheses can be empty or contain arguments, depending on the parameters defined in the **__init__** method (the constructor) of the class.\n",
    "\n",
    "Assign the Instance: It's common to assign the instance to a variable for further use. We can choose any valid variable name to represent the instance."
   ]
  },
  {
   "cell_type": "code",
   "execution_count": 8,
   "id": "28e040d2",
   "metadata": {},
   "outputs": [
    {
     "name": "stdout",
     "output_type": "stream",
     "text": [
      "Toyota\n",
      "Red\n"
     ]
    }
   ],
   "source": [
    "class Car:\n",
    "    def __init__(self, brand, color):\n",
    "        self.brand = brand\n",
    "        self.color = color\n",
    "\n",
    "# Create an instance of the Car class\n",
    "my_car = Car(\"Toyota\", \"Red\")\n",
    "\n",
    "# Access and use the instance attributes\n",
    "print(my_car.brand)\n",
    "print(my_car.color)"
   ]
  },
  {
   "cell_type": "code",
   "execution_count": null,
   "id": "d07a70af",
   "metadata": {},
   "outputs": [],
   "source": []
  },
  {
   "cell_type": "markdown",
   "id": "8ddf33a9",
   "metadata": {},
   "source": [
    "### Q7. What is the process for creating a class?\n",
    "**Ans**\n",
    "\n",
    "To create a 'class' in Python, we can follow these steps:\n",
    "\n",
    "**Use the class Keyword:** Begin by using the class keyword, followed by the name we want to give to our class. By convention, class names are written in CamelCase, starting with an uppercase letter.\n",
    "\n",
    "**Define Class Attributes:** Inside the class, we can define attributes, which are variables associated with the class. These attributes can hold data values that are specific to the class. They are defined within the class but outside any method.\n",
    "\n",
    "**Define Methods:** Methods are functions associated with the class that define the behavior and actions that the class can perform. Methods are defined within the class, just like regular functions, and they can access the class attributes and other methods.\n",
    "\n",
    "**Optionally Define a Constructor:** We can define a special method called __init__, also known as the constructor. It is automatically called when an instance of the class is created and is used to initialize the attributes of the object."
   ]
  },
  {
   "cell_type": "code",
   "execution_count": 13,
   "id": "cd0f60c9",
   "metadata": {},
   "outputs": [
    {
     "name": "stdout",
     "output_type": "stream",
     "text": [
      "5\n",
      "78.53975\n"
     ]
    }
   ],
   "source": [
    "class Circle:\n",
    "    # Class attribute\n",
    "    pi = 3.14159\n",
    "    \n",
    "    # Instance attribute\n",
    "    def __init__(self, radius):\n",
    "        self.radius = radius\n",
    "        \n",
    "    # Method\n",
    "    def calculate_area(self):\n",
    "        return Circle.pi * (self.radius ** 2)\n",
    "\n",
    "# Create an instance of the Circle class\n",
    "my_circle = Circle(5)\n",
    "\n",
    "# Access and use the instance attribute and method\n",
    "print(my_circle.radius)           \n",
    "print(my_circle.calculate_area())"
   ]
  },
  {
   "cell_type": "code",
   "execution_count": null,
   "id": "73db3254",
   "metadata": {},
   "outputs": [],
   "source": []
  },
  {
   "cell_type": "code",
   "execution_count": null,
   "id": "7d44f175",
   "metadata": {},
   "outputs": [],
   "source": []
  },
  {
   "cell_type": "markdown",
   "id": "b58c55d6",
   "metadata": {},
   "source": [
    "### Q8. How would you define the superclasses of a class?\n",
    "\n",
    "The superclasses of a class, also known as parent classes or base classes, are the classes from which a particular class inherits. Inheritance is a fundamental concept in object-oriented programming that allows a class to acquire the attributes and methods of its superclasses.\n",
    "\n",
    "To define the superclasses of a class, we can follow these steps:\n",
    "\n",
    "**1. Define the Superclasses:** Determine which classes we want to use as the superclasses for our new class. In Python, a class can have one or more superclasses, forming a hierarchy of classes.\n",
    "\n",
    "**2. Specify Inheritance:** In the class definition line of our new class, include the names of the desired superclasses inside parentheses, following the class name. This indicates that our class inherits from those superclasses.\n",
    "\n",
    "Here's an example that demonstrates defining the superclasses of a class:"
   ]
  },
  {
   "cell_type": "code",
   "execution_count": 11,
   "id": "22b3cae9",
   "metadata": {},
   "outputs": [
    {
     "name": "stdout",
     "output_type": "stream",
     "text": [
      "Driving the vehicle.\n",
      "Driving the car.\n"
     ]
    }
   ],
   "source": [
    "class Vehicle:\n",
    "    def __init__(self, brand):\n",
    "        self.brand = brand\n",
    "\n",
    "    def drive(self):\n",
    "        print(\"Driving the vehicle.\")\n",
    "\n",
    "class Car(Vehicle):\n",
    "    def __init__(self, brand, model):\n",
    "        super().__init__(brand)\n",
    "        self.model = model\n",
    "\n",
    "    def drive(self):\n",
    "        super().drive()\n",
    "        print(\"Driving the car.\")\n",
    "\n",
    "my_car = Car(\"Toyota\", \"Camry\")\n",
    "my_car.drive()"
   ]
  },
  {
   "cell_type": "markdown",
   "id": "5166ffb8",
   "metadata": {},
   "source": [
    "In this example, we define two classes: `Vehicle` and `Car`. The `Car` class is the subclass (derived class) of the `Vehicle` class, making `Vehicle` the superclass (base class) of `Car`.\n",
    "\n",
    "To specify the inheritance relationship, we include the name of the superclass `Vehicle` inside parentheses after the class name in the `Car` class definition line: `class Car(Vehicle)`. This indicates that `Car` inherits from `Vehicle`.\n",
    "\n",
    "By inheriting from `Vehicle`, the `Car` class gains access to the attributes and methods defined in `Vehicle`. In the `Car` class, we use the `super()` function to call the superclass's `__init__` method to initialize the `brand` attribute. We also override the `drive` method to add specific behavior for cars while still invoking the superclass's `drive` method using `super().drive()`.\n",
    "\n",
    "When we create an instance of the `Car` class (`my_car`), it has both the attributes and methods inherited from the `Vehicle` class and its own specific attributes and methods."
   ]
  },
  {
   "cell_type": "code",
   "execution_count": null,
   "id": "7894b7be",
   "metadata": {},
   "outputs": [],
   "source": []
  }
 ],
 "metadata": {
  "kernelspec": {
   "display_name": "Python 3 (ipykernel)",
   "language": "python",
   "name": "python3"
  },
  "language_info": {
   "codemirror_mode": {
    "name": "ipython",
    "version": 3
   },
   "file_extension": ".py",
   "mimetype": "text/x-python",
   "name": "python",
   "nbconvert_exporter": "python",
   "pygments_lexer": "ipython3",
   "version": "3.9.13"
  }
 },
 "nbformat": 4,
 "nbformat_minor": 5
}
