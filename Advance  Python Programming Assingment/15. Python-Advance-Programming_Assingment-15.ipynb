{
 "cells": [
  {
   "cell_type": "markdown",
   "id": "02d9ed9f",
   "metadata": {},
   "source": [
    "## 1.\tWhat are the new features added in Python 3.8 version?"
   ]
  },
  {
   "cell_type": "markdown",
   "id": "de7ac31c",
   "metadata": {},
   "source": [
    "Python 3.8, released on October 14, 2019, introduced several new features and improvements. Some of the key features added in Python 3.8 include:\n",
    "\n",
    "1. **Assignment Expressions (The Walrus Operator):** Introduced the `:=` operator, which allows assignment and return of a value in a single expression.\n",
    "\n",
    "2. **Positional-only Parameters:** Functions can now define positional-only parameters by using the `/` syntax in the parameter list, ensuring certain arguments can only be passed positionally and not as keyword arguments.\n",
    "\n",
    "3. **f-strings Improvements:** Added support for the `=` option in f-strings to display variable names and their values for debugging purposes.\n",
    "\n",
    "4. **The `math.prod()` Function:** Included a new `math.prod()` function to calculate the product of items in an iterable.\n",
    "\n",
    "5. **The `functools.cache` Decorator:** Introduced a built-in memoization decorator `functools.cache` to cache function results for improved performance.\n",
    "\n",
    "6. **Syntax Warnings for the 'continue' Statement:** A SyntaxWarning is now raised when using `continue` inside a `finally` block.\n",
    "\n",
    "7. **`__future__` Imports by Default:** Certain features that were previously introduced via the `__future__` imports are now enabled by default in Python 3.8.\n",
    "\n",
    "8. **The `__future__` `annotations` Import:** Introduced the `__future__` `annotations` import to allow postponed evaluation of type annotations.\n",
    "\n",
    "9. **Reversed Dictionary Merge Order:** Changed the order of merging dictionaries using the `update()` method, now preserving the order of the elements from the first dictionary.\n",
    "\n",
    "10. **Improved Typing Module:** Various improvements and additions to the `typing` module to support new features and improve type hinting capabilities.\n",
    "\n",
    "These are just some of the new features added in Python 3.8. The release also included performance improvements, security enhancements, and other changes to enhance the overall Python experience."
   ]
  },
  {
   "cell_type": "code",
   "execution_count": 2,
   "id": "6f61baa1",
   "metadata": {},
   "outputs": [
    {
     "name": "stdout",
     "output_type": "stream",
     "text": [
      "The list has 5 elements.\n",
      "The list has 5 elements.\n"
     ]
    }
   ],
   "source": [
    "#1. **Assignment Expressions (The Walrus Operator):**\n",
    "my_list = [1,2,3,4,5]\n",
    "# Before Python 3.8\n",
    "if (count := len(my_list)) > 0:\n",
    "    print(f\"The list has {count} elements.\")\n",
    "\n",
    "# In Python 3.8 and later\n",
    "if (count := len(my_list)) > 0:\n",
    "    print(f\"The list has {count} elements.\")"
   ]
  },
  {
   "cell_type": "code",
   "execution_count": 8,
   "id": "81833c5c",
   "metadata": {},
   "outputs": [
    {
     "name": "stdout",
     "output_type": "stream",
     "text": [
      "My name is Alice and I am 30 years old.\n",
      "My name is name='Alice' and I am age=30 years old.\n"
     ]
    }
   ],
   "source": [
    "#2. **f-strings Improvements:**\n",
    "\n",
    "name = \"Alice\"\n",
    "age = 30\n",
    "\n",
    "# Old-style f-string\n",
    "print(\"My name is %s and I am %d years old.\" % (name, age))\n",
    "\n",
    "# Using '=' option for debugging\n",
    "print(f\"My name is {name=} and I am {age=} years old.\")"
   ]
  },
  {
   "cell_type": "code",
   "execution_count": 9,
   "id": "9796c077",
   "metadata": {},
   "outputs": [
    {
     "name": "stdout",
     "output_type": "stream",
     "text": [
      "120\n"
     ]
    }
   ],
   "source": [
    "#3. **The `math.prod()` Function:**\n",
    "\n",
    "import math\n",
    "\n",
    "numbers = [2, 3, 4, 5]\n",
    "product = math.prod(numbers)\n",
    "print(product)  # Output: 120"
   ]
  },
  {
   "cell_type": "code",
   "execution_count": 10,
   "id": "8a1e27c1",
   "metadata": {},
   "outputs": [],
   "source": [
    "#4. **The `functools.cache` Decorator:**\n",
    "\n",
    "import functools\n",
    "\n",
    "@functools.cache\n",
    "def fibonacci(n):\n",
    "    if n <= 1:\n",
    "        return n\n",
    "    return fibonacci(n-1) + fibonacci(n-2)\n",
    "\n",
    "result = fibonacci(10)"
   ]
  },
  {
   "cell_type": "code",
   "execution_count": 11,
   "id": "5604340e",
   "metadata": {},
   "outputs": [
    {
     "ename": "SyntaxError",
     "evalue": "'continue' not properly in loop (3042535762.py, line 11)",
     "output_type": "error",
     "traceback": [
      "\u001b[1;36m  File \u001b[1;32m\"C:\\Users\\MAHMUD\\AppData\\Local\\Temp\\ipykernel_2824\\3042535762.py\"\u001b[1;36m, line \u001b[1;32m11\u001b[0m\n\u001b[1;33m    continue  # Raises a SyntaxWarning\u001b[0m\n\u001b[1;37m    ^\u001b[0m\n\u001b[1;31mSyntaxError\u001b[0m\u001b[1;31m:\u001b[0m 'continue' not properly in loop\n"
     ]
    }
   ],
   "source": [
    "#5. **Syntax Warnings for the 'continue' Statement:**\n",
    "\n",
    "try:\n",
    "    for i in range(5):\n",
    "        if i == 2:\n",
    "            raise ValueError\n",
    "except ValueError:\n",
    "    print(\"Caught ValueError\")\n",
    "finally:\n",
    "    print(\"Finally block\")\n",
    "    continue  # Raises a SyntaxWarning"
   ]
  },
  {
   "cell_type": "code",
   "execution_count": 12,
   "id": "4c387fc3",
   "metadata": {},
   "outputs": [
    {
     "name": "stdout",
     "output_type": "stream",
     "text": [
      "{'a': 1, 'b': 3, 'c': 4}\n",
      "{'b': 3, 'c': 4, 'a': 1}\n"
     ]
    }
   ],
   "source": [
    "#6. Reversed Dictionary Merge Order:**\n",
    "\n",
    "dict1 = {'a': 1, 'b': 2}\n",
    "dict2 = {'b': 3, 'c': 4}\n",
    "\n",
    "# Before Python 3.8\n",
    "dict1.update(dict2)\n",
    "print(dict1)  # Output: {'a': 1, 'b': 3, 'c': 4}\n",
    "\n",
    "# In Python 3.8 and later\n",
    "dict2.update(dict1)\n",
    "print(dict2)  # Output: {'b': 2, 'c': 4, 'a': 1}"
   ]
  },
  {
   "cell_type": "code",
   "execution_count": 13,
   "id": "8be2a326",
   "metadata": {},
   "outputs": [
    {
     "name": "stdout",
     "output_type": "stream",
     "text": [
      "Name: Alice, Age: 30\n",
      "Name: Bob, Age: 25\n",
      "Name: Eve, Age: 35\n"
     ]
    }
   ],
   "source": [
    "#7. **Improved Typing Module:**\n",
    "\n",
    "from typing import List, Tuple\n",
    "\n",
    "def process_data(data: List[Tuple[str, int]]) -> None:\n",
    "    for name, age in data:\n",
    "        print(f\"Name: {name}, Age: {age}\")\n",
    "\n",
    "data_list = [('Alice', 30), ('Bob', 25), ('Eve', 35)]\n",
    "process_data(data_list)"
   ]
  },
  {
   "cell_type": "code",
   "execution_count": null,
   "id": "6b46fd01",
   "metadata": {},
   "outputs": [],
   "source": []
  },
  {
   "cell_type": "code",
   "execution_count": null,
   "id": "2870bd22",
   "metadata": {},
   "outputs": [],
   "source": []
  },
  {
   "cell_type": "markdown",
   "id": "9b49a548",
   "metadata": {},
   "source": [
    "#### 2.\tWhat is monkey patching in Python?\n",
    "**Ans:** In Python, the term monkey patch refers to making dynamic (or run-time) modifications to a class or module. In Python, we can actually change the behavior of code at run-time."
   ]
  },
  {
   "cell_type": "code",
   "execution_count": null,
   "id": "21a0ab23",
   "metadata": {},
   "outputs": [],
   "source": []
  },
  {
   "cell_type": "code",
   "execution_count": 17,
   "id": "ee6fa7d3",
   "metadata": {},
   "outputs": [
    {
     "name": "stdout",
     "output_type": "stream",
     "text": [
      "<function monkey_f at 0x00000243EA855EE0>\n",
      "monkey_f() is being called\n"
     ]
    }
   ],
   "source": [
    "class A:\n",
    "    def func(self):\n",
    "        print(\"func() is being called\")\n",
    "\n",
    "def monkey_f(self):\n",
    "    print(\"monkey_f() is being called\")\n",
    "\n",
    "A.func = monkey_f\n",
    "some_object = A()\n",
    "some_object.func()"
   ]
  },
  {
   "cell_type": "markdown",
   "id": "430104b8",
   "metadata": {},
   "source": [
    "## 3.\tWhat is the difference between a shallow copy and deep copy?"
   ]
  },
  {
   "cell_type": "markdown",
   "id": "6dcce521",
   "metadata": {},
   "source": [
    "The distinctions between a shallow copy and a deep copy are as follows:\n",
    "\n",
    "1. **Shallow Copy:**\n",
    "   - Created using the `copy()` method.\n",
    "   - Changes made in the copied object affect the original object because they both reference the same memory address.\n",
    "   - The copy shares the inner references of nested objects with the original.\n",
    "\n"
   ]
  },
  {
   "cell_type": "code",
   "execution_count": 19,
   "id": "116f2366",
   "metadata": {},
   "outputs": [
    {
     "name": "stdout",
     "output_type": "stream",
     "text": [
      "[[100, 2, 3], [4, 5, 6]]\n"
     ]
    }
   ],
   "source": [
    "import copy\n",
    "\n",
    "original_list = [[1, 2, 3], [4, 5, 6]]\n",
    "shallow_copied_list = copy.copy(original_list)\n",
    "\n",
    "shallow_copied_list[0][0] = 100\n",
    "\n",
    "print(original_list)  # Output: [[100, 2, 3], [4, 5, 6]]"
   ]
  },
  {
   "cell_type": "markdown",
   "id": "1bf68fb8",
   "metadata": {},
   "source": [
    "2. **Deep Copy:**\n",
    "   - Created using the `deepcopy()` function from the `copy` module.\n",
    "   - Changes made in the copied object do not impact the original object as they have separate memory addresses.\n",
    "   - The copy creates new instances for all nested objects, resulting in a fully independent copy."
   ]
  },
  {
   "cell_type": "code",
   "execution_count": 18,
   "id": "509364ea",
   "metadata": {},
   "outputs": [
    {
     "name": "stdout",
     "output_type": "stream",
     "text": [
      "[[1, 2, 3], [4, 5, 6]]\n"
     ]
    }
   ],
   "source": [
    "import copy\n",
    "\n",
    "original_list = [[1, 2, 3], [4, 5, 6]]\n",
    "deep_copied_list = copy.deepcopy(original_list)\n",
    "\n",
    "deep_copied_list[0][0] = 100\n",
    "\n",
    "print(original_list)  # Output: [[1, 2, 3], [4, 5, 6]]"
   ]
  },
  {
   "cell_type": "code",
   "execution_count": null,
   "id": "8254b91a",
   "metadata": {},
   "outputs": [],
   "source": []
  },
  {
   "cell_type": "code",
   "execution_count": null,
   "id": "c0f56936",
   "metadata": {},
   "outputs": [],
   "source": []
  },
  {
   "cell_type": "markdown",
   "id": "b6b51b48",
   "metadata": {},
   "source": [
    "## 4.\tWhat is the maximum possible length of an identifier?"
   ]
  },
  {
   "cell_type": "markdown",
   "id": "32dd7b92",
   "metadata": {},
   "source": [
    "**Answer:** <br>In Python, identifiers can have a maximum length of 79 characters. Python is a case-sensitive high-level programming language, known for its complexity and garbage collection capabilities. While Python allows identifiers to have unlimited length, the PEP-8 style guide recommends adhering to a 79-character limit to maintain consistency and readability."
   ]
  },
  {
   "cell_type": "markdown",
   "id": "726679fd",
   "metadata": {},
   "source": [
    "## 5.\tWhat is generator comprehension?"
   ]
  },
  {
   "cell_type": "markdown",
   "id": "e6ee8397",
   "metadata": {},
   "source": [
    "**Answer:** Generator comprehension is a concise way to define a generator in Python, specified within a single line.\n",
    "\n",
    "Mastering this syntax is crucial for writing clear and straightforward code.\n",
    "\n",
    "Unlike list comprehension that uses square brackets, generator comprehension employs round brackets.\n",
    "\n",
    "Generators yield one item at a time and generate items only on demand, making them memory-efficient compared to lists. In contrast, list comprehension reserves memory for the entire list."
   ]
  },
  {
   "cell_type": "code",
   "execution_count": 23,
   "id": "bf6781e1",
   "metadata": {},
   "outputs": [
    {
     "name": "stdout",
     "output_type": "stream",
     "text": [
      "[1, 2, 3, 4, 5, 6, 7, 8, 9, 10]\n",
      "<generator object <genexpr> at 0x00000243EA950510>\n",
      "1 2 3 4 5 6 7 8 9 10 "
     ]
    }
   ],
   "source": [
    "# Using List Comprehension\n",
    "numbers_list = [x for x in range(1, 11)]\n",
    "print(numbers_list)\n",
    "\n",
    "# Using Generator Comprehension\n",
    "numbers_generator = (x for x in range(1, 11))\n",
    "print(numbers_generator)\n",
    "\n",
    "# Using the generator to produce values on demand\n",
    "for number in numbers_generator:\n",
    "    print(number,end=' ')\n"
   ]
  },
  {
   "cell_type": "code",
   "execution_count": null,
   "id": "929af7ce",
   "metadata": {},
   "outputs": [],
   "source": []
  }
 ],
 "metadata": {
  "kernelspec": {
   "display_name": "Python 3 (ipykernel)",
   "language": "python",
   "name": "python3"
  },
  "language_info": {
   "codemirror_mode": {
    "name": "ipython",
    "version": 3
   },
   "file_extension": ".py",
   "mimetype": "text/x-python",
   "name": "python",
   "nbconvert_exporter": "python",
   "pygments_lexer": "ipython3",
   "version": "3.9.13"
  }
 },
 "nbformat": 4,
 "nbformat_minor": 5
}
