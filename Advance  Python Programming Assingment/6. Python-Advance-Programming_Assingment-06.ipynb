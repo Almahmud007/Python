{
 "cells": [
  {
   "cell_type": "markdown",
   "id": "9dce2ceb",
   "metadata": {},
   "source": [
    "## Q1. Describe three applications for exception processing."
   ]
  },
  {
   "cell_type": "markdown",
   "id": "274fddb3",
   "metadata": {},
   "source": [
    "**Ans:** To identify the exceptions that are the root of the runtime fault, exception processing is crucial. When an exception occurs, programs are stopped as runtime errors.\n",
    "\n",
    "Exception Processing is used in Various Applications of which few examples are:\n",
    "\n",
    "1. Unless handled, exceptions crash the program. Exception handling prevents program crashes. Exception handling can handle division by zero, accessing a non-existent file, and invalid input.\n",
    "2. Exception handling can display user-friendly error messages. This helps users understand what went wrong and how to repair it. Exception handling can indicate the type of exception, line number, and error description.\n",
    "3. After an exception, you may want to resume execution. If the exception is not critical or recoverable, you may continue execution. Catching the exception and executing a block of code to manage it is exception handling."
   ]
  },
  {
   "cell_type": "markdown",
   "id": "c82ae389",
   "metadata": {},
   "source": [
    "#### Q2. What happens if you don't do something extra to treat an exception?\n",
    "**Ans:** If exceptions are not handled, the program's flow will be disrupted during execution, which could result in an unexpected end to the program. In other words, a software will crash if it is unable to handle exceptions."
   ]
  },
  {
   "cell_type": "markdown",
   "id": "5adab9bd",
   "metadata": {},
   "source": [
    "## Q3. What are your options for recovering from an exception in your script?"
   ]
  },
  {
   "cell_type": "markdown",
   "id": "11f81210",
   "metadata": {},
   "source": [
    "**Answer:** <br>\n",
    "--**`Try-except:`** This is the most common way to recover from an exception. The `try` block contains the code that you want to execute, and the `except` block contains the code that you want to execute if an exception occurs.\n",
    "\n",
    "--**`Else`:** The `else` block is executed if no exception occurs in the `try` block.\n",
    "\n",
    "--**`Finally`:** The `finally` block is executed regardless of whether or not an exception occurs. This is useful for code that you need to run, such as closing a file or releasing a resource."
   ]
  },
  {
   "cell_type": "markdown",
   "id": "d7379d80",
   "metadata": {},
   "source": [
    "## Q4. Describe two methods for triggering exceptions in your script ?"
   ]
  },
  {
   "cell_type": "markdown",
   "id": "0d765bca",
   "metadata": {},
   "source": [
    "**Answer:** **`raise`** and **`assert`** are two methods that can be used to trigger manual exceptions in your script.\n",
    "\n",
    "1. Using the `raise` keyword: The `raise` keyword is used to raise an exception. You can define what kind of error to raise, and the text to print to the user. For example:"
   ]
  },
  {
   "cell_type": "code",
   "execution_count": 1,
   "id": "55ca2b5b",
   "metadata": {},
   "outputs": [
    {
     "name": "stdout",
     "output_type": "stream",
     "text": [
      "n must be non-negative\n"
     ]
    }
   ],
   "source": [
    "# Example of raise\n",
    "def factorial(n):\n",
    "    if n < 0:\n",
    "        raise ValueError(\"n must be non-negative\")\n",
    "    result = 1\n",
    "    for i in range(1, n + 1):\n",
    "        result *= i\n",
    "    return result\n",
    "\n",
    "try:\n",
    "    print(factorial(-1))\n",
    "except ValueError as e:\n",
    "    print(e)"
   ]
  },
  {
   "cell_type": "markdown",
   "id": "b59bdc27",
   "metadata": {},
   "source": [
    "2. Using `assert` statements: `assert` statements are used to check for conditions that must be true. If the condition is not true, an `AssertionError` exception is raised. For Example:"
   ]
  },
  {
   "cell_type": "code",
   "execution_count": 3,
   "id": "b9bfe958",
   "metadata": {},
   "outputs": [
    {
     "name": "stdout",
     "output_type": "stream",
     "text": [
      "n must be non-negative\n"
     ]
    }
   ],
   "source": [
    "# Example of assert\n",
    "def factorial(n):\n",
    "    assert n >= 0, \"n must be non-negative\"\n",
    "    result = 1\n",
    "    for i in range(1, n + 1):\n",
    "        result *= i\n",
    "    return result\n",
    "\n",
    "try:\n",
    "    print(factorial(-1))\n",
    "except AssertionError as e:\n",
    "    print(e)"
   ]
  },
  {
   "cell_type": "markdown",
   "id": "6335bd5c",
   "metadata": {},
   "source": [
    "## Q5. Identify two methods for specifying actions to be executed at termination time, regardless of whether or not an exception exists."
   ]
  },
  {
   "cell_type": "markdown",
   "id": "95fab454",
   "metadata": {},
   "source": [
    "**Answer:** Python Provides **`else`** and **`finally`** blocks for specifying actions to be executed at termination time, regardless of whether an exceptions exists or not.\n",
    "\n",
    "In else block, code is written to handle if no exception is raised by code in try block.\n",
    "\n",
    "In finally block, code executes regardless of whether or not an exception exists."
   ]
  },
  {
   "cell_type": "code",
   "execution_count": null,
   "id": "6279537b",
   "metadata": {},
   "outputs": [],
   "source": []
  }
 ],
 "metadata": {
  "kernelspec": {
   "display_name": "Python 3 (ipykernel)",
   "language": "python",
   "name": "python3"
  },
  "language_info": {
   "codemirror_mode": {
    "name": "ipython",
    "version": 3
   },
   "file_extension": ".py",
   "mimetype": "text/x-python",
   "name": "python",
   "nbconvert_exporter": "python",
   "pygments_lexer": "ipython3",
   "version": "3.9.13"
  }
 },
 "nbformat": 4,
 "nbformat_minor": 5
}
