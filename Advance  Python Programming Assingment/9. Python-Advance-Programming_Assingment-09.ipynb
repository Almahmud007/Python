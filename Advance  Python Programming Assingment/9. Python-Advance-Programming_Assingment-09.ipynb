{
 "cells": [
  {
   "cell_type": "markdown",
   "id": "e635edfa",
   "metadata": {},
   "source": [
    "## Q1. In Python 3.X, what are the names and functions of string object types?"
   ]
  },
  {
   "cell_type": "markdown",
   "id": "1b9784d3",
   "metadata": {},
   "source": [
    "\n",
    "**Answer:** The following are the names and functions of string object types in Python 3.X\n",
    "\n",
    "- **`len(<string>) ->`** Returns the length of the given string.\n",
    "- **`<string>.index(<sub_string>) ->`** Returns the lowest index of substring if substring is found in the string.\n",
    "- **`<string>.rindex(<sub_string>) ->`** Returns the highest index of substring if substring is found in the string.\n",
    "- **`max(<string>) ->`** Returns the highest Alphabetical Character in the string as per ASCII.\n",
    "- **`min(<string>) ->`** Returns the lowest Alphabetical Character in the string as per ASCII.\n",
    "- **`<string>.splitlines() ->`** Returns a list of lines in the string.\n",
    "- **`<string>.capitalize() ->`** Returns the string with first character capitalized.\n",
    "- **`<string>.upper() ->`** Returns the string with all characters in uppercase.\n",
    "- **`<string>.lower() ->`** Returns the string with all characters in lowercase\n",
    "- **`<string>.casefold() ->`** Returns the string in lowercase which can be used for caseless comparisions.\n",
    "- **`<string>.expandtabs(no_of_spaces) ->`** Replaces tabs in a string with specified no of spaces default is 8\n",
    "- **`<string>.find(<sub_string>) ->`** Returns lowest index of substring if substring is found in the string else returns -1.\n",
    "- **`<string>.rfind(<sub_string>) ->`** Returns highest index of substring if substring is found in the string else returns -1.\n",
    "- **`<string>.count(<char>) ->`** Returns the no of occurances of the char in the given string.\n",
    "- **`<string>.split(<sep>) ->`** Returns list of words seperated by given sep else seperated by whitespace.\n",
    "- **`<string>.rsplit(<sep>) ->`** Returns list of words seperated by given sep else seperated by whitespace scanning from end.\n",
    "- **`<string>.lstrip() ->`** Returns a copy of where leading whitespaces are removed.\n",
    "- **`<string>.rstrip() ->`** Returns a copy of where trailed whitespaces are removed.\n",
    "- **`<string>.strip() ->`** Returns a copy of where both leading and trailing whitespaces are removed.\n",
    "- **`<string>.swapcase() ->`** Swaps lowercase characters with uppercase and vice versa.\n",
    "- **`<sep>.join(<list>) ->`** Concatenates a list or tuple of words with intervening occuernces of sep.\n",
    "- **`<string>.translate(<mapping_table>) ->`** translates the characters using table.\n",
    "- **`<string>.maketrans(<dict>) ->`** Creating a mapping translation tbale usable for **`<string>.translate(<mapping_table>)`**\n",
    "- **`<string>.replace(<char_1>,<char_2>) ->`** Replace all occurances of char_1 with char_2 in string.\n",
    "- **`<string>.encode() ->`** Encodes string into any encoding supported by python. Default encoding is **`UTF-8`**.\n",
    "- **`<string>.ljust(<no_of_spaces>) ->`** Left-justify in a field of given width.\n",
    "- **`<string>.rjust(<no_of_spaces>) ->`** Right-justify in a field of given width.\n",
    "- **`<string>.center(<no_of_spaces>) ->`** Center-justify in a field of given width.\n",
    "- **`<stirng>.zfill(<length>) ->`** Zfill adds zeros to the begining of string until the specified length is reached.\n",
    "- **`<stirng>.isdecimal() ->`** Returns True if all characters in a string are decimal.\n",
    "- **`<string>.isalnum() ->`** Returns True if all characters in the string are AlphaNumeric.\n",
    "- **`<string>.istitle() ->`** Returns True if first character in a string is in Uppercase.\n",
    "- **`<string>.partition(<sub_string>) ->`** Splits string at first occurance of sub string and returns a tuple of 3 elements.\n",
    "- **`<string>.rpartition(<sub_string>) ->`** Splits string at last occurance of sub string and returns a tuple of 3 elements.\n",
    "- **`<string>.isidentifier() ->`** Returns True if give string is a valid identifier name.\n"
   ]
  },
  {
   "cell_type": "code",
   "execution_count": 5,
   "id": "471cc4af",
   "metadata": {},
   "outputs": [
    {
     "name": "stdout",
     "output_type": "stream",
     "text": [
      "datascience\n",
      "full stack data science bootcamp\n",
      "Mahchine Learning       Deep Learning\n",
      "2\n",
      "-1\n",
      "2\n",
      "['i', 'euro', '']\n",
      "['i', 'euro', '']\n",
      "17\n",
      "1\n",
      "6\n",
      "t\n",
      "A\n",
      "['Ineuron ', ' Full Stack ', ' Data Science ', ' Course ']\n",
      "Finding nemo\n",
      "DATAPIPELINES\n",
      "True\n",
      "True\n",
      "False\n",
      "('\"I could eat ', 'bananas', ' all day, bananas are my favorite fruit\"')\n",
      "('\"I could eat bananas all day, ', 'bananas', ' are my favorite fruit\"')\n",
      "True\n",
      "I2euro2\n",
      "b'Natural Language Processing'\n",
      "Nemo      \n",
      "      Nemo\n",
      "   Nemo   \n",
      "00000Hello\n",
      "EDA \n",
      " FE\n",
      "ML\n",
      "fEATURE eNGINEERING\n",
      "Iris_flower_Dataset\n",
      "Hello World!\n",
      "Hello World!\n"
     ]
    }
   ],
   "source": [
    "print('DataScience'.lower())\n",
    "print('Full Stack Data Science BootCamp'.casefold())\n",
    "print('Mahchine Learning \\tDeep Learning'.expandtabs(8))\n",
    "print('Sunny'.find('n'))\n",
    "print('Textile'.rfind('n'))\n",
    "print('Transformers'.count('s'))\n",
    "print('ineuron'.split('n'))\n",
    "print('ineuron'.rsplit('n'))\n",
    "\n",
    "print(len('Linear Regression'))\n",
    "print('Ineuron'.index('n'))\n",
    "print('Ineuron'.rindex('n'))\n",
    "print(max('Data_Scientist'))\n",
    "print(min('Data_Analyst'))\n",
    "print('Ineuron \\n Full Stack \\n Data Science \\n Course '.splitlines())\n",
    "print('finding nemo'.capitalize())\n",
    "print('datapipelines'.upper())\n",
    "\n",
    "print('1234567890'.isdecimal())\n",
    "print('IneuronFullStackDS'.isalnum())\n",
    "print('Ineuron Full Stack Data science'.istitle())\n",
    "print('\"I could eat bananas all day, bananas are my favorite fruit\"'.partition('bananas'))\n",
    "print('\"I could eat bananas all day, bananas are my favorite fruit\"'.rpartition('bananas'))\n",
    "print('GeeksForFreaks'.isidentifier())\n",
    "\n",
    "print('Ineuron'.replace('n','2'))\n",
    "print('Natural Language Processing'.encode())\n",
    "print('Nemo'.ljust(10))\n",
    "print('Nemo'.rjust(10))\n",
    "print('Nemo'.center(10))\n",
    "print('Hello'.zfill(10))\n",
    "\n",
    "\n",
    "print(' EDA '.lstrip())\n",
    "print(' FE '.rstrip())\n",
    "print(' ML '.strip())\n",
    "print('Feature Engineering'.swapcase())\n",
    "print('_'.join(['Iris','flower','Dataset']))\n",
    "mydict = {83:  80}\n",
    "print(\"Hello World!\".translate(mydict))\n",
    "txt = \"Hello World!\"\n",
    "mytable = txt.maketrans(\"M\", \"S\")\n",
    "print(txt.translate(mytable))\n"
   ]
  },
  {
   "cell_type": "code",
   "execution_count": null,
   "id": "a080f375",
   "metadata": {},
   "outputs": [],
   "source": []
  },
  {
   "cell_type": "markdown",
   "id": "dbf211cb",
   "metadata": {},
   "source": [
    "## Q2. How do the string forms in Python 3.X vary in terms of operations?"
   ]
  },
  {
   "cell_type": "markdown",
   "id": "904c304d",
   "metadata": {},
   "source": [
    "**Answer:**\n",
    "\n",
    "In Python 3.x, you can include non-ASCII Unicode characters in a string using Unicode escape sequences (`\\uXXXX`) or by directly writing the characters in the string, provided the source code file is saved with the appropriate Unicode encoding (usually UTF-8). Moreover, In Python3 default format of strings is Unicode Whereas in Pyton2 we need to explicitly mention Unicode value using `u`."
   ]
  },
  {
   "cell_type": "code",
   "execution_count": null,
   "id": "cbf16fb9",
   "metadata": {},
   "outputs": [],
   "source": []
  },
  {
   "cell_type": "markdown",
   "id": "a1730a0e",
   "metadata": {},
   "source": [
    "## Q3. In Python 3.X, how do you put non-ASCII Unicode characters in a string?"
   ]
  },
  {
   "cell_type": "markdown",
   "id": "92ce1d77",
   "metadata": {},
   "source": [
    "**Answer:** In Python 3.x **`unidecode()`** method from unidecode library can be used to put non-ASCII Unicode Characters in a string. "
   ]
  },
  {
   "cell_type": "code",
   "execution_count": 13,
   "id": "1717faab",
   "metadata": {},
   "outputs": [
    {
     "name": "stdout",
     "output_type": "stream",
     "text": [
      "kozuscek\n",
      "aamaar sonaar baaNlaa, aami tomaayy bhaalbaasi\n",
      "meraa sunhraa bNglaa, maiN tumse pyaar krtaa huuN\n",
      "Wo De Jin Se Meng Jia La ,Wo Ai Ni \n",
      "ya'enee wareqaamaa baanegelaa , 'ewadehaalahu\n",
      "Moia zolotaia bangla, ia liubliu tebia\n"
     ]
    }
   ],
   "source": [
    "from unidecode import unidecode\n",
    "print(unidecode(u'ko\\u017eu\\u0161\\u010dek'))\n",
    "print(unidecode('আমার সোনার বাংলা, আমি তোমায় ভালবাসি'))\n",
    "print(unidecode(\"मेरा सुनहरा बंगला, मैं तुमसे प्यार करता हूँ\"))\n",
    "print(unidecode(\"我的金色孟加拉，我愛你\"))\n",
    "print(unidecode(\"የእኔ ወርቃማ ባንግላ ፣ እወድሃለሁ\"))\n",
    "print(unidecode(\"Моя золотая бангла, я люблю тебя\"))"
   ]
  },
  {
   "cell_type": "code",
   "execution_count": null,
   "id": "3a1cdf8f",
   "metadata": {},
   "outputs": [],
   "source": []
  },
  {
   "cell_type": "markdown",
   "id": "b8612f7c",
   "metadata": {},
   "source": [
    "## Q4. In Python 3.X, what are the key differences between text-mode and binary-mode files?"
   ]
  },
  {
   "cell_type": "markdown",
   "id": "1aa9eae5",
   "metadata": {},
   "source": [
    "**Answer** \n",
    "\n",
    "The main distinction between text and binary files in Python is that a text file contains characters like letters, digits, and symbols, while a binary file contains bytes or a compiled version of a text file.\n",
    "\n",
    "When a file is opened in **text mode**, reading it automatically decodes the content (using platform default or specified encoding), returning it as a **str**; writing operations take a **str**, which is then encoded before being written to the file. Text mode supports end-of-line translation and encoding specification.\n",
    "\n",
    "On the other hand, when a file is opened in **binary mode** (by adding **`b`** to the mode string argument in `open()`), reading the file returns its content as raw and unchanged **bytes** object; writing operations require a **bytes** object to be written unchanged. Binary mode also accepts a **bytearray** object for writing to the file."
   ]
  },
  {
   "cell_type": "code",
   "execution_count": null,
   "id": "f2302b71",
   "metadata": {},
   "outputs": [],
   "source": []
  },
  {
   "cell_type": "markdown",
   "id": "a64d5125",
   "metadata": {},
   "source": [
    "## Q5. How can you interpret a Unicode text file containing text encoded in a different encoding than your platform's default?"
   ]
  },
  {
   "cell_type": "markdown",
   "id": "f9ad2926",
   "metadata": {},
   "source": [
    "**Answer:** \n",
    "\n",
    "To interpret a Unicode text file containing text encoded in a different encoding than your platform's default, you can specify the appropriate encoding explicitly when opening the file using the `open()` function in Python. For example:\n",
    "\n",
    "```python\n",
    "with open('filename.txt', 'r', encoding='utf-8') as file:\n",
    "    content = file.read()\n",
    "```\n"
   ]
  },
  {
   "cell_type": "code",
   "execution_count": null,
   "id": "cb092489",
   "metadata": {},
   "outputs": [],
   "source": []
  },
  {
   "cell_type": "markdown",
   "id": "b6635a90",
   "metadata": {},
   "source": [
    "## Q6. What is the best way to make a Unicode text file in a particular encoding format?"
   ]
  },
  {
   "cell_type": "markdown",
   "id": "eb2113d3",
   "metadata": {},
   "source": [
    "**Ans:**  Use **`str.encode()`** and **`file.write()`** to make a Unicode text file in a particular encoding format, default encoding format is **`UTF-18`**. \n",
    "- Call **`str.encode(encoding)`** with encoding set to **`utf8`** to encode str. \n",
    "- Call **`open(file, mode)`** to open a file with mode set to **`wb`** . **`wb`** writes to files in binary mode & preserves UTF-8format. \n",
    "- Call **`file.write(data)`** to write data to the file. "
   ]
  },
  {
   "cell_type": "code",
   "execution_count": 16,
   "id": "79543d99",
   "metadata": {},
   "outputs": [
    {
     "name": "stdout",
     "output_type": "stream",
     "text": [
      "b'\\xe0\\xa6\\x86\\xe0\\xa6\\xae\\xe0\\xa6\\xbe\\xe0\\xa6\\xb0 \\xe0\\xa6\\xb8\\xe0\\xa7\\x8b\\xe0\\xa6\\xa8\\xe0\\xa6\\xbe\\xe0\\xa6\\xb0 \\xe0\\xa6\\xac\\xe0\\xa6\\xbe\\xe0\\xa6\\x82\\xe0\\xa6\\xb2\\xe0\\xa6\\xbe'\n",
      "\n",
      "b'\\xe0\\xa6\\x86\\xe0\\xa6\\xae\\xe0\\xa6\\xbe\\xe0\\xa6\\xb0 \\xe0\\xa6\\xb8\\xe0\\xa7\\x8b\\xe0\\xa6\\xa8\\xe0\\xa6\\xbe\\xe0\\xa6\\xb0 \\xe0\\xa6\\xac\\xe0\\xa6\\xbe\\xe0\\xa6\\x82\\xe0\\xa6\\xb2\\xe0\\xa6\\xbe'\n"
     ]
    }
   ],
   "source": [
    "unicode_text = u\"আমার সোনার বাংলা\"\n",
    "encoded_unicode_text = unicode_text.encode(\"utf-8\")\n",
    "print(encoded_unicode_text,end=\"\\n\\n\")\n",
    "\n",
    "w_file = open(\"w_file.txt\",\"wb\")\n",
    "w_file.write(encoded_unicode_text)\n",
    "w_file.close()\n",
    "\n",
    "# The output will be a series of bytes representing the UTF-8 encoded form of the Bangla sentence \"আমার সোনার বাংলা.\"\n",
    "\n",
    "r_file = open(\"w_file.txt\",\"rb\")\n",
    "data = r_file.read()\n",
    "print(data)"
   ]
  },
  {
   "cell_type": "markdown",
   "id": "43828345",
   "metadata": {},
   "source": [
    "## Q7. What qualifies ASCII text as a form of Unicode text?"
   ]
  },
  {
   "cell_type": "markdown",
   "id": "611844bf",
   "metadata": {},
   "source": [
    "**Answer:** \n",
    "\n",
    "`Unicode` encompasses the majority of written languages worldwide, while `ASCII` is a subset of Unicode. The dissimilarity between the two lies in that ASCII solely includes `lowercase letters (a-z)`, `uppercase letters (A-Z)`, `digits (0–9)`, and basic symbols, whereas Unicode encompasses a more extensive set of characters, including letters from English, Arabic, Greek, mathematical symbols, historical scripts, and emojis, covering a broader spectrum than ASCII.\n"
   ]
  },
  {
   "cell_type": "code",
   "execution_count": null,
   "id": "0595bee4",
   "metadata": {},
   "outputs": [],
   "source": []
  },
  {
   "cell_type": "markdown",
   "id": "080bfa7e",
   "metadata": {},
   "source": [
    "## Q8. How much of an effect does the change in string types in Python 3.X have on your code?"
   ]
  },
  {
   "cell_type": "markdown",
   "id": "17c12d76",
   "metadata": {},
   "source": [
    "**Answer:** \n",
    "\n",
    "In Python 3, strings are stored as Unicode by default, whereas in Python 2, you need to use the **`u`** prefix to store a string as Unicode. Unicode strings in Python are more flexible than ASCII strings, which are the default in Python 3.X, as they can accommodate characters from various languages, emojis, as well as the standard Roman letters and numerals."
   ]
  },
  {
   "cell_type": "code",
   "execution_count": null,
   "id": "d90b6a0d",
   "metadata": {},
   "outputs": [],
   "source": []
  }
 ],
 "metadata": {
  "kernelspec": {
   "display_name": "Python 3 (ipykernel)",
   "language": "python",
   "name": "python3"
  },
  "language_info": {
   "codemirror_mode": {
    "name": "ipython",
    "version": 3
   },
   "file_extension": ".py",
   "mimetype": "text/x-python",
   "name": "python",
   "nbconvert_exporter": "python",
   "pygments_lexer": "ipython3",
   "version": "3.9.13"
  }
 },
 "nbformat": 4,
 "nbformat_minor": 5
}
