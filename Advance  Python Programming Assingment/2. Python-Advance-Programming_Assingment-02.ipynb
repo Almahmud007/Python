{
 "cells": [
  {
   "cell_type": "markdown",
   "id": "91f50838",
   "metadata": {},
   "source": [
    "### Q1. What is the relationship between classes and modules?"
   ]
  },
  {
   "cell_type": "markdown",
   "id": "681c1688",
   "metadata": {},
   "source": [
    "**Ans** In object-oriented programming, classes and modules are both fundamental concepts used to organize and structure code. While they have some similarities, they serve different purposes and have distinct characteristics.\n",
    "\n",
    "A class is a blueprint or template for creating objects. It defines the properties (attributes) and behaviors (methods) that objects of that class will possess. Classes facilitate code reusability and provide a way to model real-world entities or abstract concepts.\n",
    "\n",
    "On the other hand, a module is a collection of related functions, variables, and classes grouped together in a single unit. It acts as a container for organizing code and promoting modular programming. Modules promote code encapsulation and allow for code reuse across different parts of an application.\n",
    "\n",
    "The relationship between classes and modules can be seen as complementary. Classes are used to define the structure and behavior of individual objects, while modules serve as containers for organizing and grouping related classes and functions. Modules can contain classes, and classes can be defined within modules. This arrangement helps maintain code organization, manage dependencies, and improve code maintainability and readability."
   ]
  },
  {
   "cell_type": "code",
   "execution_count": null,
   "id": "95c46311",
   "metadata": {},
   "outputs": [],
   "source": []
  },
  {
   "cell_type": "markdown",
   "id": "92be3b82",
   "metadata": {},
   "source": [
    "### Q2. How do you make instances and classes?"
   ]
  },
  {
   "cell_type": "markdown",
   "id": "f8ee1fd8",
   "metadata": {},
   "source": [
    "**Ans** \n",
    "In Python, a class is a blueprint for creating objects. An instance is a specific object created from a class.\n",
    "\n",
    "To create a class, you use the class keyword. \n",
    "\n",
    "**Example:** my_car = Car(\"Honda\", \"Accord\", 2023), Here my_car is an instance of class `Car` with attriubutes `\"Honda\", \"Accord\", 2023`.\n",
    "\n",
    "Whereas for creating a class, we use the Class keyword. Class keyword is followed by classname and semicolon.\n",
    "\n",
    "`class Car:\n",
    "    def __init__(self, make, model, year):\n",
    "        self.make = make\n",
    "        self.model = model\n",
    "        self.year = year\n",
    "    def drive(self):\n",
    "            print(\"I'm driving a\", self.make, self.model)`\n"
   ]
  },
  {
   "cell_type": "code",
   "execution_count": 118,
   "id": "23ec3b62",
   "metadata": {},
   "outputs": [],
   "source": [
    "class Car:\n",
    "    def __init__(self, make, model, year):\n",
    "        self.make = make\n",
    "        self.model = model\n",
    "        self.year = year\n",
    "\n",
    "    def drive(self):\n",
    "        print(f\"I'm driving a {self.make}, {self.model}. Which made in the year of {self.year}\")"
   ]
  },
  {
   "cell_type": "code",
   "execution_count": 117,
   "id": "9bc58e0f",
   "metadata": {},
   "outputs": [
    {
     "name": "stdout",
     "output_type": "stream",
     "text": [
      "I'm driving a Toyota C-HR\n"
     ]
    }
   ],
   "source": [
    "my_car = Car(\"Toyota\", \"C-HR\", 2016)\n",
    "my_car.drive()"
   ]
  },
  {
   "cell_type": "code",
   "execution_count": null,
   "id": "985636c9",
   "metadata": {},
   "outputs": [],
   "source": []
  },
  {
   "cell_type": "markdown",
   "id": "4cfb843c",
   "metadata": {},
   "source": [
    "### Q3. Where and how should be class attributes created?"
   ]
  },
  {
   "cell_type": "markdown",
   "id": "f9e43472",
   "metadata": {},
   "source": [
    "**Answer**\n",
    "Class attributes are created outside the `__init__()` method. They are defined as regular variables within the class definition. <br>\n",
    "**Example:** In the below sample code we are creating a class Car with instance varaibles color, price, engine, which will be provided when an instance of class Car is created.\n",
    "\n",
    "`class Car:\n",
    "    make = \"Honda\"\n",
    "    model = \"Accord\"\n",
    "    year = 2023\n",
    "    def __init__(self, color):\n",
    "        self.color = color\n",
    "    def drive(self):\n",
    "        print(\"I'm driving a\", self.make, self.model)`\n",
    "        \n",
    "The make, model, and year attributes in this code are class attributes. Outside of the __init__() method, they are defined. An instance attribute is the colour attribute. It is defined in the method __init__()."
   ]
  },
  {
   "cell_type": "code",
   "execution_count": null,
   "id": "83829e02",
   "metadata": {},
   "outputs": [],
   "source": []
  },
  {
   "cell_type": "code",
   "execution_count": 68,
   "id": "8049679c",
   "metadata": {},
   "outputs": [],
   "source": [
    "class Car:\n",
    "    make = \"Honda\"\n",
    "    model = \"Accord\"\n",
    "    year = 2023\n",
    "\n",
    "    def __init__(self, color):\n",
    "        self.color = color\n",
    "\n",
    "    def drive(self):\n",
    "        print(\"I'm driving a\", self.make, self.model,\"Which color is\", self.color)"
   ]
  },
  {
   "cell_type": "code",
   "execution_count": 70,
   "id": "4c5b73f6",
   "metadata": {},
   "outputs": [
    {
     "name": "stdout",
     "output_type": "stream",
     "text": [
      "I'm driving a Honda Accord Which color is Blue\n"
     ]
    }
   ],
   "source": [
    "Test_1 = Car(\"Blue\")\n",
    "Test_1.drive()"
   ]
  },
  {
   "cell_type": "code",
   "execution_count": null,
   "id": "f6379074",
   "metadata": {},
   "outputs": [],
   "source": []
  },
  {
   "cell_type": "markdown",
   "id": "47c44e75",
   "metadata": {},
   "source": [
    "### Q4. Where and how are instance attributes created?"
   ]
  },
  {
   "cell_type": "markdown",
   "id": "7c144d52",
   "metadata": {},
   "source": [
    "**Answer:** Instance attributes are created inside the `__init__()` method. They are defined as regular variables within the `__init__()` method. For example:"
   ]
  },
  {
   "cell_type": "code",
   "execution_count": 119,
   "id": "93afe56f",
   "metadata": {},
   "outputs": [],
   "source": [
    "class Car:\n",
    "    def __init__(self, make, model, year, color):\n",
    "        self.make = make\n",
    "        self.model = model\n",
    "        self.year = year\n",
    "        self.color = color\n",
    "\n",
    "    def drive(self):\n",
    "        print(f\"I'm driving a, {self.make} {self.model}. Which made in the year of {self.year}. Also it is {self.color} color.\")"
   ]
  },
  {
   "cell_type": "code",
   "execution_count": 120,
   "id": "60f7b211",
   "metadata": {},
   "outputs": [
    {
     "name": "stdout",
     "output_type": "stream",
     "text": [
      "I'm driving a, Toyota C-HR. Which made in the year of 2016. Also it is White color.\n"
     ]
    }
   ],
   "source": [
    "my_car = Car(\"Toyota\", \"C-HR\", 2016,\"White\")\n",
    "my_car.drive()"
   ]
  },
  {
   "cell_type": "code",
   "execution_count": null,
   "id": "b6513518",
   "metadata": {},
   "outputs": [],
   "source": []
  },
  {
   "cell_type": "markdown",
   "id": "0ed28045",
   "metadata": {},
   "source": [
    "### Q5. What does the term \"self\" in a Python class mean?"
   ]
  },
  {
   "cell_type": "markdown",
   "id": "9a4617a9",
   "metadata": {},
   "source": [
    "**Answer:** The term self in a Python class refers to the current instace. It is used to access the attributes and methods of the class from within the class itself.\n",
    "\n",
    "For example, the following code defines a class called Car:\n",
    "\n",
    "\n",
    "`class Car:\n",
    "    def __init__(self, make, model, year):\n",
    "        self.make = make\n",
    "        self.model = model\n",
    "        self.year = year\n",
    "    def drive(self):\n",
    "        print(\"I'm driving a\", self.make, self.model)`\n",
    "        \n",
    "The `__init__()` method is a special method that is called when a new instance of the class is created. The self parameter is passed to the `__init__()` method automatically. The self parameter refers to the current instance of the class.\n",
    "\n",
    "The `drive()` method is a regular method that can be called on an instance of the Car class. The `drive()` method uses the self parameter to access the make, model, and year attributes of the current instance of the class.\n",
    "\n",
    "For example, the following code creates a new instance of the Car class and calls the `drive()` method:\n"
   ]
  },
  {
   "cell_type": "code",
   "execution_count": null,
   "id": "1f2683ea",
   "metadata": {},
   "outputs": [],
   "source": []
  },
  {
   "cell_type": "code",
   "execution_count": 121,
   "id": "79d49dba",
   "metadata": {},
   "outputs": [],
   "source": [
    "class Car:\n",
    "    def __init__(self, make, model, year):\n",
    "        self.make = make\n",
    "        self.model = model\n",
    "        self.year = year\n",
    "    def drive(self):\n",
    "        print(\"I'm driving a\", self.make, self.model)"
   ]
  },
  {
   "cell_type": "code",
   "execution_count": 122,
   "id": "db9f282b",
   "metadata": {},
   "outputs": [
    {
     "name": "stdout",
     "output_type": "stream",
     "text": [
      "I'm driving a Toyota C-HR\n"
     ]
    }
   ],
   "source": [
    "my_car = Car(\"Toyota\", \"C-HR\", 2016)\n",
    "my_car.drive()"
   ]
  },
  {
   "cell_type": "code",
   "execution_count": 123,
   "id": "a67d7c9e",
   "metadata": {},
   "outputs": [
    {
     "name": "stdout",
     "output_type": "stream",
     "text": [
      "{'make': 'Toyota', 'model': 'C-HR', 'year': 2016}\n"
     ]
    }
   ],
   "source": [
    "print(my_car.__dict__)"
   ]
  },
  {
   "cell_type": "code",
   "execution_count": null,
   "id": "6bc013e9",
   "metadata": {},
   "outputs": [],
   "source": []
  },
  {
   "cell_type": "markdown",
   "id": "f58ed1f8",
   "metadata": {},
   "source": [
    "### Q6. How does a Python class handle operator overloading?"
   ]
  },
  {
   "cell_type": "markdown",
   "id": "7479f616",
   "metadata": {},
   "source": [
    "**Ans:** Python Classes handle operator overloading by using special methods called **Magic methods**. these special methods usually begin and end with **`__`** (double underscore)  \n",
    "**Example:** Magic methods for basic arithmetic operators are:\n",
    "- `+ -> __add__()`\n",
    "- `- -> __sub__()`\n",
    "- `* -> __mul__()`\n",
    "- `/ -> __truediv__()`"
   ]
  },
  {
   "cell_type": "code",
   "execution_count": 124,
   "id": "60294cc1",
   "metadata": {},
   "outputs": [
    {
     "name": "stdout",
     "output_type": "stream",
     "text": [
      "Addition of two values is 1277\n",
      "Subtraction of two values is 1231\n",
      "Multiplication of two values is 28842\n",
      "Division of two values is 54.52\n"
     ]
    }
   ],
   "source": [
    "class Basic_Operator:\n",
    "    def __init__(self, default):\n",
    "        self.default = default\n",
    "    \n",
    "    def __add__(self, other):\n",
    "        return self.default + other.default\n",
    "    \n",
    "    def __sub__(self, other):\n",
    "        return self.default - other.default\n",
    "    \n",
    "    def __mul__(self, other):\n",
    "        return self.default * other.default\n",
    "    \n",
    "    def __truediv__(self, other):\n",
    "        return self.default / other.default\n",
    "\n",
    "b1 = Basic_Operator(1254)\n",
    "b2 = Basic_Operator(23)\n",
    "\n",
    "print(f'Addition of two values is {b1 + b2}')\n",
    "print(f'Subtraction of two values is {b1 - b2}')\n",
    "print(f'Multiplication of two values is {b1 * b2}')\n",
    "print(f'Division of two values is {(b1 / b2):.2f}')"
   ]
  },
  {
   "cell_type": "code",
   "execution_count": null,
   "id": "71f07e65",
   "metadata": {},
   "outputs": [],
   "source": []
  },
  {
   "cell_type": "markdown",
   "id": "439d9d7e",
   "metadata": {},
   "source": [
    "### Q7. When do you consider allowing operator overloading of your classes?"
   ]
  },
  {
   "cell_type": "markdown",
   "id": "3c0fa52f",
   "metadata": {},
   "source": [
    "**Answer:** When we want to give the same operator multiple meanings, we consider enabling operator overloading. For instance, the operator + can be used to combine two lists, join two strings, and add two integers. The '+' operator is overloaded by the `__int__()` class and the str class, making it possible."
   ]
  },
  {
   "cell_type": "code",
   "execution_count": 111,
   "id": "20e9e8f0",
   "metadata": {},
   "outputs": [
    {
     "name": "stdout",
     "output_type": "stream",
     "text": [
      "70\n",
      "Mahmud Shaown\n",
      "Mahmud, Mahmud, Mahmud, Mahmud, \n",
      "36\n"
     ]
    }
   ],
   "source": [
    "# Python program to show use of\n",
    "# + operator for different purposes.\n",
    "\n",
    "# Addition operation to add two integer\n",
    "print(50 + 20)\n",
    " \n",
    "# concatenate two strings\n",
    "print(\"Mahmud\"+\" Shaown\")\n",
    "\n",
    "# Repeat the String\n",
    "print(\"Mahmud, \"*4)\n",
    " \n",
    "# Product two numbers\n",
    "print(9 * 4)"
   ]
  },
  {
   "cell_type": "code",
   "execution_count": null,
   "id": "937938e3",
   "metadata": {},
   "outputs": [],
   "source": []
  },
  {
   "cell_type": "markdown",
   "id": "0cd1ea24",
   "metadata": {},
   "source": [
    "#### Q8. What is the most popular form of operator overloading?\n",
    "**Ans:** The most popular form of operator overloading in python is by special methods called **Magic methods**. Which usually beign and end with double underscore **`__<method name>__`**."
   ]
  },
  {
   "cell_type": "code",
   "execution_count": 115,
   "id": "f8444677",
   "metadata": {},
   "outputs": [
    {
     "name": "stdout",
     "output_type": "stream",
     "text": [
      "Sum of two value is -> 3\n",
      "String Concatenation -> Mahmud Shaown\n"
     ]
    }
   ],
   "source": [
    "class Operator:\n",
    "    def __init__(self,val):\n",
    "        self.val = val\n",
    "    def __add__(self,other):\n",
    "        return self.val+other.val\n",
    "val_1 = Operator(1)\n",
    "val_2 = Operator(2)\n",
    "val_3 = Operator('Mahmud')\n",
    "val_4 = Operator(' Shaown')\n",
    "print(f'Sum of two value is -> {val_1+val_2}')\n",
    "print(f'String Concatenation -> {val_3+val_4}')"
   ]
  },
  {
   "cell_type": "code",
   "execution_count": null,
   "id": "d458dcbb",
   "metadata": {},
   "outputs": [],
   "source": []
  },
  {
   "cell_type": "markdown",
   "id": "3ff6f7f0",
   "metadata": {},
   "source": [
    "### Q9. What are the two most important concepts to grasp in order to comprehend Python OOP code?"
   ]
  },
  {
   "cell_type": "markdown",
   "id": "60567813",
   "metadata": {},
   "source": [
    "**Ans:** **Classes** and **objects** are the two concepts to comprehend python OOP code as more formally objects are entities that represent instances of general abstract concept called class\n",
    "\n",
    "Along with classes and objects the important concepts to grasp are:\n",
    "1. Inheritence\n",
    "2. Abstraction\n",
    "3. Polymorphism\n",
    "4. Encapsulation"
   ]
  },
  {
   "cell_type": "code",
   "execution_count": null,
   "id": "17f5169c",
   "metadata": {},
   "outputs": [],
   "source": []
  }
 ],
 "metadata": {
  "kernelspec": {
   "display_name": "Python 3 (ipykernel)",
   "language": "python",
   "name": "python3"
  },
  "language_info": {
   "codemirror_mode": {
    "name": "ipython",
    "version": 3
   },
   "file_extension": ".py",
   "mimetype": "text/x-python",
   "name": "python",
   "nbconvert_exporter": "python",
   "pygments_lexer": "ipython3",
   "version": "3.9.13"
  }
 },
 "nbformat": 4,
 "nbformat_minor": 5
}
