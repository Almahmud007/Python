{
 "cells": [
  {
   "cell_type": "markdown",
   "id": "642bede4",
   "metadata": {},
   "source": [
    "## Q1. Is an assignment operator like += only for show? Is it possible that it would lead to faster results at the runtime ?"
   ]
  },
  {
   "cell_type": "markdown",
   "id": "89a7437d",
   "metadata": {},
   "source": [
    "**Ans:** <br> The `+=` assignment operator is not just for show. It can lead to faster results at runtime, especially for mutable objects like lists. It performs in-place modifications, avoiding the creation of new objects. <br>\n",
    "Of course, the assignment operator += is not always faster than creating a new object. In some cases, creating a new object may be more efficient. For example, if the object is small or if the object is not frequently updated.<br>\n",
    "\n",
    "In general, it is best to benchmark code to see if using the assignment operator += is faster in your specific case."
   ]
  },
  {
   "cell_type": "code",
   "execution_count": null,
   "id": "01b43077",
   "metadata": {},
   "outputs": [],
   "source": []
  },
  {
   "cell_type": "markdown",
   "id": "edf5ed8a",
   "metadata": {},
   "source": [
    "## Q2. What is the smallest no of statements you'd have to write in most programming languages to replace the Python expr **`a, b = a + b, a`** ?"
   ]
  },
  {
   "cell_type": "markdown",
   "id": "4393e714",
   "metadata": {},
   "source": [
    "**Answer:** In languages other than Python, the minimum number of lines required to achieve the same functionality as the above Python code will typically be four. Two lines are needed for assigning initial values to variables `a` and `b`, and two additional lines for reassignment, i.e., `a = a + b` and `b = a`.\n",
    "\n",
    "Note: The specific syntax may vary depending on the programming language being used."
   ]
  },
  {
   "cell_type": "code",
   "execution_count": null,
   "id": "b0178f9b",
   "metadata": {},
   "outputs": [],
   "source": []
  },
  {
   "cell_type": "markdown",
   "id": "97a99e30",
   "metadata": {},
   "source": [
    "## Q3. In Python, what is the most effective way to set a list of 100 integers to 0?"
   ]
  },
  {
   "cell_type": "markdown",
   "id": "e093ccb3",
   "metadata": {},
   "source": [
    "**Answer:** The Most effective way to set a list of 100 integers to 0 in python is by using repition operator(`*`) or by using list comprehension."
   ]
  },
  {
   "cell_type": "code",
   "execution_count": 5,
   "id": "a7c86339",
   "metadata": {},
   "outputs": [
    {
     "name": "stdout",
     "output_type": "stream",
     "text": [
      "Simple Method:\n",
      "[0, 0, 0, 0, 0, 0, 0, 0, 0, 0, 0, 0, 0, 0, 0, 0, 0, 0, 0, 0, 0, 0, 0, 0, 0, 0, 0, 0, 0, 0, 0, 0, 0, 0, 0, 0, 0, 0, 0, 0, 0, 0, 0, 0, 0, 0, 0, 0, 0, 0, 0, 0, 0, 0, 0, 0, 0, 0, 0, 0, 0, 0, 0, 0, 0, 0, 0, 0, 0, 0, 0, 0, 0, 0, 0, 0, 0, 0, 0, 0, 0, 0, 0, 0, 0, 0, 0, 0, 0, 0, 0, 0, 0, 0, 0, 0, 0, 0, 0, 0]\n",
      "Looping Method:\n",
      "[0, 0, 0, 0, 0, 0, 0, 0, 0, 0, 0, 0, 0, 0, 0, 0, 0, 0, 0, 0, 0, 0, 0, 0, 0, 0, 0, 0, 0, 0, 0, 0, 0, 0, 0, 0, 0, 0, 0, 0, 0, 0, 0, 0, 0, 0, 0, 0, 0, 0, 0, 0, 0, 0, 0, 0, 0, 0, 0, 0, 0, 0, 0, 0, 0, 0, 0, 0, 0, 0, 0, 0, 0, 0, 0, 0, 0, 0, 0, 0, 0, 0, 0, 0, 0, 0, 0, 0, 0, 0, 0, 0, 0, 0, 0, 0, 0, 0, 0, 0]\n"
     ]
    }
   ],
   "source": [
    "# Simple Method\n",
    "list_zero=[0]*100\n",
    "print(\"Simple Method:\")\n",
    "print(list_zero)\n",
    "\n",
    "# Looping Method\n",
    "print(\"Looping Method:\")\n",
    "zero_list = [0 for x in range(100)]\n",
    "print(zero_list)"
   ]
  },
  {
   "cell_type": "markdown",
   "id": "59d2dc95",
   "metadata": {},
   "source": [
    "## Q4. What is the most effective way to initialise a list of 99 integers that repeats the sequence 1, 2, 3? S If necessary, show step-by-step instructions on how to accomplish this."
   ]
  },
  {
   "cell_type": "code",
   "execution_count": 7,
   "id": "10288924",
   "metadata": {},
   "outputs": [
    {
     "name": "stdout",
     "output_type": "stream",
     "text": [
      "[1, 2, 3, 1, 2, 3, 1, 2, 3, 1, 2, 3, 1, 2, 3, 1, 2, 3, 1, 2, 3, 1, 2, 3, 1, 2, 3, 1, 2, 3, 1, 2, 3, 1, 2, 3, 1, 2, 3, 1, 2, 3, 1, 2, 3, 1, 2, 3, 1, 2, 3, 1, 2, 3, 1, 2, 3, 1, 2, 3, 1, 2, 3, 1, 2, 3, 1, 2, 3, 1, 2, 3, 1, 2, 3, 1, 2, 3, 1, 2, 3, 1, 2, 3, 1, 2, 3, 1, 2, 3, 1, 2, 3, 1, 2, 3, 1, 2, 3]\n"
     ]
    }
   ],
   "source": [
    "# Step 1: Determine the length of the list and the sequence to repeat\n",
    "length_of_list = 99\n",
    "sequence_to_repeat = [1, 2, 3]\n",
    "\n",
    "# Step 2: Use list comprehension to repeat the sequence\n",
    "repeated_list = [sequence_to_repeat[i % len(sequence_to_repeat)] for i in range(length_of_list)]\n",
    "\n",
    "print(repeated_list)\n",
    "# Output: [1, 2, 3, 1, 2, 3, 1, 2, 3, ..., 1, 2, 3] (total 99 elements)"
   ]
  },
  {
   "cell_type": "code",
   "execution_count": null,
   "id": "4a7efd54",
   "metadata": {},
   "outputs": [],
   "source": []
  },
  {
   "cell_type": "markdown",
   "id": "70c890ab",
   "metadata": {},
   "source": [
    "## Q5. If you're using IDLE to run a Python application, explain how to print a multidimensional list as efficiently?"
   ]
  },
  {
   "cell_type": "markdown",
   "id": "c1c2527a",
   "metadata": {},
   "source": [
    "To print a multidimensional list efficiently in IDLE, you can use a function that loops over the list and prints each element on a new line. You can make the code more efficient by using the map() function to convert the elements of the multidimensional list to strings before printing them."
   ]
  },
  {
   "cell_type": "code",
   "execution_count": 12,
   "id": "9bba6d85",
   "metadata": {},
   "outputs": [
    {
     "name": "stdout",
     "output_type": "stream",
     "text": [
      "1 2 3 45 6 7 89 10 11 12"
     ]
    }
   ],
   "source": [
    "def print_multidimensional_list_efficiently(list_data):\n",
    "    \"\"\"Prints a multidimensional list in a nested format, using the map() function.\"\"\"\n",
    "    for sublist in list_data:\n",
    "        print(\" \".join(map(str, sublist)), end = \"\")\n",
    "\n",
    "list_data = [[1, 2, 3, 4], [5, 6, 7, 8], [9, 10, 11, 12]]\n",
    "\n",
    "print_multidimensional_list_efficiently(list_data)"
   ]
  },
  {
   "cell_type": "code",
   "execution_count": null,
   "id": "2d6f8971",
   "metadata": {},
   "outputs": [],
   "source": []
  },
  {
   "cell_type": "markdown",
   "id": "1b0c598e",
   "metadata": {},
   "source": [
    "## Q6. Is it possible to use list comprehension with a string? If so, how can you go about doing it?"
   ]
  },
  {
   "cell_type": "markdown",
   "id": "f4f19934",
   "metadata": {},
   "source": [
    "**Answer:** List comprehension with string is possible. Below is the example"
   ]
  },
  {
   "cell_type": "code",
   "execution_count": 14,
   "id": "157a00f7",
   "metadata": {},
   "outputs": [
    {
     "name": "stdout",
     "output_type": "stream",
     "text": [
      "['D', 'a', 't', 'a', ' ', 'S', 'c', 'i', 'e', 'n', 'c', 'e']\n"
     ]
    }
   ],
   "source": [
    "my_list = [ele for ele in 'Data Science'] # list comprehension\n",
    "print(my_list)"
   ]
  },
  {
   "cell_type": "markdown",
   "id": "80883d2f",
   "metadata": {},
   "source": [
    "## Q7. From the command line, how do you get support with a user-written Python programme? Is this possible from inside IDLE?"
   ]
  },
  {
   "cell_type": "markdown",
   "id": "ac4bc1e5",
   "metadata": {},
   "source": [
    "**Answer:**\n",
    "\n",
    "**Get assistance executing a user-written Python program:**\n",
    "To execute a user-written Python program, follow these steps based on your preferred method:\n",
    "\n",
    "1. **Using the Command Prompt (Windows) or Terminal (Linux/Mac):**\n",
    "   If the Python file is saved in the current working directory, you can open the Command Prompt (Windows) or Terminal (Linux/Mac) and run the Python interpreter along with the filename as a command-line argument.\n",
    "\n",
    "2. **Using IDLE:**\n",
    "   Alternatively, you can use IDLE, the integrated development and learning environment for Python. Here's how to do it:\n",
    "   - Open IDLE and select **`File → New File`** from the Shell window menu. This action will open a new editing window.\n",
    "   - Write your Python code in the newly opened editing window.\n",
    "   - Next, choose **`File → Save`** or **`File → Save As…`** to save the script file to your desired location on disk.\n",
    "   - Finally, select **`Run → Run Module`** to execute the Python script. The output will be displayed back in the interpreter.\n",
    "\n",
    "Following these steps, you can easily execute your Python programs using either the command prompt/terminal or IDLE, depending on your preference."
   ]
  },
  {
   "cell_type": "code",
   "execution_count": null,
   "id": "d4aa2ace",
   "metadata": {},
   "outputs": [],
   "source": []
  },
  {
   "cell_type": "markdown",
   "id": "524994b9",
   "metadata": {},
   "source": [
    "## Q8. Functions are said to be “first-class objects” in Python but not in most other languages, such as C++ or Java. What can you do in Python with a function (callable object) that you can't do in C or C++?"
   ]
  },
  {
   "cell_type": "markdown",
   "id": "89bc6c99",
   "metadata": {},
   "source": [
    "**Answer:**\n",
    "\n",
    "**Functions in Python offer a variety of tasks, including:**\n",
    "\n",
    "- Functions are objects in Python, which means they can be treated like other data types.\n",
    "- Storing functions in variables is possible.\n",
    "- Functions can be passed as parameters to other functions, facilitating higher-order functions.\n",
    "- Functions can be returned from other functions, making them suitable for dynamic use.\n",
    "- Functions can be stored in various data structures like hash tables, lists, and more."
   ]
  },
  {
   "cell_type": "code",
   "execution_count": null,
   "id": "60e1aa5a",
   "metadata": {},
   "outputs": [],
   "source": []
  },
  {
   "cell_type": "markdown",
   "id": "05b83463",
   "metadata": {},
   "source": [
    "## Q9. How do you distinguish between a wrapper, a wrapped feature, and a decorator?"
   ]
  },
  {
   "cell_type": "markdown",
   "id": "3726b319",
   "metadata": {},
   "source": [
    "**Answer:**\n",
    "\n",
    "- **Wrapper:** It is a function that wraps around another function or object, adding additional functionality or behavior.\n",
    "\n",
    "- **Wrapped Feature:** It is the original function or object that the wrapper function is enhancing or modifying.\n",
    "\n",
    "- **Decorator:** A decorator is a special type of wrapper in Python that allows us to modify the behavior of functions or methods using the \"@\" symbol followed by the decorator's name."
   ]
  },
  {
   "cell_type": "code",
   "execution_count": null,
   "id": "8a3bd6dd",
   "metadata": {},
   "outputs": [],
   "source": []
  },
  {
   "cell_type": "markdown",
   "id": "20f9a8cc",
   "metadata": {},
   "source": [
    "## Q10. If a function is a generator function, what does it return?"
   ]
  },
  {
   "cell_type": "markdown",
   "id": "10d8cea7",
   "metadata": {},
   "source": [
    "If a function is a generator function, it returns an iterator called a generator object."
   ]
  },
  {
   "cell_type": "code",
   "execution_count": null,
   "id": "99fd1278",
   "metadata": {},
   "outputs": [],
   "source": []
  },
  {
   "cell_type": "markdown",
   "id": "03ee7d27",
   "metadata": {},
   "source": [
    "## Q11. What is the one improvement that must be made to a function in order for it to become a generator function in the Python language?"
   ]
  },
  {
   "cell_type": "markdown",
   "id": "0a36e2c8",
   "metadata": {},
   "source": [
    "**Answer:** <br>The one improvement that must be made to a function in order for it to become a generator function in the Python language is to include the `yield` keyword in the function body. Using `yield` instead of `return` allows the function to produce a series of values over multiple calls, turning it into a generator function."
   ]
  },
  {
   "cell_type": "code",
   "execution_count": null,
   "id": "1fc9c2b0",
   "metadata": {},
   "outputs": [],
   "source": []
  },
  {
   "cell_type": "markdown",
   "id": "ceae1939",
   "metadata": {},
   "source": [
    "## Q12. Identify at least one benefit of generators."
   ]
  },
  {
   "cell_type": "markdown",
   "id": "65b9eef5",
   "metadata": {},
   "source": [
    "**Answer:** <br> The **`return`** statement is used to send a specific value back to the caller of a function, while the **`yield`** statement is capable of producing a sequence of values. Generators should be used when there is a need to iterate over a sequence, but storing the entire sequence in memory is not desirable. This allows for memory-efficient handling of large datasets or infinite sequences, as values are generated and yielded on-the-fly as needed."
   ]
  },
  {
   "cell_type": "code",
   "execution_count": null,
   "id": "ef0a5876",
   "metadata": {},
   "outputs": [],
   "source": []
  }
 ],
 "metadata": {
  "kernelspec": {
   "display_name": "Python 3 (ipykernel)",
   "language": "python",
   "name": "python3"
  },
  "language_info": {
   "codemirror_mode": {
    "name": "ipython",
    "version": 3
   },
   "file_extension": ".py",
   "mimetype": "text/x-python",
   "name": "python",
   "nbconvert_exporter": "python",
   "pygments_lexer": "ipython3",
   "version": "3.9.13"
  }
 },
 "nbformat": 4,
 "nbformat_minor": 5
}
