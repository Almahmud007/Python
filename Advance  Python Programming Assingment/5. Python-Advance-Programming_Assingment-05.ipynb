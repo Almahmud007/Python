{
 "cells": [
  {
   "cell_type": "markdown",
   "id": "3ae2f846",
   "metadata": {},
   "source": [
    "## Q1. What is the meaning of multiple inheritance?\n"
   ]
  },
  {
   "cell_type": "markdown",
   "id": "9a9d4c06",
   "metadata": {},
   "source": [
    "**Ans:** Inheritance allows a child class to reuse code from a parent class. When a child class inherits properties from multiple parent classes, this is known as **multiple inheritance.**"
   ]
  },
  {
   "cell_type": "code",
   "execution_count": 6,
   "id": "e8567eae",
   "metadata": {},
   "outputs": [
    {
     "name": "stdout",
     "output_type": "stream",
     "text": [
      "This is Parent_one\n",
      "This is Parent_Two\n"
     ]
    }
   ],
   "source": [
    "class Parent_one:\n",
    "    print(\"This is Parent_one\")\n",
    "class Parent_two:\n",
    "    print(\"This is Parent_Two\")\n",
    "class child(Parent_one,Parent_two):\n",
    "    pass"
   ]
  },
  {
   "cell_type": "markdown",
   "id": "38440f4c",
   "metadata": {},
   "source": [
    "## Q2. What is the concept of delegation?"
   ]
  },
  {
   "cell_type": "markdown",
   "id": "25da2a72",
   "metadata": {},
   "source": [
    "**Answer:** Delegation involves using a proxy object, acting as a wrapper, to provide limited access to the main class. It allows you to include an instance of another class as a variable and forward messages to that instance. Essentially, delegation wraps the main class object into a smaller object, enabling restricted access to its resources."
   ]
  },
  {
   "cell_type": "code",
   "execution_count": 10,
   "id": "d57e9c12",
   "metadata": {},
   "outputs": [
    {
     "name": "stdout",
     "output_type": "stream",
     "text": [
      "Hi, This is Mahmud\n",
      "Hi, This is Mahmud\n",
      "Hi, This is Mahmud\n",
      "Inside main class\n"
     ]
    }
   ],
   "source": [
    "class Myclass:\n",
    "    def Hello(self):\n",
    "        print('Hi, This is Mahmud')\n",
    "    def Class_1(self):\n",
    "        print('Inside main class')\n",
    "class NewClass:\n",
    "    def __init__(self,obj):\n",
    "        self.main = obj\n",
    "    def welcome(self):\n",
    "        self.main.Hello()\n",
    "\n",
    "m = Myclass()        \n",
    "n = NewClass(m)\n",
    "m.Hello()\n",
    "n.main.Hello()\n",
    "n.welcome()\n",
    "n.main.Class_1()"
   ]
  },
  {
   "cell_type": "markdown",
   "id": "4600a4d4",
   "metadata": {},
   "source": [
    "## Q3. What is the concept of composition?"
   ]
  },
  {
   "cell_type": "markdown",
   "id": "406552bd",
   "metadata": {},
   "source": [
    "**Answer:** Composition involves a class including one or more other classes by storing instances of those classes as instance variables. Unlike inheritance, where all members of a parent class are automatically inherited by a child class, composition allows for selective use of specific methods from a class by utilizing instances of that class. In this approach, the child class does not inherit all members of the parent class; instead, it accesses and utilizes specific methods through class instances."
   ]
  },
  {
   "cell_type": "code",
   "execution_count": 11,
   "id": "7e779e32",
   "metadata": {},
   "outputs": [
    {
     "name": "stdout",
     "output_type": "stream",
     "text": [
      "Total Salary : 960000\n"
     ]
    }
   ],
   "source": [
    "class Salary:\n",
    "    def __init__(self,pay):\n",
    "        self.pay = pay\n",
    "    def get_total(self):\n",
    "        return self.pay*12\n",
    "    \n",
    "class Employee:\n",
    "    def __init__(self,pay,bonus):\n",
    "        self.pay = pay\n",
    "        self.bonus = bonus\n",
    "        self.obj_salary = Salary(self.pay)\n",
    "    def annual_salary(self):\n",
    "        return f'Total Salary : {str(self.obj_salary.get_total())}'\n",
    "\n",
    "obj_emp = Employee(80000,45000)\n",
    "print(obj_emp.annual_salary())"
   ]
  },
  {
   "cell_type": "markdown",
   "id": "ce7913c2",
   "metadata": {},
   "source": [
    "## Q4. What are bound methods and how do we use them?"
   ]
  },
  {
   "cell_type": "markdown",
   "id": "8e14c5cf",
   "metadata": {},
   "source": [
    "**Answer:** When a function is associated with a class and can be accessed through its instances, it is referred to as a **bound method**. A bound method is characterized by having **`self`** as its initial argument. As they rely on specific instances of classes, they are also referred to as **instance methods**."
   ]
  },
  {
   "cell_type": "code",
   "execution_count": 12,
   "id": "dc8b18a8",
   "metadata": {},
   "outputs": [
    {
     "name": "stdout",
     "output_type": "stream",
     "text": [
      "This is Method One\n",
      "This is Method Two\n",
      "This is Method Two\n",
      "This is Method Three\n"
     ]
    }
   ],
   "source": [
    "class Bound_Meth:\n",
    "    def method_one(self): # bound method\n",
    "        print(\"This is Method One\")\n",
    "    @classmethod\n",
    "    def method_two(cls): # unbound method\n",
    "        print(\"This is Method Two\")\n",
    "    @staticmethod\n",
    "    def method_three(): # static method\n",
    "        print(\"This is Method Three\")\n",
    "\n",
    "Meth = Bound_Meth()\n",
    "Meth.method_one()\n",
    "Meth.method_two()\n",
    "Meth.method_two()\n",
    "Meth.method_three()"
   ]
  },
  {
   "cell_type": "markdown",
   "id": "04f059af",
   "metadata": {},
   "source": [
    "## Q5. What is the purpose of pseudoprivate attributes?"
   ]
  },
  {
   "cell_type": "markdown",
   "id": "52baac76",
   "metadata": {},
   "source": [
    "**Answer:** Pseudoprivate attributes serve as valuable tools in larger frameworks or tools for two primary purposes. Firstly, they help prevent the introduction of new method names that could inadvertently override existing definitions elsewhere in the class hierarchy. Secondly, they minimize the risk of internal methods being replaced by names defined at lower levels of the hierarchy. When a method is intended solely for use within a class that may be combined with other classes, the double underscore prefix ensures that the method does not interfere with other names in the hierarchy, particularly in situations involving multiple inheritance.\n",
    "\n",
    "Additionally, pseudoprivate names serve to prevent subclasses from unintentionally redefining the names of internal methods."
   ]
  },
  {
   "cell_type": "code",
   "execution_count": 14,
   "id": "6710d4ea",
   "metadata": {},
   "outputs": [],
   "source": [
    "class Super:\n",
    "    def method(self): # A real application method\n",
    "        pass\n",
    "class Tool:\n",
    "    def _method(self): # becomes _Tool_method\n",
    "        pass\n",
    "    def other(self): # uses internal method\n",
    "        self._method()\n",
    "class Subl(Tool,Super):\n",
    "    def actions(self):\n",
    "        self.method()\n",
    "class Sub2(Tool):\n",
    "    def __init__(self):\n",
    "        self.method = 99"
   ]
  },
  {
   "cell_type": "code",
   "execution_count": 16,
   "id": "b3ee6c3a",
   "metadata": {},
   "outputs": [
    {
     "data": {
      "text/plain": [
       "<function __main__.Super.method(self)>"
      ]
     },
     "execution_count": 16,
     "metadata": {},
     "output_type": "execute_result"
    }
   ],
   "source": [
    "Super.method"
   ]
  },
  {
   "cell_type": "code",
   "execution_count": null,
   "id": "f9f8cef2",
   "metadata": {},
   "outputs": [],
   "source": []
  }
 ],
 "metadata": {
  "kernelspec": {
   "display_name": "Python 3 (ipykernel)",
   "language": "python",
   "name": "python3"
  },
  "language_info": {
   "codemirror_mode": {
    "name": "ipython",
    "version": 3
   },
   "file_extension": ".py",
   "mimetype": "text/x-python",
   "name": "python",
   "nbconvert_exporter": "python",
   "pygments_lexer": "ipython3",
   "version": "3.9.13"
  }
 },
 "nbformat": 4,
 "nbformat_minor": 5
}
