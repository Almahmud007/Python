{
 "cells": [
  {
   "cell_type": "markdown",
   "id": "11489fdc",
   "metadata": {},
   "source": [
    "## Q1. What is the concept of a metaclass?"
   ]
  },
  {
   "cell_type": "markdown",
   "id": "4e145ff1",
   "metadata": {},
   "source": [
    "**Answer:** In Python, a metaclass is a class that defines the behavior of other classes, often referred to as the \"class of a class.\" It allows you to customize class creation and control how classes inherit from it. Metaclasses are powerful tools that enable advanced class manipulation and are used to enforce coding conventions, add new methods or attributes to classes, and perform automatic operations during class creation. They provide a way to influence the behavior of classes and their instances at the time of definition.\n",
    "\n",
    "E.g. Type of of `int`, `str`, `float`, `list`, `tuple` and many more is of metaclass type. "
   ]
  },
  {
   "cell_type": "code",
   "execution_count": null,
   "id": "e27f52c5",
   "metadata": {},
   "outputs": [],
   "source": []
  },
  {
   "cell_type": "markdown",
   "id": "a7c66d6f",
   "metadata": {},
   "source": [
    "## Q2. What is the best way to declare a class's metaclass?\n"
   ]
  },
  {
   "cell_type": "code",
   "execution_count": 6,
   "id": "e1a13053",
   "metadata": {},
   "outputs": [
    {
     "name": "stdout",
     "output_type": "stream",
     "text": [
      "<class 'type'>\n",
      "<class '__main__.meta'>\n"
     ]
    }
   ],
   "source": [
    "#A way to declare a class’ metaclass is by using **`metaclass`** keyword in class definition.\n",
    "\n",
    "class meta(type):\n",
    "    pass\n",
    "class class_meta(metaclass=meta):\n",
    "    pass\n",
    "print(type(meta))\n",
    "print(type(class_meta))"
   ]
  },
  {
   "cell_type": "code",
   "execution_count": null,
   "id": "7f86f2a8",
   "metadata": {},
   "outputs": [],
   "source": []
  },
  {
   "cell_type": "markdown",
   "id": "938e3147",
   "metadata": {},
   "source": [
    "## Q3. How do class decorators overlap with metaclasses for handling classes ?"
   ]
  },
  {
   "cell_type": "markdown",
   "id": "eabad239",
   "metadata": {},
   "source": [
    "**Answer:** <br>\n",
    "Class decorators are functions that modify class behavior after creation using the `@decorator_name` syntax. Metaclasses, however, are classes that control the class creation process and define class characteristics during their creation. Decorators post-process existing classes, while metaclasses handle the construction of new classes. <br>\n",
    "i.e., the one that takes a class object and modifies it, in the course of the metaclass's `__new__` or `__init__` that make the class object!)."
   ]
  },
  {
   "cell_type": "code",
   "execution_count": null,
   "id": "6bc88a94",
   "metadata": {},
   "outputs": [],
   "source": []
  },
  {
   "cell_type": "markdown",
   "id": "3f57ffac",
   "metadata": {},
   "source": [
    "## Q4. How do class decorators overlap with metaclasses for handling instances?"
   ]
  },
  {
   "cell_type": "markdown",
   "id": "918e9832",
   "metadata": {},
   "source": [
    "**Answer:** <br>\n",
    "Class decorators and metaclasses can both influence the behavior of instances, but they do so at different stages of the class and instance lifecycle:\n",
    "\n",
    "1. **Class Decorators**: Class decorators can modify the behavior of individual instances indirectly by altering the class's attributes or methods. When a class is decorated, any instances created from that class will inherit the modifications made by the decorator. However, class decorators are applied at the class level, not the instance level.\n",
    "\n",
    "2. **Metaclasses**: Metaclasses, as class templates, define how classes are created. By controlling the class creation process, metaclasses can directly impact instance creation, initialization, and behavior. They can intercept instance creation by overriding the `__call__` method or manipulate instance attributes and methods.\n",
    "\n",
    "In summary, class decorators primarily focus on modifying the class, which then affects the behavior of instances. On the other hand, metaclasses have more direct control over instance creation and initialization, allowing them to customize instance behavior from the ground up."
   ]
  },
  {
   "cell_type": "code",
   "execution_count": null,
   "id": "f3d965b5",
   "metadata": {},
   "outputs": [],
   "source": []
  }
 ],
 "metadata": {
  "kernelspec": {
   "display_name": "Python 3 (ipykernel)",
   "language": "python",
   "name": "python3"
  },
  "language_info": {
   "codemirror_mode": {
    "name": "ipython",
    "version": 3
   },
   "file_extension": ".py",
   "mimetype": "text/x-python",
   "name": "python",
   "nbconvert_exporter": "python",
   "pygments_lexer": "ipython3",
   "version": "3.9.13"
  }
 },
 "nbformat": 4,
 "nbformat_minor": 5
}
