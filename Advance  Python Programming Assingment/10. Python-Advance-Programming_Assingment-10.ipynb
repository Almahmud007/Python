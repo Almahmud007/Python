{
 "cells": [
  {
   "cell_type": "markdown",
   "id": "54257650",
   "metadata": {},
   "source": [
    "## Q1. What is the difference between `__getattr__` and `__getattribute__`?"
   ]
  },
  {
   "cell_type": "markdown",
   "id": "9ff095f8",
   "metadata": {},
   "source": [
    "**Answer:**\n",
    "\n",
    "The `__getattr__` and `__getattribute__` methods are special methods in Python that are used to control how attributes are accessed on objects.\n",
    "\n",
    "The `__getattr__` method is called when an attribute is not found on an object. The `__getattribute__` method is called for every attribute access, whether or not the attribute is found.\n",
    "\n",
    "The main difference between the two methods is that the `__getattr__` method is only called if the attribute is not found, while the `__getattribute__` method is called for every attribute access.\n",
    "\n",
    "In general, the `__getattribute__` method should be used for more general purposes, such as logging or auditing attribute access. The `__getattr__` method should be used for more specific purposes, such as providing default values for attributes or performing custom logic when an attribute is not found."
   ]
  },
  {
   "cell_type": "markdown",
   "id": "51f7319c",
   "metadata": {},
   "source": [
    "## Q2. What is the difference between properties and descriptors?"
   ]
  },
  {
   "cell_type": "markdown",
   "id": "6e7ee17a",
   "metadata": {},
   "source": [
    "**Answer:** The differences between Properties and Descriptors is:\n",
    "\n",
    "**Properties**: Properties in Python allow us to bind getter, setter, and delete functions to an attribute name using the built-in `property` function or the `@property` decorator. This allows us to achieve the effect of direct attribute access while involving the specified functions to handle the attribute operations.\n",
    "\n",
    "**Descriptors**: Descriptors in Python enable us to bind getter, setter, and delete functions in a separate class. We then assign an instance of this descriptor class to the attribute name in our main class. When accessing the attribute, it appears like a simple direct access, but it actually invokes the appropriate functions defined in the descriptor object to handle attribute operations."
   ]
  },
  {
   "cell_type": "markdown",
   "id": "3303787c",
   "metadata": {},
   "source": [
    "## Q3. What are the key differences in functionality between __getattr__ and __getattribute__, as well as properties and descriptors?"
   ]
  },
  {
   "cell_type": "markdown",
   "id": "be8c68f0",
   "metadata": {},
   "source": [
    "**Answer:** The key differences between `__getattr__`, `__getattribute__`, Properties, and Descriptors are as follows:\n",
    "\n",
    "--`__getattr__`: Python calls this method whenever you try to access an attribute that hasn't been defined. It allows you to handle attribute access for undefined attributes.\n",
    "\n",
    "--`__getattribute__`: This method is invoked before looking at the actual attributes on the object. If `__getattribute__` is defined in a class, it will be called for every attribute access, whether the attribute exists or not.\n",
    "\n",
    "--Properties: Properties in Python allow you to bind getter, setter, and delete functions to an attribute name using the built-in `property` function or the `@property` decorator. This provides a simple, direct access-like syntax while invoking the appropriate functions for attribute operations.\n",
    "\n",
    "--Descriptors: Descriptors in Python enable you to bind getter, setter, and delete functions in a separate class. You can then assign an instance of this descriptor class to the attribute name in the main class. When accessing the attribute, it appears like a simple direct access, but it actually invokes the appropriate functions defined in the descriptor object to handle attribute operations."
   ]
  },
  {
   "cell_type": "code",
   "execution_count": null,
   "id": "126f42d1",
   "metadata": {},
   "outputs": [],
   "source": []
  }
 ],
 "metadata": {
  "kernelspec": {
   "display_name": "Python 3 (ipykernel)",
   "language": "python",
   "name": "python3"
  },
  "language_info": {
   "codemirror_mode": {
    "name": "ipython",
    "version": 3
   },
   "file_extension": ".py",
   "mimetype": "text/x-python",
   "name": "python",
   "nbconvert_exporter": "python",
   "pygments_lexer": "ipython3",
   "version": "3.9.13"
  }
 },
 "nbformat": 4,
 "nbformat_minor": 5
}
