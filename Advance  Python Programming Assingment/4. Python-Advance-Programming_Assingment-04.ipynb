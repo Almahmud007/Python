{
 "cells": [
  {
   "cell_type": "markdown",
   "id": "4c06fa86",
   "metadata": {},
   "source": [
    "## Q1. Which two operator overloading methods can you use in your classes to support iteration?"
   ]
  },
  {
   "cell_type": "markdown",
   "id": "f68b8b1e",
   "metadata": {},
   "source": [
    "**Ans:** **`__iter__`** and **`__next__`** are the operator overloading methods in python that support iteration and are collectively called iterator protocol.\n",
    "\n",
    "- **`__iter__`** This method is responsible for returning an iterator object, which will be used for iterating over the elements of your class.\n",
    "- **`__next__`** This method is implemented in the iterator object returned by __iter__. It defines the logic for fetching the next element in the iteration sequence. The **`__next__`** method should return the next element and raise the **`StopIteration`** exception when there are no more elements to iterate over."
   ]
  },
  {
   "cell_type": "code",
   "execution_count": 23,
   "id": "90a386ed",
   "metadata": {},
   "outputs": [
    {
     "name": "stdout",
     "output_type": "stream",
     "text": [
      "10 11 12 13 14 15 16 17 18 19 20 21 22 23 24 25 26 27 28 29 30 31 32 33 34 35 36 37 38 39 40 41 42 43 44 45 46 47 48 49 50 "
     ]
    }
   ],
   "source": [
    "class Stopper:\n",
    "    def __init__(self,low,high):\n",
    "        self.current = low\n",
    "        self.high = high\n",
    "        \n",
    "    def __iter__(self):\n",
    "        return self\n",
    "    \n",
    "    def __next__(self):\n",
    "        if self.current > self.high:\n",
    "            raise StopIteration\n",
    "        else:\n",
    "            self.current += 1\n",
    "            return self.current - 1\n",
    "        \n",
    "for i in Stopper(10,50):\n",
    "    print(i, end=\" \")"
   ]
  },
  {
   "cell_type": "code",
   "execution_count": null,
   "id": "837b6261",
   "metadata": {},
   "outputs": [],
   "source": []
  },
  {
   "cell_type": "markdown",
   "id": "0b3e5985",
   "metadata": {},
   "source": [
    "## Q2. In what contexts do the two operator overloading methods manage printing?\n"
   ]
  },
  {
   "cell_type": "markdown",
   "id": "58b9ffa1",
   "metadata": {},
   "source": [
    "**Ans:** **`__str__`** and **`__repr__`** are two operator overloading methods that manage printing.\n",
    "\n",
    "**`__str__:`** This method is used to provide a string representation of an object. It is typically used for human-readable output and is intended to be descriptive and easy to understand. The **`__str__`** method is called by the built-in str() function and by the print() function when an object is passed as an argument.\n",
    "\n",
    "**`__repr__:`** This method is used to provide a string representation of an object that is primarily meant for debugging and developer-oriented output. The **`__repr__`** method should return a string that represents a valid Python expression that can be used to recreate the object. It is called by the built-in repr() function and by the interactive Python shell when the object is evaluated or printed without using the print() function."
   ]
  },
  {
   "cell_type": "code",
   "execution_count": 25,
   "id": "8b12d86a",
   "metadata": {},
   "outputs": [
    {
     "name": "stdout",
     "output_type": "stream",
     "text": [
      "<__main__.Employee object at 0x000002AD9FBB1760>\n",
      "Employee Name: Mahmud and ID No: 1\n",
      "2023-07-17 18:15:06.269168\n",
      "Unable to convert back to original object\n",
      "datetime.datetime(2023, 7, 17, 18, 15, 6, 269168)\n",
      "2023-07-17 18:15:06.269168\n"
     ]
    }
   ],
   "source": [
    "class Employee:\n",
    "    def __init__(self,name,roll_no):\n",
    "        self.name = name\n",
    "        self.roll_no = roll_no\n",
    "        \n",
    "s1 = Employee(\"Mahmud\",1)\n",
    "print(str(s1))\n",
    "\n",
    "class Employee:\n",
    "    def __init__(self,name,roll_no):\n",
    "        self.name = name\n",
    "        self.roll_no = roll_no\n",
    "    def __str__(self):\n",
    "        return f'Employee Name: {self.name} and ID No: {self.roll_no}'\n",
    "    \n",
    "s1 = Employee(\"Mahmud\",1)\n",
    "print(str(s1))\n",
    "\n",
    "import datetime\n",
    "today = datetime.datetime.now()\n",
    "\n",
    "s = str(today) # converting datetime object to presentable str\n",
    "print(s)\n",
    "try: d = eval(s) # converting str back to datetime object\n",
    "except: print(\"Unable to convert back to original object\")\n",
    "    \n",
    "u = repr(today) # converting datetime object to str\n",
    "print(u)\n",
    "e = eval(u) # converting str back to datetime object\n",
    "print(e)"
   ]
  },
  {
   "cell_type": "markdown",
   "id": "776e9c16",
   "metadata": {},
   "source": [
    "## Q3. In a class, how do you intercept slice operations?\n",
    "**Ans:** In a class use of `slice()` in `__getitem__` method is used for intercept slice operation. This slice method is provided with start integer number, stop integer number and step integer number. \n",
    "\n",
    "**Example:** `__getitem__(slice(start,stop,step))`"
   ]
  },
  {
   "cell_type": "code",
   "execution_count": 26,
   "id": "bdb61a96",
   "metadata": {},
   "outputs": [],
   "source": [
    "class MyClass:\n",
    "    def __init__(self, data):\n",
    "        self.data = data\n",
    "    \n",
    "    def __getitem__(self, key):\n",
    "        if isinstance(key, slice):\n",
    "            start, stop, step = key.start, key.stop, key.step\n",
    "            # Perform custom logic on the slice\n",
    "            sliced_data = self.data[start:stop:step]\n",
    "            return sliced_data\n",
    "        else:\n",
    "            return self.data[key]"
   ]
  },
  {
   "cell_type": "markdown",
   "id": "1960c808",
   "metadata": {},
   "source": [
    "## Q4. In a class, how do you capture in-place addition?\n",
    "**Ans:** **`a+b`** is normal addition. Whereas **`a+=b`** is inplace addition operation. In this in-place addition **`a`** itself will store the value of addition. In a class **`__iadd__`** method is used for this in-place operation"
   ]
  },
  {
   "cell_type": "code",
   "execution_count": 34,
   "id": "89e37d51",
   "metadata": {},
   "outputs": [
    {
     "name": "stdout",
     "output_type": "stream",
     "text": [
      "600000\n"
     ]
    }
   ],
   "source": [
    "class ATM:\n",
    "    def __init__(self,exist):\n",
    "        self.pages = exist\n",
    "    def __iadd__(self,addition):\n",
    "        self.pages += addition.pages\n",
    "        return self.pages\n",
    "        \n",
    "E_Amount = ATM(350000)\n",
    "Add_Amount = ATM(250000)\n",
    "E_Amount+=Add_Amount\n",
    "print(E_Amount)"
   ]
  },
  {
   "cell_type": "markdown",
   "id": "341416c2",
   "metadata": {},
   "source": [
    "## Q5. When is it appropriate to use operator overloading?"
   ]
  },
  {
   "cell_type": "markdown",
   "id": "8fee0eef",
   "metadata": {},
   "source": [
    "**Ans:** Operator overloading is appropriate to use when you want to assign a different meaning or behavior to an operator in the context of a user-defined function or class. By overloading operators, you can provide custom implementations for operators such as `+`, `-`, `*`, `/`, `==`, `<`, `>`, and more."
   ]
  },
  {
   "cell_type": "code",
   "execution_count": 36,
   "id": "14b44902",
   "metadata": {},
   "outputs": [
    {
     "name": "stdout",
     "output_type": "stream",
     "text": [
      "Total Amount of ATM after refilling -> 600000\n"
     ]
    }
   ],
   "source": [
    "class ATM:\n",
    "    def __init__(self,exist):\n",
    "        self.pages = exist\n",
    "    def __iadd__(self,addition):\n",
    "        self.pages += addition.pages\n",
    "        return self.pages\n",
    "        \n",
    "E_Amount = ATM(350000)\n",
    "Add_Amount = ATM(250000)\n",
    "E_Amount+=Add_Amount\n",
    "print(f'Total Amount of ATM after refilling -> {E_Amount}')"
   ]
  },
  {
   "cell_type": "code",
   "execution_count": null,
   "id": "ebe54a7f",
   "metadata": {},
   "outputs": [],
   "source": []
  }
 ],
 "metadata": {
  "kernelspec": {
   "display_name": "Python 3 (ipykernel)",
   "language": "python",
   "name": "python3"
  },
  "language_info": {
   "codemirror_mode": {
    "name": "ipython",
    "version": 3
   },
   "file_extension": ".py",
   "mimetype": "text/x-python",
   "name": "python",
   "nbconvert_exporter": "python",
   "pygments_lexer": "ipython3",
   "version": "3.9.13"
  }
 },
 "nbformat": 4,
 "nbformat_minor": 5
}
