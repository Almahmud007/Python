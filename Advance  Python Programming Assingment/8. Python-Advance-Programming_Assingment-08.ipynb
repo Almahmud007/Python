{
 "cells": [
  {
   "cell_type": "markdown",
   "id": "efb72245",
   "metadata": {},
   "source": [
    "## Q1. What are the two latest user-defined exception constraints in Python 3.X?"
   ]
  },
  {
   "cell_type": "markdown",
   "id": "96c182b6",
   "metadata": {},
   "source": [
    "**Answer:** **`raise`** and **`assert`** are the two latest user-defined exception constraints in Python 3.X.\n",
    "\n",
    " --> In short, the `raise` statement in Python is used to explicitly raise exceptions programmatically. It allows you to generate and raise exceptions, signaling that an error or exceptional condition has occurred. This statement interrupts the normal flow of execution and transfers control to an appropriate exception handler.\n",
    " \n",
    " --> In short, the `try` statement in Python is used for exception handling. It allows you to enclose a block of code that might raise an exception during runtime. If an exception occurs within the `try` block, it can be caught and handled by the corresponding `except` block. This helps prevent the program from crashing and allows for graceful handling of exceptions."
   ]
  },
  {
   "cell_type": "markdown",
   "id": "f1479448",
   "metadata": {},
   "source": [
    "## Q2. How are class-based exceptions that have been raised matched to handlers?"
   ]
  },
  {
   "cell_type": "markdown",
   "id": "b5e14553",
   "metadata": {},
   "source": [
    "**Answer:** \n",
    "\n",
    "In Python, users have the ability to define their own custom exceptions by creating a new class. To do this, the exception class needs to be derived from the built-in `Exception` class, either directly or indirectly. Once the custom exception class is defined, it can be raised using the `raise` statement, which also allows for an optional error message to be provided."
   ]
  },
  {
   "cell_type": "code",
   "execution_count": 2,
   "id": "648a981d",
   "metadata": {},
   "outputs": [
    {
     "ename": "Less_Amount",
     "evalue": "Minimum withdrawl Amount is 500",
     "output_type": "error",
     "traceback": [
      "\u001b[1;31m---------------------------------------------------------------------------\u001b[0m",
      "\u001b[1;31mLess_Amount\u001b[0m                               Traceback (most recent call last)",
      "\u001b[1;32m~\\AppData\\Local\\Temp\\ipykernel_10916\\2650987273.py\u001b[0m in \u001b[0;36m<module>\u001b[1;34m\u001b[0m\n\u001b[0;32m      3\u001b[0m         \u001b[0mself\u001b[0m\u001b[1;33m.\u001b[0m\u001b[0mmsg\u001b[0m \u001b[1;33m=\u001b[0m \u001b[0mmsg\u001b[0m\u001b[1;33m\u001b[0m\u001b[1;33m\u001b[0m\u001b[0m\n\u001b[0;32m      4\u001b[0m \u001b[0mAmount\u001b[0m \u001b[1;33m=\u001b[0m \u001b[1;36m50\u001b[0m\u001b[1;33m\u001b[0m\u001b[1;33m\u001b[0m\u001b[0m\n\u001b[1;32m----> 5\u001b[1;33m \u001b[1;32mif\u001b[0m \u001b[0mAmount\u001b[0m \u001b[1;33m<=\u001b[0m \u001b[1;36m499\u001b[0m\u001b[1;33m:\u001b[0m \u001b[1;32mraise\u001b[0m \u001b[0mLess_Amount\u001b[0m\u001b[1;33m(\u001b[0m\u001b[1;34m'Minimum withdrawl Amount is 500'\u001b[0m\u001b[1;33m)\u001b[0m\u001b[1;33m\u001b[0m\u001b[1;33m\u001b[0m\u001b[0m\n\u001b[0m",
      "\u001b[1;31mLess_Amount\u001b[0m: Minimum withdrawl Amount is 500"
     ]
    }
   ],
   "source": [
    "class Less_Amount(Exception):\n",
    "    def __init__(self,msg):\n",
    "        self.msg = msg\n",
    "Amount = 50\n",
    "if Amount <= 499: raise Less_Amount('Minimum withdrawl Amount is 500')"
   ]
  },
  {
   "cell_type": "markdown",
   "id": "15ce7b10",
   "metadata": {},
   "source": [
    "## Q3. Describe two methods for attaching context information to exception artefacts ?"
   ]
  },
  {
   "cell_type": "markdown",
   "id": "5bd8ce43",
   "metadata": {},
   "source": [
    "**Answer:** \n",
    "\n",
    "The `process()` method in the LoggerAdapter class is responsible for incorporating contextual information into the logging output. It receives the message and keyword arguments from the logging call, and it returns modified versions of these to be used in the underlying logger's call.\n",
    "\n",
    "Another available method is `exception()`, which logs a message at the ERROR level on this logger. The arguments for `exception()` are interpreted in a similar manner to `debug()`. Additionally, exception information is appended to the logging message, providing details about the raised exception."
   ]
  },
  {
   "cell_type": "markdown",
   "id": "7fbfd775",
   "metadata": {},
   "source": [
    "## Q4. Describe two methods for specifying the text of an exception object's error message ?"
   ]
  },
  {
   "cell_type": "markdown",
   "id": "1f3c5f59",
   "metadata": {},
   "source": [
    "**Answer:**\n",
    "\n",
    "The `raise` and `assert` statements are two methods used to specify the error message of an exception object.\n",
    "\n",
    "The `raise` statement is used to explicitly trigger an exception if a certain condition does not meet the programmer's requirements. It allows programmers to raise exceptions as needed based on their logic and specific conditions.\n",
    "\n",
    "On the other hand, the `assert` statement is used to ensure that specific conditions are always true in order to avoid code failures. If the Boolean condition provided to the `assert` statement is true, the program continues executing. However, if the condition is false, it raises an `AssertionError`, indicating the violation of the expected condition."
   ]
  },
  {
   "cell_type": "markdown",
   "id": "0855de9b",
   "metadata": {},
   "source": [
    "## Q5. Why do you no longer use string-based exceptions?"
   ]
  },
  {
   "cell_type": "markdown",
   "id": "8f9bd3b0",
   "metadata": {},
   "source": [
    "**Answer:** \n",
    "\n",
    "In earlier versions of Python (1.5 and earlier), exceptions were represented as strings rather than classes. However, in modern versions of Python, all exceptions are implemented as classes that inherit from the `BaseException` superclass. The use of class-based exceptions offers several advantages, as classes provide numerous useful features and enable more efficient exception handling."
   ]
  },
  {
   "cell_type": "code",
   "execution_count": null,
   "id": "ef8028be",
   "metadata": {},
   "outputs": [],
   "source": []
  }
 ],
 "metadata": {
  "kernelspec": {
   "display_name": "Python 3 (ipykernel)",
   "language": "python",
   "name": "python3"
  },
  "language_info": {
   "codemirror_mode": {
    "name": "ipython",
    "version": 3
   },
   "file_extension": ".py",
   "mimetype": "text/x-python",
   "name": "python",
   "nbconvert_exporter": "python",
   "pygments_lexer": "ipython3",
   "version": "3.9.13"
  }
 },
 "nbformat": 4,
 "nbformat_minor": 5
}
