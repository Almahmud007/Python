{
 "cells": [
  {
   "cell_type": "markdown",
   "id": "6d38e68b",
   "metadata": {},
   "source": [
    "## 1. What is the concept of an abstract superclass?"
   ]
  },
  {
   "cell_type": "markdown",
   "id": "8861e291",
   "metadata": {},
   "source": [
    "**Ans:** An abstract class/superclass can be considered as a blueprint for other classes. It allows you to create a set of methods that must be created within any child classes built from the abstract class. A class which contains one or more abstract methods is called an abstract class.\n",
    "\n",
    "Whereas an abstract method is a method that has a declaration but does not have an implementation. Also we can not make any object of astract class.\n",
    "\n",
    "**Example:** In below code `BankApp` is abstract class and `security` is abstract method. Until we use security method into MobileApp and WebApp child class. We can not run the code.'';lk"
   ]
  },
  {
   "cell_type": "code",
   "execution_count": 72,
   "id": "2a7f6d8f",
   "metadata": {},
   "outputs": [],
   "source": [
    "from abc import ABC, abstractmethod\n",
    "class BankApp(ABC): # Abstract Class\n",
    "    def database(self):\n",
    "        print(\"Connect Database\")\n",
    "    @abstractmethod\n",
    "    def security(self): # Abstract Method\n",
    "        pass\n",
    "    \n",
    "class MobileApp(BankApp):\n",
    "    def login(self):\n",
    "        print(\"Thank you for login\")\n",
    "    def logout(self):\n",
    "        print(\"See you soon\")\n",
    "        \n",
    "    def security(self): # overriding abstract method in child class BankApp\n",
    "        print(\"This is security code\")\n",
    "        \n",
    "class WebApp(BankApp):\n",
    "    \n",
    "    def login(self):\n",
    "        print(\"Thank you for login\")\n",
    "    def logout(self):\n",
    "        print(\"See you soon\")\n",
    "        \n",
    "    def security(self): # overriding abstract method in child class BankApp\n",
    "        print(\"This is security code\")\n",
    "        "
   ]
  },
  {
   "cell_type": "code",
   "execution_count": 73,
   "id": "fb0beb8d",
   "metadata": {},
   "outputs": [
    {
     "name": "stdout",
     "output_type": "stream",
     "text": [
      "Thank you for login\n"
     ]
    }
   ],
   "source": [
    "mob = MobileApp()\n",
    "mob.login()"
   ]
  },
  {
   "cell_type": "code",
   "execution_count": 74,
   "id": "6df530ab",
   "metadata": {},
   "outputs": [
    {
     "name": "stdout",
     "output_type": "stream",
     "text": [
      "See you soon\n"
     ]
    }
   ],
   "source": [
    "web = WebApp()\n",
    "web.logout()"
   ]
  },
  {
   "cell_type": "code",
   "execution_count": null,
   "id": "cb9b6833",
   "metadata": {},
   "outputs": [],
   "source": []
  },
  {
   "cell_type": "markdown",
   "id": "e4a49a25",
   "metadata": {},
   "source": [
    "## 2. What happens when a class statement's top level contains a basic assignment statement?\n"
   ]
  },
  {
   "cell_type": "markdown",
   "id": "b7230708",
   "metadata": {},
   "source": [
    "**Answer:** In Python, a class statement's top-level typically contains class-level attributes, method definitions, and other class-related statements. If a basic assignment statement is placed directly within the top-level of a class statement, it is considered a class-level attribute assignment.\n",
    "\n",
    "In the below example, x = 10 is a basic assignment statement within the top-level of the MyClass class. It assigns the value 10 to the class-level attribute x. Class-level attributes are shared among all instances of the class."
   ]
  },
  {
   "cell_type": "code",
   "execution_count": 75,
   "id": "859199b5",
   "metadata": {},
   "outputs": [
    {
     "name": "stdout",
     "output_type": "stream",
     "text": [
      "10\n"
     ]
    }
   ],
   "source": [
    "class MyClass:\n",
    "    x = 10  # Class-level attribute assignment\n",
    "\n",
    "    def my_method(self):\n",
    "        print(\"Hello, world!\")\n",
    "        \n",
    "obj = MyClass()\n",
    "print(obj.x)"
   ]
  },
  {
   "cell_type": "markdown",
   "id": "851ed804",
   "metadata": {},
   "source": [
    "#### They can be accessed using the class name or through instances of the class."
   ]
  },
  {
   "cell_type": "code",
   "execution_count": 76,
   "id": "fb9ce13f",
   "metadata": {},
   "outputs": [
    {
     "name": "stdout",
     "output_type": "stream",
     "text": [
      "10\n",
      "10\n"
     ]
    }
   ],
   "source": [
    "print(MyClass.x)  # Output: 10\n",
    "\n",
    "obj = MyClass()\n",
    "print(obj.x)  # Output: 10"
   ]
  },
  {
   "cell_type": "code",
   "execution_count": null,
   "id": "83d560a2",
   "metadata": {},
   "outputs": [],
   "source": []
  },
  {
   "cell_type": "markdown",
   "id": "beb231b3",
   "metadata": {},
   "source": [
    "## 3. Why does a class need to manually call a superclass's **`__init__ `**method?"
   ]
  },
  {
   "cell_type": "markdown",
   "id": "220a9180",
   "metadata": {},
   "source": [
    "**Answer:** if a child class has **`__init__`** method, then it will not inherit the **`__init__`** method of the parent class. in other words the **`__init__`** method of the child class overrides the **`__init__`** method of the parent class. so we have to manually call a parent superclass's **`__init__`** using **`super()`** method.\n",
    "\n",
    "**Example:** In this below code `Person` is the parent class and `Employee` is the child class. We can pass parent `name` and `age` in child class by using `super()` method."
   ]
  },
  {
   "cell_type": "code",
   "execution_count": 77,
   "id": "d30162f0",
   "metadata": {},
   "outputs": [
    {
     "name": "stdout",
     "output_type": "stream",
     "text": [
      "{'name': 'Mahmud', 'age': 28, 'salary': 52000}\n"
     ]
    }
   ],
   "source": [
    "class Person:\n",
    "    def __init__(self,name,age):\n",
    "        self.name = name\n",
    "        self.age = age       \n",
    "class Employee(Person):\n",
    "    def __init__(self,name,age,salary):\n",
    "        super().__init__(name,age)\n",
    "        self.salary = salary\n",
    "Employee_1 = Employee('Mahmud',28,52000)\n",
    "print(Employee_1.__dict__)"
   ]
  },
  {
   "cell_type": "code",
   "execution_count": null,
   "id": "a8e52b10",
   "metadata": {},
   "outputs": [],
   "source": []
  },
  {
   "cell_type": "markdown",
   "id": "f7468111",
   "metadata": {},
   "source": [
    "## 4. How can you augment, instead of completely replacing, an inherited method?"
   ]
  },
  {
   "cell_type": "markdown",
   "id": "c5eb9e54",
   "metadata": {},
   "source": [
    "**Answer:** **`super()`** method can be used to augment, instead of completely replacing, an inherited method.\n",
    "In the subclass, define a new method with the same name as the method you want to augment. This new method will override the inherited method. Within the new method, call the superclass's version of the method using the `super()` function. Add additional functionality before or after the `super()` call to augment the behavior of the inherited method."
   ]
  },
  {
   "cell_type": "code",
   "execution_count": 78,
   "id": "437bf527",
   "metadata": {},
   "outputs": [
    {
     "name": "stdout",
     "output_type": "stream",
     "text": [
      "{'name': 'Vivek', 'gender': 'Male', 'salary': 10000}\n"
     ]
    }
   ],
   "source": [
    "class Person:\n",
    "    def __init__(self,name,gender):\n",
    "        self.name = name\n",
    "        self.gender = gender\n",
    "class Employee(Person):\n",
    "    def __init__(self,name,gender,salary):\n",
    "        super().__init__(name,gender) \n",
    "        self.salary = salary\n",
    "emp_1 = Employee('Vivek','Male',10000)\n",
    "print(emp_1.__dict__)"
   ]
  },
  {
   "cell_type": "markdown",
   "id": "16559793",
   "metadata": {},
   "source": [
    "## 5. How is the local scope of a class different from that of a function?"
   ]
  },
  {
   "cell_type": "markdown",
   "id": "627c7fd5",
   "metadata": {},
   "source": [
    "<u>**Answer:**</u>\n",
    "In Python, the main difference between the local scope of a class and that of a function is the visibility and accessibility of variables.\n",
    "\n",
    "In a function, variables defined within the function are local and can only be accessed within that function's scope:"
   ]
  },
  {
   "cell_type": "code",
   "execution_count": 79,
   "id": "1d9896b9",
   "metadata": {},
   "outputs": [
    {
     "name": "stdout",
     "output_type": "stream",
     "text": [
      "10\n"
     ]
    },
    {
     "ename": "NameError",
     "evalue": "name 'x' is not defined",
     "output_type": "error",
     "traceback": [
      "\u001b[1;31m---------------------------------------------------------------------------\u001b[0m",
      "\u001b[1;31mNameError\u001b[0m                                 Traceback (most recent call last)",
      "\u001b[1;32m~\\AppData\\Local\\Temp\\ipykernel_10204\\2422553292.py\u001b[0m in \u001b[0;36m<module>\u001b[1;34m\u001b[0m\n\u001b[0;32m      4\u001b[0m \u001b[1;33m\u001b[0m\u001b[0m\n\u001b[0;32m      5\u001b[0m \u001b[0mmy_function\u001b[0m\u001b[1;33m(\u001b[0m\u001b[1;33m)\u001b[0m  \u001b[1;31m# Output: 10\u001b[0m\u001b[1;33m\u001b[0m\u001b[1;33m\u001b[0m\u001b[0m\n\u001b[1;32m----> 6\u001b[1;33m \u001b[0mprint\u001b[0m\u001b[1;33m(\u001b[0m\u001b[0mx\u001b[0m\u001b[1;33m)\u001b[0m  \u001b[1;31m# Raises NameError: name 'x' is not defined\u001b[0m\u001b[1;33m\u001b[0m\u001b[1;33m\u001b[0m\u001b[0m\n\u001b[0m",
      "\u001b[1;31mNameError\u001b[0m: name 'x' is not defined"
     ]
    }
   ],
   "source": [
    "def my_function():\n",
    "    x = 10\n",
    "    print(x)\n",
    "\n",
    "my_function()  # Output: 10\n",
    "print(x)  # Raises NameError: name 'x' is not defined"
   ]
  },
  {
   "cell_type": "markdown",
   "id": "59c8e76c",
   "metadata": {},
   "source": [
    "The variable `x` defined within `my_function()` is accessible only within the function and cannot be accessed outside.\n",
    "\n",
    "In contrast, variables defined within a class are accessible throughout the class, including all its methods:"
   ]
  },
  {
   "cell_type": "code",
   "execution_count": 80,
   "id": "62b74e00",
   "metadata": {},
   "outputs": [
    {
     "name": "stdout",
     "output_type": "stream",
     "text": [
      "10\n",
      "10\n"
     ]
    }
   ],
   "source": [
    "class MyClass:\n",
    "    x = 10\n",
    "\n",
    "    def my_method(self):\n",
    "        print(self.x)\n",
    "\n",
    "obj = MyClass()\n",
    "obj.my_method()  # Output: 10\n",
    "print(obj.x)  # Output: 10"
   ]
  },
  {
   "cell_type": "markdown",
   "id": "aa98e255",
   "metadata": {},
   "source": [
    "The variable `x` defined within the class is accessible both within the class's methods and through instances of the class.\n",
    "\n",
    "In summary, while the local scope of a function is limited to the function itself, the local scope of a class encompasses the entire class and its methods, allowing access to class-level attributes."
   ]
  },
  {
   "cell_type": "code",
   "execution_count": null,
   "id": "08fcbb74",
   "metadata": {},
   "outputs": [],
   "source": []
  }
 ],
 "metadata": {
  "kernelspec": {
   "display_name": "Python 3 (ipykernel)",
   "language": "python",
   "name": "python3"
  },
  "language_info": {
   "codemirror_mode": {
    "name": "ipython",
    "version": 3
   },
   "file_extension": ".py",
   "mimetype": "text/x-python",
   "name": "python",
   "nbconvert_exporter": "python",
   "pygments_lexer": "ipython3",
   "version": "3.9.13"
  }
 },
 "nbformat": 4,
 "nbformat_minor": 5
}
