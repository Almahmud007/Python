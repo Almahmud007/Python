{
 "cells": [
  {
   "cell_type": "markdown",
   "id": "096440ca",
   "metadata": {},
   "source": [
    "## Q1. Does assigning a value to a string's indexed character violate Python's string immutability ?"
   ]
  },
  {
   "cell_type": "markdown",
   "id": "9e90eead",
   "metadata": {},
   "source": [
    "Yes, assigning a value to a string's indexed character violates Python's string immutability. Strings in Python are immutable, which means that they cannot be changed once they are created. This means that you cannot change the value of a character in a string by assigning a new value to its index.\n",
    "\n",
    "For example, the following code will raise a TypeError exception:"
   ]
  },
  {
   "cell_type": "code",
   "execution_count": 2,
   "id": "6833a163",
   "metadata": {},
   "outputs": [
    {
     "name": "stdout",
     "output_type": "stream",
     "text": [
      "'str' object does not support item assignment\n"
     ]
    }
   ],
   "source": [
    "string = \"Hello, world!\"\n",
    "\n",
    "try:\n",
    "    string[0] = \"J\"\n",
    "except TypeError as e:\n",
    "    print(e)"
   ]
  },
  {
   "cell_type": "markdown",
   "id": "b16a1f3f",
   "metadata": {},
   "source": [
    "## Q2. Does using the += operator to concatenate strings violate Python's string immutability? Why or why not ?"
   ]
  },
  {
   "cell_type": "markdown",
   "id": "ea261a84",
   "metadata": {},
   "source": [
    "**Answer:**<br>\n",
    "No, using the += operator to concatenate strings does not violate Python's string immutability. Strings in Python are immutable, which means that they cannot be changed once they are created. However, the += operator does not actually change the string that it is operating on. Instead, it creates a new string that is the concatenation of the original string and the string that is being appended.\n",
    "\n",
    "For example, the following code will not violate Python's string immutability:"
   ]
  },
  {
   "cell_type": "code",
   "execution_count": 3,
   "id": "81ce44c9",
   "metadata": {},
   "outputs": [
    {
     "name": "stdout",
     "output_type": "stream",
     "text": [
      "Hello, world!\n"
     ]
    }
   ],
   "source": [
    "string = \"Hello, \"\n",
    "\n",
    "string += \"world!\"\n",
    "\n",
    "print(string)"
   ]
  },
  {
   "cell_type": "code",
   "execution_count": null,
   "id": "9fbf31fc",
   "metadata": {},
   "outputs": [],
   "source": []
  },
  {
   "cell_type": "markdown",
   "id": "76ec588b",
   "metadata": {},
   "source": [
    "## Q3. In Python, how many different ways are there to index a character?"
   ]
  },
  {
   "cell_type": "markdown",
   "id": "7bf113ce",
   "metadata": {},
   "source": [
    "There are two ways to index a character in Python:\n",
    "\n",
    "**1. Positive indexing**<br>\n",
    "**2. Negative indexing**<br>\n",
    "**Positive indexing** refers to indexing a character with a positive integer. The index of the first character in a string is 0, the index of the second character is 1, and so on. For example, the following code will print the first character in the string \"Hello, world!\":"
   ]
  },
  {
   "cell_type": "code",
   "execution_count": 4,
   "id": "e8adc4d2",
   "metadata": {},
   "outputs": [
    {
     "name": "stdout",
     "output_type": "stream",
     "text": [
      "H\n"
     ]
    }
   ],
   "source": [
    "string = \"Hello, world!\"\n",
    "\n",
    "first_character = string[0]\n",
    "\n",
    "print(first_character)"
   ]
  },
  {
   "cell_type": "markdown",
   "id": "efa1063f",
   "metadata": {},
   "source": [
    "**Negative indexing** refers to indexing a character with a negative integer. The index of the last character in a string is -1, the index of the second-to-last character is -2, and so on. For example, the following code will print the last character in the string \"Hello, world!\":"
   ]
  },
  {
   "cell_type": "code",
   "execution_count": null,
   "id": "4417e7a8",
   "metadata": {},
   "outputs": [],
   "source": [
    "string = \"Hello, world!\"\n",
    "\n",
    "last_character = string[-1]\n",
    "\n",
    "print(last_character)"
   ]
  },
  {
   "cell_type": "code",
   "execution_count": null,
   "id": "e85ff0ce",
   "metadata": {},
   "outputs": [],
   "source": []
  },
  {
   "cell_type": "markdown",
   "id": "c3b59e35",
   "metadata": {},
   "source": [
    "## Q4. What is the relationship between indexing and slicing?"
   ]
  },
  {
   "cell_type": "markdown",
   "id": "ded68bac",
   "metadata": {},
   "source": [
    "Indexing and slicing are both ways to access elements in a sequence. Indexing returns a single element, while slicing returns a new sequence that contains the elements in the specified range.\n",
    "\n",
    "The syntax for indexing is sequence[index], where index is the position of the element to access. The syntax for slicing is sequence[start:end], where start is the index of the first element to include in the slice and end is the index of the element to exclude from the slice.\n",
    "\n",
    "For example, the following code will print the first three elements in the list my_list:"
   ]
  },
  {
   "cell_type": "code",
   "execution_count": 5,
   "id": "23111299",
   "metadata": {},
   "outputs": [
    {
     "name": "stdout",
     "output_type": "stream",
     "text": [
      "[1, 2, 3]\n"
     ]
    }
   ],
   "source": [
    "my_list = [1, 2, 3, 4, 5]\n",
    "\n",
    "first_three_elements = my_list[0:3]\n",
    "\n",
    "print(first_three_elements)"
   ]
  },
  {
   "cell_type": "code",
   "execution_count": null,
   "id": "7057503c",
   "metadata": {},
   "outputs": [],
   "source": []
  },
  {
   "cell_type": "markdown",
   "id": "a942747b",
   "metadata": {},
   "source": [
    "## Q5. What is an indexed character's exact data type? What is the data form of a slicing-generated substring?"
   ]
  },
  {
   "cell_type": "markdown",
   "id": "db350165",
   "metadata": {},
   "source": [
    "**Answer:** For both cases, it is 'str' type."
   ]
  },
  {
   "cell_type": "code",
   "execution_count": 6,
   "id": "130a9c19",
   "metadata": {},
   "outputs": [
    {
     "name": "stdout",
     "output_type": "stream",
     "text": [
      "<class 'str'>\n",
      "<class 'str'>\n"
     ]
    }
   ],
   "source": [
    "in_string = \"iNeuron Full Stack Data Science\"\n",
    "print(type(in_string[3])) # Indexing -> str\n",
    "print(type(in_string[1:10])) # Indexing -> str"
   ]
  },
  {
   "cell_type": "code",
   "execution_count": null,
   "id": "6da68b3a",
   "metadata": {},
   "outputs": [],
   "source": []
  },
  {
   "cell_type": "markdown",
   "id": "2b61703e",
   "metadata": {},
   "source": [
    "#### Q6. What is the relationship between string and character \"types\" in Python?\n",
    "**Ans:** Object that contains sequence of character datatypes are called String."
   ]
  },
  {
   "cell_type": "code",
   "execution_count": null,
   "id": "48a4103b",
   "metadata": {},
   "outputs": [],
   "source": []
  },
  {
   "cell_type": "code",
   "execution_count": null,
   "id": "f50be541",
   "metadata": {},
   "outputs": [],
   "source": []
  },
  {
   "cell_type": "markdown",
   "id": "7c5362fc",
   "metadata": {},
   "source": [
    "## Q7. Identify at least two operators & one method that allow you to combine one or more smaller strings to create a larger string ?"
   ]
  },
  {
   "cell_type": "markdown",
   "id": "b369e99e",
   "metadata": {},
   "source": [
    "**Answer:** <br>**`+`**, **`+=`** and **`*`** allow to combine one or more smaller strings to create a larger string. **`<string>.join(<sep>)`** method joins element of iterable type like list and tuple to get a combined string. "
   ]
  },
  {
   "cell_type": "code",
   "execution_count": 5,
   "id": "064b196f",
   "metadata": {},
   "outputs": [
    {
     "name": "stdout",
     "output_type": "stream",
     "text": [
      "iNeuron Full Stack Data Science FSDS\n",
      "FSDS FSDS FSDS \n",
      "I N E U R O N\n",
      "i n e u r o n\n"
     ]
    }
   ],
   "source": [
    "in_string = 'iNeuron '\n",
    "in_string += 'Full Stack Data Science'\n",
    "print(in_string + ' FSDS')\n",
    "print('FSDS '*3)\n",
    "print(\" \".join(['I','N','E','U','R','O','N'])) # List Iterable\n",
    "print(\" \".join(('I','N','E','U','R','O','N')).lower()) # Tuple Iterable"
   ]
  },
  {
   "cell_type": "code",
   "execution_count": null,
   "id": "65072aec",
   "metadata": {},
   "outputs": [],
   "source": []
  },
  {
   "cell_type": "markdown",
   "id": "f0e842af",
   "metadata": {},
   "source": [
    "## Q8. What is the benefit of first checking the target string with in or not in before using the index method to find a substring ? "
   ]
  },
  {
   "cell_type": "markdown",
   "id": "549f17ab",
   "metadata": {},
   "source": [
    "**Answer:** <br>\n",
    "The benefit of first checking the target string with in or not in before using the index method to find a substring is that it can prevent errors. If the substring is not found, the index method will raise a ValueError exception. By checking the target string first, you can avoid this exception and ensure that your program runs smoothly.\n",
    "\n",
    "Here is an example of how to use in and not in to check for a substring:"
   ]
  },
  {
   "cell_type": "code",
   "execution_count": 7,
   "id": "9f2e9a72",
   "metadata": {},
   "outputs": [
    {
     "name": "stdout",
     "output_type": "stream",
     "text": [
      "The substring 'string' is found.\n",
      "10\n"
     ]
    }
   ],
   "source": [
    "string = \"This is a string with the substring 'string'.\"\n",
    "\n",
    "substring = \"string\"\n",
    "\n",
    "if substring in string:\n",
    "    print(\"The substring 'string' is found.\")\n",
    "else:\n",
    "    print(\"The substring 'string' is not found.\")\n",
    "\n",
    "index = string.index(substring)\n",
    "\n",
    "print(index)"
   ]
  },
  {
   "cell_type": "markdown",
   "id": "86b6bc76",
   "metadata": {},
   "source": [
    "## Q9. Which operators and built-in string methods produce simple Boolean (true/false) results?"
   ]
  },
  {
   "cell_type": "markdown",
   "id": "a2af350b",
   "metadata": {},
   "source": [
    "**Operators:** <br>\n",
    "\n",
    "    1. Comparison operators : (== ,!= ,< ,> ,<=, >=) \n",
    "    2. Logical Operators : (and, or, not)\n",
    "    3. Identity Operators : (is , is not)\n",
    "    4. Membership Operators : (in, not in)\n",
    "\n",
    "**Operators:** <br>\n",
    "    1. endswith() : Returns true if the string ends with the specified value <br>\n",
    "    2. isalnum()\tReturns True if all characters in the string are alphanumeric        \n",
    "    3. isalpha()\tReturns True if all characters in the string are in the alphabet        \n",
    "    4. isdecimal()\tReturns True if all characters in the string are decimals       \n",
    "    5. isdigit()\tReturns True if all characters in the string are digits        \n",
    "    6. isidentifier()\tReturns True if the string is an identifier        \n",
    "    7. islower()\tReturns True if all characters in the string are lower case        \n",
    "    8. isnumeric()\tReturns True if all characters in the string are numeric        \n",
    "    9. isprintable()\tReturns True if all characters in the string are printable        \n",
    "    10. isspace()\tReturns True if all characters in the string are whitespaces        \n",
    "    11. istitle()\tReturns True if the string follows the rules of a title        \n",
    "    12. isupper()\tReturns True if all characters in the string are upper case"
   ]
  },
  {
   "cell_type": "code",
   "execution_count": null,
   "id": "2708c547",
   "metadata": {},
   "outputs": [],
   "source": []
  }
 ],
 "metadata": {
  "kernelspec": {
   "display_name": "Python 3 (ipykernel)",
   "language": "python",
   "name": "python3"
  },
  "language_info": {
   "codemirror_mode": {
    "name": "ipython",
    "version": 3
   },
   "file_extension": ".py",
   "mimetype": "text/x-python",
   "name": "python",
   "nbconvert_exporter": "python",
   "pygments_lexer": "ipython3",
   "version": "3.9.13"
  }
 },
 "nbformat": 4,
 "nbformat_minor": 5
}
