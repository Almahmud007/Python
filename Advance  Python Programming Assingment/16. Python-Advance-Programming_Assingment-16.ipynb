{
 "cells": [
  {
   "cell_type": "markdown",
   "id": "f8313cc0",
   "metadata": {},
   "source": [
    "## Q1. What is the benefit of regular expressions?"
   ]
  },
  {
   "cell_type": "markdown",
   "id": "a689bd39",
   "metadata": {},
   "source": [
    "**Answer:** <br> Regular Expressions, commonly known as **regex** or **regexp**, serve the purpose of matching specific strings of text, including particular characters, words, or patterns. Utilizing regular expressions empowers us to extract desired string patterns from text efficiently. By doing so, programmers can write concise and cleaner code while reducing the need for multiple **if/else** statements. Regular expressions provide a powerful means to handle complex text processing tasks in a more streamlined manner."
   ]
  },
  {
   "cell_type": "code",
   "execution_count": null,
   "id": "251919bf",
   "metadata": {},
   "outputs": [],
   "source": []
  },
  {
   "cell_type": "markdown",
   "id": "3ec69ca0",
   "metadata": {},
   "source": [
    "## Q2. Describe the difference between the effects of \"(ab)c+\" and \"a(bc)+\" Which of these, if any, is the unqualified pattern \"abc+\"?"
   ]
  },
  {
   "cell_type": "markdown",
   "id": "a01878a7",
   "metadata": {},
   "source": [
    "**Answer:** <br>Both \"(ab)c+\" and \"a(bc)+\" are valid patterns. The distinction lies in the grouping: \"(ab)c+\" groups \"ab\" together, whereas \"a(bc)+\" groups \"bc\" together."
   ]
  },
  {
   "cell_type": "code",
   "execution_count": null,
   "id": "c8fd0469",
   "metadata": {},
   "outputs": [],
   "source": []
  },
  {
   "cell_type": "markdown",
   "id": "2b4c8728",
   "metadata": {},
   "source": [
    "## Q3. How much do you need to use the following sentence while using regular expressions?\n",
    "**`import re`**  "
   ]
  },
  {
   "cell_type": "markdown",
   "id": "e78ad56f",
   "metadata": {},
   "source": [
    "**Answer:** <br>The sentence \"import re\" is typically used at the beginning of a Python script or module to import the \"re\" module, which provides support for regular expressions in Python.\n",
    "\n",
    "Once you have imported the \"re\" module, you can use its functions and methods to work with regular expressions in your Python code. The \"re\" module offers various functions, such as `re.search()`, `re.match()`, `re.findall()`, and more, to perform pattern matching and text manipulation tasks using regular expressions."
   ]
  },
  {
   "cell_type": "code",
   "execution_count": null,
   "id": "c70346b9",
   "metadata": {},
   "outputs": [],
   "source": []
  },
  {
   "cell_type": "markdown",
   "id": "2338be46",
   "metadata": {},
   "source": [
    "## Q4. Which characters have special significance in square brackets when expressing a range, and under what circumstances?"
   ]
  },
  {
   "cell_type": "markdown",
   "id": "90f47834",
   "metadata": {},
   "source": [
    "In Python regular expressions, the characters with special significance in square brackets when expressing a range are:\n",
    "\n",
    "1. **Hyphen (\"-\"):** The hyphen is used to define character ranges within square brackets. For example, `[a-z]` represents all lowercase alphabets from 'a' to 'z'. Similarly, `[0-9]` represents all digits from 0 to 9.\n",
    "\n",
    "2. **Caret (\"^\"):** When the caret is placed as the first character inside square brackets (`[^...]`), it negates the character set, matching any character that is not present in the specified range. For instance, `[^a-z]` will match any character that is not a lowercase letter.\n",
    "\n",
    "3. **Backslash (\"\\\"):** Backslash is used as an escape character to remove the special meaning of certain characters. For example, to match a literal hyphen \"-\", you can use `\\-` within the square brackets."
   ]
  },
  {
   "cell_type": "code",
   "execution_count": null,
   "id": "79af3f19",
   "metadata": {},
   "outputs": [],
   "source": []
  },
  {
   "cell_type": "markdown",
   "id": "bc0c3bef",
   "metadata": {},
   "source": [
    "## Q5. How does compiling a regular-expression object benefit you?"
   ]
  },
  {
   "cell_type": "markdown",
   "id": "60fccd70",
   "metadata": {},
   "source": [
    "**Answer** <br>\n",
    "In Python, we can create pattern objects by combining regular expression patterns using `re.compile()`. These pattern objects are used for pattern matching, allowing us to search for the same pattern multiple times without rewriting it. This approach enhances code efficiency and simplifies the process of pattern matching tasks."
   ]
  },
  {
   "cell_type": "code",
   "execution_count": null,
   "id": "6effd956",
   "metadata": {},
   "outputs": [],
   "source": []
  },
  {
   "cell_type": "markdown",
   "id": "c2885976",
   "metadata": {},
   "source": [
    "## Q6. What are some examples of how to use the match object returned by re.match and re.search?"
   ]
  },
  {
   "cell_type": "markdown",
   "id": "04554382",
   "metadata": {},
   "source": [
    "**Answer:** <br>In Python, the `re` module provides two efficient and fast functions for searching in strings: `re.search()` and `re.match()`. These functions search for a specific substring in a string and return a match object if found, otherwise, they return `None`.\n",
    "\n",
    "The difference lies in their behavior:\n",
    "- `re.match()` searches for the substring only from the beginning of the string. If a match is found at the beginning, it returns a match object; otherwise, it returns `None`. However, if a match is found somewhere in the middle of the string, it returns `None`.\n",
    "\n",
    "- `re.search()` searches for the substring throughout the entire string, even if the string contains multiple lines. It tries to find a match of the substring in all lines of the string and returns the first match found as a match object.\n",
    "\n",
    "In summary, `re.match()` focuses on finding a match at the beginning of the string, while `re.search()` scans the entire string to find a match, even across multiple lines."
   ]
  },
  {
   "cell_type": "code",
   "execution_count": 1,
   "id": "358eb508",
   "metadata": {},
   "outputs": [
    {
     "name": "stdout",
     "output_type": "stream",
     "text": [
      "<re.Match object; span=(66, 72), match='string'>\n",
      "None\n",
      "<re.Match object; span=(0, 6), match='string'>\n",
      "<re.Match object; span=(0, 6), match='string'>\n"
     ]
    }
   ],
   "source": [
    "import re\n",
    "Substring ='string' \n",
    "String1 ='We are learning regex with geeksforgeeks regex is very useful for string matching. It is fast too.' \n",
    "String2 ='string We are learning regex with geeksforgeeks regex is very useful for string matching. It is fast too.'\n",
    "print(re.search(Substring, String1, re.IGNORECASE))\n",
    "print(re.match(Substring, String1, re.IGNORECASE))\n",
    "print(re.search(Substring, String2, re.IGNORECASE))\n",
    "print(re.match(Substring, String2, re.IGNORECASE))"
   ]
  },
  {
   "cell_type": "code",
   "execution_count": null,
   "id": "bf25d075",
   "metadata": {},
   "outputs": [],
   "source": []
  },
  {
   "cell_type": "markdown",
   "id": "babed21c",
   "metadata": {},
   "source": [
    "## Q7. What is the difference between using a vertical bar (|) as an alteration and using square brackets as a character set?"
   ]
  },
  {
   "cell_type": "markdown",
   "id": "bbc147ad",
   "metadata": {},
   "source": [
    "**Answer:** <br>In Python, when the `|` symbol is used in regular expressions, it represents the \"or\" option. For example, `<pattern_1>|<pattern_2>` searches for either `<pattern_1>` or `<pattern_2>` in the searched string. The first occurrence of the matched string will be returned as the Match Object.\n",
    "\n",
    "On the other hand, using a character set within square brackets `[...]` searches for any character from the specified set. If a match is found, it returns it as the result. For instance, `[aeiou]` will search for any vowel in the searched string and return the first occurrence as the Match Object."
   ]
  },
  {
   "cell_type": "code",
   "execution_count": null,
   "id": "2a76c421",
   "metadata": {},
   "outputs": [],
   "source": []
  },
  {
   "cell_type": "markdown",
   "id": "aad2feb4",
   "metadata": {},
   "source": [
    "## Q8. In regular-expression search patterns, why is it necessary to use the raw-string indicator (r)? In   replacement strings?"
   ]
  },
  {
   "cell_type": "markdown",
   "id": "241bebc0",
   "metadata": {},
   "source": [
    "**Answer:** <br>In Python, raw strings are employed in regular-expression search patterns to avoid the need for escaping backslashes."
   ]
  },
  {
   "cell_type": "code",
   "execution_count": null,
   "id": "990f8255",
   "metadata": {},
   "outputs": [],
   "source": []
  }
 ],
 "metadata": {
  "kernelspec": {
   "display_name": "Python 3 (ipykernel)",
   "language": "python",
   "name": "python3"
  },
  "language_info": {
   "codemirror_mode": {
    "name": "ipython",
    "version": 3
   },
   "file_extension": ".py",
   "mimetype": "text/x-python",
   "name": "python",
   "nbconvert_exporter": "python",
   "pygments_lexer": "ipython3",
   "version": "3.9.13"
  }
 },
 "nbformat": 4,
 "nbformat_minor": 5
}
