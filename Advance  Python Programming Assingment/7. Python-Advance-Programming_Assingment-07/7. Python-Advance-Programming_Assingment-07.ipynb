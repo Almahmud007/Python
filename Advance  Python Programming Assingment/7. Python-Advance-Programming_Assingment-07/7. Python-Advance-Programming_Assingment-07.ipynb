{
 "cells": [
  {
   "cell_type": "markdown",
   "id": "890ac6ef",
   "metadata": {},
   "source": [
    "## Q1. What is the purpose of the try statement?"
   ]
  },
  {
   "cell_type": "markdown",
   "id": "a7a828b6",
   "metadata": {},
   "source": [
    "**Answer:**\n",
    "In Python, the `try` statement is used for handling exceptions. It allows you to enclose a block of code that might raise an exception during runtime. If an exception occurs within the try block, it will be caught and handled by the corresponding `except` block (if one is specified), or by the default `except` block if no specific except blocks are present. This helps prevent the program from crashing due to exceptions."
   ]
  },
  {
   "cell_type": "code",
   "execution_count": 1,
   "id": "72d89888",
   "metadata": {},
   "outputs": [
    {
     "name": "stdout",
     "output_type": "stream",
     "text": [
      "Division by Zero is Not Possible\n"
     ]
    }
   ],
   "source": [
    "try:\n",
    "    print(2/0)\n",
    "except ZeroDivisionError:\n",
    "    print('Division by Zero is Not Possible')"
   ]
  },
  {
   "cell_type": "markdown",
   "id": "4edfb2b6",
   "metadata": {},
   "source": [
    "## Q2. What are the two most popular try statement variations?"
   ]
  },
  {
   "cell_type": "markdown",
   "id": "40334bbc",
   "metadata": {},
   "source": [
    "Two most popular variations of the `try` statement are:\n",
    "\n",
    "1. `try-except` block: This variation allows you to catch and handle specific exceptions that may occur within the `try` block. You can specify one or more `except` blocks after the `try` block, each handling a different type of exception. If an exception of the specified type occurs, the corresponding `except` block will be executed. Here's an example:\n",
    "\n",
    "\n",
    "2. `try-except-finally` block: This variation allows you to specify a `finally` block in addition to the `try` and `except` blocks. The code within the `finally` block will always be executed, regardless of whether an exception occurs or not. It is typically used for performing cleanup tasks or releasing resources. Here's an example:\n",
    "\n",
    "These variations provide flexibility in handling exceptions and ensuring that necessary cleanup actions are taken."
   ]
  },
  {
   "cell_type": "code",
   "execution_count": null,
   "id": "d3751698",
   "metadata": {},
   "outputs": [],
   "source": []
  },
  {
   "cell_type": "markdown",
   "id": "c39b56b0",
   "metadata": {},
   "source": [
    "## Q3. What is the purpose of the raise statement?"
   ]
  },
  {
   "cell_type": "markdown",
   "id": "f13d3ccf",
   "metadata": {},
   "source": [
    "**Ans:** **`raise`** statement is used to trigger an exception explicitly, if a certain condition is not as per requirement of programmer. **`raise`** statement helps in triggering exception as per programming logic."
   ]
  },
  {
   "cell_type": "markdown",
   "id": "855e7ee6",
   "metadata": {},
   "source": [
    "The `raise` statement is used to explicitly raise an exception. It allows you to generate and raise exceptions programmatically at any point in your code. \n",
    "\n",
    "The `raise` statement is typically used in situations where you want to signal that an error or exceptional condition has occurred. By raising an exception, you can interrupt the normal flow of execution and transfer control to an appropriate exception handler.\n",
    "\n",
    "The `raise` statement can be used in two ways:\n",
    "1. Raising built-in exceptions: You can use `raise` followed by the name of a built-in exception class (e.g., `ValueError`, `TypeError`) to raise a specific type of exception. For example:"
   ]
  },
  {
   "cell_type": "code",
   "execution_count": 10,
   "id": "354851c7",
   "metadata": {},
   "outputs": [
    {
     "ename": "ValueError",
     "evalue": "x cannot be negative",
     "output_type": "error",
     "traceback": [
      "\u001b[1;31m---------------------------------------------------------------------------\u001b[0m",
      "\u001b[1;31mValueError\u001b[0m                                Traceback (most recent call last)",
      "\u001b[1;32m~\\AppData\\Local\\Temp\\ipykernel_1952\\612338449.py\u001b[0m in \u001b[0;36m<module>\u001b[1;34m\u001b[0m\n\u001b[0;32m      1\u001b[0m \u001b[1;32mif\u001b[0m \u001b[0mx\u001b[0m \u001b[1;33m<\u001b[0m \u001b[1;36m0\u001b[0m\u001b[1;33m:\u001b[0m\u001b[1;33m\u001b[0m\u001b[1;33m\u001b[0m\u001b[0m\n\u001b[1;32m----> 2\u001b[1;33m     \u001b[1;32mraise\u001b[0m \u001b[0mValueError\u001b[0m\u001b[1;33m(\u001b[0m\u001b[1;34m\"x cannot be negative\"\u001b[0m\u001b[1;33m)\u001b[0m\u001b[1;33m\u001b[0m\u001b[1;33m\u001b[0m\u001b[0m\n\u001b[0m",
      "\u001b[1;31mValueError\u001b[0m: x cannot be negative"
     ]
    }
   ],
   "source": [
    "if x < 0:\n",
    "    raise ValueError(\"x cannot be negative\")"
   ]
  },
  {
   "cell_type": "markdown",
   "id": "3c0b8d02",
   "metadata": {},
   "source": [
    "2. Raising custom exceptions: You can also define your own custom exception classes by creating a new class that inherits from the `Exception` class (or any of its subclasses). Then, you can raise an instance of your custom exception class using the `raise` statement. For example:"
   ]
  },
  {
   "cell_type": "code",
   "execution_count": 17,
   "id": "3f90ed41",
   "metadata": {},
   "outputs": [
    {
     "ename": "MyCustomException",
     "evalue": "Opps! An error occurred.",
     "output_type": "error",
     "traceback": [
      "\u001b[1;31m---------------------------------------------------------------------------\u001b[0m",
      "\u001b[1;31mMyCustomException\u001b[0m                         Traceback (most recent call last)",
      "\u001b[1;32m~\\AppData\\Local\\Temp\\ipykernel_1952\\3937174925.py\u001b[0m in \u001b[0;36m<module>\u001b[1;34m\u001b[0m\n\u001b[0;32m      3\u001b[0m \u001b[1;33m\u001b[0m\u001b[0m\n\u001b[0;32m      4\u001b[0m \u001b[1;32mif\u001b[0m \u001b[0mx\u001b[0m \u001b[1;33m<\u001b[0m \u001b[1;36m0\u001b[0m\u001b[1;33m:\u001b[0m\u001b[1;33m\u001b[0m\u001b[1;33m\u001b[0m\u001b[0m\n\u001b[1;32m----> 5\u001b[1;33m     \u001b[1;32mraise\u001b[0m \u001b[0mMyCustomException\u001b[0m\u001b[1;33m(\u001b[0m\u001b[1;34m\"Opps! An error occurred.\"\u001b[0m\u001b[1;33m)\u001b[0m\u001b[1;33m\u001b[0m\u001b[1;33m\u001b[0m\u001b[0m\n\u001b[0m",
      "\u001b[1;31mMyCustomException\u001b[0m: Opps! An error occurred."
     ]
    }
   ],
   "source": [
    "class MyCustomException(Exception):\n",
    "    pass\n",
    "\n",
    "if x < 0:\n",
    "    raise MyCustomException(\"Opps! An error occurred.\")"
   ]
  },
  {
   "cell_type": "code",
   "execution_count": null,
   "id": "fe2b9832",
   "metadata": {},
   "outputs": [],
   "source": []
  },
  {
   "cell_type": "markdown",
   "id": "2ea68550",
   "metadata": {},
   "source": [
    "## Q4. What does the assert statement do, and what other statement is it like?"
   ]
  },
  {
   "cell_type": "markdown",
   "id": "ecebee42",
   "metadata": {},
   "source": [
    "In Python, the `assert` statement is used to check if certain conditions are true during program execution. It often use assertions to ensure that specific conditions are met, in order to avoid potential code failures. The `assert` statement takes a boolean condition as its argument. If the condition evaluates to `True`, the program continues executing. However, if the condition evaluates to `False`, an `AssertionError` is raised."
   ]
  },
  {
   "cell_type": "code",
   "execution_count": 20,
   "id": "6df3fe6c",
   "metadata": {},
   "outputs": [
    {
     "ename": "AssertionError",
     "evalue": "this is not a valid statement",
     "output_type": "error",
     "traceback": [
      "\u001b[1;31m---------------------------------------------------------------------------\u001b[0m",
      "\u001b[1;31mAssertionError\u001b[0m                            Traceback (most recent call last)",
      "\u001b[1;32m~\\AppData\\Local\\Temp\\ipykernel_1952\\3633858684.py\u001b[0m in \u001b[0;36m<module>\u001b[1;34m\u001b[0m\n\u001b[1;32m----> 1\u001b[1;33m \u001b[1;32massert\u001b[0m\u001b[1;33m(\u001b[0m\u001b[1;36m2\u001b[0m \u001b[1;33m==\u001b[0m \u001b[1;36m4\u001b[0m\u001b[1;33m)\u001b[0m\u001b[1;33m,\u001b[0m \u001b[1;34mf'this is not a valid statement'\u001b[0m\u001b[1;33m\u001b[0m\u001b[1;33m\u001b[0m\u001b[0m\n\u001b[0m",
      "\u001b[1;31mAssertionError\u001b[0m: this is not a valid statement"
     ]
    }
   ],
   "source": [
    "assert(2 == 4), f'this is not a valid statement'"
   ]
  },
  {
   "cell_type": "markdown",
   "id": "1cc50d65",
   "metadata": {},
   "source": [
    "## Q5. What is the purpose of the with/as argument, and what other statement is it like?"
   ]
  },
  {
   "cell_type": "markdown",
   "id": "0866a021",
   "metadata": {},
   "source": [
    "**Answer:** The `with/as` statement in Python simplifies file handling by automatically managing resources and ensuring proper cleanup. When using the `with` statement for file reading, programmers are relieved from explicitly handling activities such as resource deallocation and file closing using the `file.close()` method. The `with` statement takes care of acquiring and releasing resources properly, eliminating the need for manual intervention.\n",
    "\n",
    "By using the `with` statement, potential exceptions caused by unintentional omission of file closing in the code execution are avoided. The `with` statement guarantees that the file will be closed, regardless of whether an exception occurs within the block. This ensures a more robust and error-resistant approach to file handling."
   ]
  },
  {
   "cell_type": "code",
   "execution_count": 24,
   "id": "2371f17a",
   "metadata": {},
   "outputs": [],
   "source": [
    "with open('sample_file.txt','w') as file:\n",
    "    file.write('Hello, Mahmud')"
   ]
  },
  {
   "cell_type": "code",
   "execution_count": null,
   "id": "2cf0fba0",
   "metadata": {},
   "outputs": [],
   "source": []
  }
 ],
 "metadata": {
  "kernelspec": {
   "display_name": "Python 3 (ipykernel)",
   "language": "python",
   "name": "python3"
  },
  "language_info": {
   "codemirror_mode": {
    "name": "ipython",
    "version": 3
   },
   "file_extension": ".py",
   "mimetype": "text/x-python",
   "name": "python",
   "nbconvert_exporter": "python",
   "pygments_lexer": "ipython3",
   "version": "3.9.13"
  }
 },
 "nbformat": 4,
 "nbformat_minor": 5
}
