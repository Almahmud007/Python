{
 "cells": [
  {
   "cell_type": "markdown",
   "id": "fdba87a8",
   "metadata": {},
   "source": [
    "## Q1. Explain the difference between greedy and non-greedy syntax with visual terms in as few words as possible. What is the bare minimum effort required to transform a greedy pattern into a non-greedy one? What characters or characters can you introduce or change?"
   ]
  },
  {
   "cell_type": "markdown",
   "id": "4e994afc",
   "metadata": {},
   "source": [
    "**Answer:** <br> The primary distinction between Greedy and Non-Greedy Match Syntax is that Greedy Match aims to match as many repetitions of the quantified pattern as possible, while Non-Greedy Match attempts to match as few repetitions of the quantified pattern as possible.\n",
    "\n",
    "Greedy: Matches as much as possible, consuming more characters.\n",
    "\n",
    "Non-greedy: Matches as little as possible, consuming fewer characters.\n",
    "\n",
    "To transform a greedy pattern into a non-greedy one in Python, add a \"?\" after the quantifier.\n",
    "\n",
    "Example: Change \".*\" (greedy) to \".*?\" (non-greedy) in Python's regular expressions."
   ]
  },
  {
   "cell_type": "code",
   "execution_count": 43,
   "id": "ee173e45",
   "metadata": {},
   "outputs": [
    {
     "name": "stdout",
     "output_type": "stream",
     "text": [
      "ababacjcjd\n"
     ]
    }
   ],
   "source": [
    "# Greedy Match:\n",
    "\n",
    "import re\n",
    "\n",
    "text = \"ababacjcjd\"\n",
    "greedy_match = re.search(r'ab.*', text)\n",
    "\n",
    "print(greedy_match.group())"
   ]
  },
  {
   "cell_type": "code",
   "execution_count": 45,
   "id": "29a014d7",
   "metadata": {},
   "outputs": [
    {
     "name": "stdout",
     "output_type": "stream",
     "text": [
      "ab\n"
     ]
    }
   ],
   "source": [
    "# Non-Greedy Match\n",
    "\n",
    "import re\n",
    "\n",
    "text = \"ababababaaaaabbbbsfdgsfgfdg\"\n",
    "non_greedy_match = re.search(r'ab.*?', text)\n",
    "\n",
    "print(non_greedy_match.group())\n"
   ]
  },
  {
   "cell_type": "code",
   "execution_count": null,
   "id": "9e0c9063",
   "metadata": {},
   "outputs": [],
   "source": []
  },
  {
   "cell_type": "markdown",
   "id": "c91d4a1f",
   "metadata": {},
   "source": [
    "## Q2. When exactly does greedy versus non-greedy make a difference?  What if you're looking for a non-greedy match but the only one available is greedy?\n"
   ]
  },
  {
   "cell_type": "markdown",
   "id": "f2e76a2f",
   "metadata": {},
   "source": [
    "**Answer:** The Greedy Match aims to match the maximum repetitions of the quantified pattern, while the Non-Greedy Match aims to match the minimum repetitions. If only the Non-Greedy Match is available, we can use additional filtering or pattern matching methods in regex to identify the desired pattern more precisely."
   ]
  },
  {
   "cell_type": "code",
   "execution_count": null,
   "id": "818893ab",
   "metadata": {},
   "outputs": [],
   "source": []
  },
  {
   "cell_type": "markdown",
   "id": "ab858979",
   "metadata": {},
   "source": [
    "## Q3. In a simple match of a string, which looks only for one match and does not do any replacement, is the use of a nontagged group likely to make any practical difference?"
   ]
  },
  {
   "cell_type": "markdown",
   "id": "389a49b1",
   "metadata": {},
   "source": []
  },
  {
   "cell_type": "markdown",
   "id": "8fd905ed",
   "metadata": {},
   "source": [
    "**Answer:** <br>In Python, a nontagged group is a group that is not stored in the match object's groups attribute. This means that you cannot access it using the group() method. However, if you do not need to access the text matched by the nontagged group, then there is no reason not to use it.\n",
    "\n",
    "In a simple match of a string that does not do any replacement, the use of a nontagged group is unlikely to make any practical difference. However, if the program needs to access the text matched by the group, then it is necessary to use a tagged group."
   ]
  },
  {
   "cell_type": "code",
   "execution_count": 9,
   "id": "66390111",
   "metadata": {},
   "outputs": [
    {
     "name": "stdout",
     "output_type": "stream",
     "text": [
      "Phone number found -> 278\n",
      "Phone number found -> 278\n"
     ]
    }
   ],
   "source": [
    "import re\n",
    "phoneNumRegex = re.compile(r'\\d\\d\\d')\n",
    "num = phoneNumRegex.search('My number is 278-568-9874.')\n",
    "print(f'Phone number found -> {num.group()}') # Non Tagged group\n",
    "print(f'Phone number found -> {num.group(0)}') # Tagged Group"
   ]
  },
  {
   "cell_type": "code",
   "execution_count": null,
   "id": "18077b52",
   "metadata": {},
   "outputs": [],
   "source": []
  },
  {
   "cell_type": "markdown",
   "id": "124d3ed0",
   "metadata": {},
   "source": [
    "## Q4. Describe a scenario in which using a nontagged category would have a significant impact on the program's outcomes ?"
   ]
  },
  {
   "cell_type": "markdown",
   "id": "0eff57fe",
   "metadata": {},
   "source": [
    "**Answer:** <br> In the code snippet, the decimal point (.) is not tagged or captured. This means that it will not be stored in the match object's groups attribute. This is useful in scenarios where the separator of value in a string is of no use and we need to capture only the values."
   ]
  },
  {
   "cell_type": "code",
   "execution_count": 47,
   "id": "9f093ed2",
   "metadata": {},
   "outputs": [
    {
     "data": {
      "text/plain": [
       "('135', '456')"
      ]
     },
     "execution_count": 47,
     "metadata": {},
     "output_type": "execute_result"
    }
   ],
   "source": [
    "# Ans : Non tagged category :\n",
    "import re\n",
    "text='135.456'\n",
    "pattern=r'(\\d+)(?:.)(\\d+)'\n",
    "regobj=re.compile(pattern)\n",
    "matobj=regobj.search(text)\n",
    "matobj.groups()\n",
    "#  Here the '.' decimal is not tagged or captured.\n",
    "#  It will useful in scenarios where the separator of value in a string is of no use and we need to capture only the\n",
    "#  values."
   ]
  },
  {
   "cell_type": "code",
   "execution_count": null,
   "id": "27f745c4",
   "metadata": {},
   "outputs": [],
   "source": []
  },
  {
   "cell_type": "markdown",
   "id": "5a76e42a",
   "metadata": {},
   "source": [
    "## Q5. Unlike a normal regex pattern, a look-ahead condition does not consume the characters it examines. Describe a situation in which this could make a difference in the results of your programme ?"
   ]
  },
  {
   "cell_type": "markdown",
   "id": "b7dbd9ff",
   "metadata": {},
   "source": [
    "**Answer:** <br> Positive look-ahead is essential for accurately counting the number of multiple lines or sentences in a string. Without it, we won't obtain the correct count due to its ability to match patterns without consuming characters."
   ]
  },
  {
   "cell_type": "code",
   "execution_count": null,
   "id": "78506b2a",
   "metadata": {},
   "outputs": [],
   "source": []
  },
  {
   "cell_type": "markdown",
   "id": "5a6e0d8f",
   "metadata": {},
   "source": [
    "## Q6. In standard expressions, what is the difference between positive look-ahead and negative look-ahead ?"
   ]
  },
  {
   "cell_type": "markdown",
   "id": "fd05b579",
   "metadata": {},
   "source": [
    "**Ans:** <br> Positive Look-Ahead (`(?=...)`) ensures a specific condition follows the main pattern without including it in the match. Negative Look-Ahead (`(?!...)`) ensures a specific condition does not follow the main pattern without including it in the match. Both are lookaround assertions in Python's regular expressions."
   ]
  },
  {
   "cell_type": "code",
   "execution_count": 48,
   "id": "9154ac59",
   "metadata": {},
   "outputs": [
    {
     "name": "stdout",
     "output_type": "stream",
     "text": [
      "Positive lookahead: ['abc']\n",
      "Negative look ahead: ['abc']\n"
     ]
    }
   ],
   "source": [
    "# Positive lookahead\n",
    "import re\n",
    "pat=r'abc(?=[A-Z])'\n",
    "text=\"abcABCEF\"\n",
    "regobj=re.compile(pat)\n",
    "matobj=regobj.findall(text)\n",
    "print(\"Positive lookahead:\",matobj)\n",
    "\n",
    "# Negative look ahead\n",
    "\n",
    "import re\n",
    "pat1=r'abc(?!abc)'\n",
    "text1=\"aeiouabcabc\"\n",
    "regobj1=re.compile(pat1)\n",
    "matobj1=regobj1.findall(text)\n",
    "print(\"Negative look ahead:\",matobj1) "
   ]
  },
  {
   "cell_type": "code",
   "execution_count": null,
   "id": "3343b566",
   "metadata": {},
   "outputs": [],
   "source": []
  },
  {
   "cell_type": "markdown",
   "id": "954d327f",
   "metadata": {},
   "source": [
    "## Q7. What is the benefit of referring to groups by name rather than by number in a standard expression?"
   ]
  },
  {
   "cell_type": "markdown",
   "id": "e66f8a38",
   "metadata": {},
   "source": [
    "**Answer:** Using named groups instead of numerical indices in a regular expression improves code clarity and readability. Also It is easier to maintain the code."
   ]
  },
  {
   "cell_type": "code",
   "execution_count": null,
   "id": "e93af76f",
   "metadata": {},
   "outputs": [],
   "source": []
  },
  {
   "cell_type": "markdown",
   "id": "6f73ee77",
   "metadata": {},
   "source": [
    "## Q8. Can you identify repeated items within a target string using named groups, as in \"The cow jumped over the moon\"?"
   ]
  },
  {
   "cell_type": "code",
   "execution_count": 49,
   "id": "c68dfa21",
   "metadata": {},
   "outputs": [
    {
     "data": {
      "text/plain": [
       "['The', 'the']"
      ]
     },
     "execution_count": 49,
     "metadata": {},
     "output_type": "execute_result"
    }
   ],
   "source": [
    "import re\n",
    "text = \"The cow jumped over the moon\"\n",
    "regobj=re.compile(r'(?P<w1>The)',re.I)\n",
    "regobj.findall(text)"
   ]
  },
  {
   "cell_type": "markdown",
   "id": "a2f7c46f",
   "metadata": {},
   "source": [
    "## Q9. When parsing a string, what is at least one thing that the Scanner interface does for you that the re.findall feature does not ?"
   ]
  },
  {
   "cell_type": "markdown",
   "id": "3c9134ad",
   "metadata": {},
   "source": [
    "**Answer:**<br> The Scanner interface in Python provides a powerful way to tokenize and parse strings by allowing you to define complex patterns using regular expressions. One thing that the Scanner interface does for you that the `re.findall` feature does not is handling the processing of patterns with different token types.\n",
    "\n",
    "With the Scanner interface, you can define multiple patterns, each associated with a unique token type. As it processes the input string, the Scanner can identify the appropriate token type based on the pattern that matches the current substring. This makes it easier to differentiate between different types of substrings in the input.\n",
    "\n",
    "On the other hand, `re.findall` is primarily used to find all occurrences of a specific pattern in the input string. While it's useful for simple pattern matching, it does not handle the tokenization of the entire input string based on different patterns with unique token types.\n",
    "\n",
    "In summary, the Scanner interface helps with tokenization and parsing by managing multiple patterns and associating them with different token types, which `re.findall` alone does not provide."
   ]
  },
  {
   "cell_type": "code",
   "execution_count": null,
   "id": "433c4a26",
   "metadata": {},
   "outputs": [],
   "source": []
  },
  {
   "cell_type": "markdown",
   "id": "0b65593b",
   "metadata": {},
   "source": [
    "## Q10. Does a scanner object have to be named scanner?"
   ]
  },
  {
   "cell_type": "markdown",
   "id": "0af24d9e",
   "metadata": {},
   "source": [
    "**Answer:** No, a scanner object in Python does not have to be named scanner. The name of the scanner object is up to the programmer. It is common practice to name the scanner object scanner, but it can be named anything."
   ]
  },
  {
   "cell_type": "code",
   "execution_count": null,
   "id": "688dbf8a",
   "metadata": {},
   "outputs": [],
   "source": []
  }
 ],
 "metadata": {
  "kernelspec": {
   "display_name": "Python 3 (ipykernel)",
   "language": "python",
   "name": "python3"
  },
  "language_info": {
   "codemirror_mode": {
    "name": "ipython",
    "version": 3
   },
   "file_extension": ".py",
   "mimetype": "text/x-python",
   "name": "python",
   "nbconvert_exporter": "python",
   "pygments_lexer": "ipython3",
   "version": "3.9.13"
  }
 },
 "nbformat": 4,
 "nbformat_minor": 5
}
