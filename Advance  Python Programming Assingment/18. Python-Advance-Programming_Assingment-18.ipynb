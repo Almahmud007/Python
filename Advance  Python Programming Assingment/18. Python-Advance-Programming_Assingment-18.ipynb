{
 "cells": [
  {
   "cell_type": "markdown",
   "id": "fcd9b173",
   "metadata": {},
   "source": [
    "## Q1. Describe the differences between text and binary files in a single paragraph."
   ]
  },
  {
   "cell_type": "markdown",
   "id": "b27b2aa1",
   "metadata": {},
   "source": [
    "**Answer:** The differences between Text Files and Binary Files are: <br>\n",
    "**Text files** store human-readable characters as plain or rich text documents, represented by bytes where each byte represents a character. <br>\n",
    "\n",
    "**Binary files** store data as a sequence of bytes, grouped into eight or sixteen bits, and can store various types of data (images, audio, text, etc.) within a single file."
   ]
  },
  {
   "cell_type": "markdown",
   "id": "189728f6",
   "metadata": {},
   "source": [
    "rewrite below in term of python"
   ]
  },
  {
   "cell_type": "markdown",
   "id": "3e363a3b",
   "metadata": {},
   "source": [
    "## Q2. What are some scenarios where using text files will be the better option? When would you like to use binary files instead of text files?"
   ]
  },
  {
   "cell_type": "markdown",
   "id": "c063b42a",
   "metadata": {},
   "source": [
    "**Answer:**<br> Text files are less prone to corruption as undesired changes may become visible only when the file is opened, and they can be easily edited afterward. On the other hand, for image data, it is recommended to use binary files instead of text files."
   ]
  },
  {
   "cell_type": "code",
   "execution_count": null,
   "id": "313df2a8",
   "metadata": {},
   "outputs": [],
   "source": []
  },
  {
   "cell_type": "markdown",
   "id": "79fabe8b",
   "metadata": {},
   "source": [
    "## Q3. What are some of the issues with using binary operations to read and write a Python integer directly to disc?"
   ]
  },
  {
   "cell_type": "markdown",
   "id": "07b85538",
   "metadata": {},
   "source": [
    "**Answer:**<br> When working with binary operations to read or write Python integers, we are dealing with raw data. To do this correctly, we must determine the number of bytes to read or write."
   ]
  },
  {
   "cell_type": "code",
   "execution_count": null,
   "id": "f3bd15d7",
   "metadata": {},
   "outputs": [],
   "source": []
  },
  {
   "cell_type": "markdown",
   "id": "96674fa6",
   "metadata": {},
   "source": [
    "## Q4. Describe a benefit of using the with keyword instead of explicitly opening a file ?"
   ]
  },
  {
   "cell_type": "markdown",
   "id": "b1011212",
   "metadata": {},
   "source": [
    "**Answer:** <br> When a file is opened using the `with` keyword, if any exceptions occur after opening or at the end of the file, it automatically handles the closing of the file. This ensures that the file is not left open, eliminating the need to explicitly close the file."
   ]
  },
  {
   "cell_type": "code",
   "execution_count": null,
   "id": "2a7cb31b",
   "metadata": {},
   "outputs": [],
   "source": []
  },
  {
   "cell_type": "markdown",
   "id": "7ec11be2",
   "metadata": {},
   "source": [
    "## Q5. Does Python have the trailing newline while reading a line of text? Does Python append a newline when you write a line of text?"
   ]
  },
  {
   "cell_type": "markdown",
   "id": "d0901d78",
   "metadata": {},
   "source": [
    "**Answer:** <br> Yes, when reading a line of text, Python includes the trailing newline. However, when writing, a newline must be provided explicitly in Python."
   ]
  },
  {
   "cell_type": "code",
   "execution_count": null,
   "id": "87c7b228",
   "metadata": {},
   "outputs": [],
   "source": []
  },
  {
   "cell_type": "markdown",
   "id": "8d433ac7",
   "metadata": {},
   "source": [
    "## Q6. What file operations enable for random-access operation?"
   ]
  },
  {
   "cell_type": "markdown",
   "id": "7e058b51",
   "metadata": {},
   "source": [
    "**Answer:** <br> For random-access operations, the file operations enabled are `seek()` and `tell()`."
   ]
  },
  {
   "cell_type": "code",
   "execution_count": null,
   "id": "7581f208",
   "metadata": {},
   "outputs": [],
   "source": []
  },
  {
   "cell_type": "markdown",
   "id": "6e521586",
   "metadata": {},
   "source": [
    "## Q7. When do you think you'll use the struct package the most?"
   ]
  },
  {
   "cell_type": "markdown",
   "id": "15fab684",
   "metadata": {},
   "source": [
    "**Answer:** <br> The `struct` package is primarily used to convert common Python types into C language types."
   ]
  },
  {
   "cell_type": "code",
   "execution_count": null,
   "id": "f3d6c595",
   "metadata": {},
   "outputs": [],
   "source": []
  },
  {
   "cell_type": "markdown",
   "id": "9609ec3f",
   "metadata": {},
   "source": [
    "## Q8. When is pickling the best option?"
   ]
  },
  {
   "cell_type": "markdown",
   "id": "fcdc7f03",
   "metadata": {},
   "source": [
    "**Answer:** <br> Pickling is best option for creating a new binary file using python."
   ]
  },
  {
   "cell_type": "code",
   "execution_count": null,
   "id": "f2f3240a",
   "metadata": {},
   "outputs": [],
   "source": []
  },
  {
   "cell_type": "markdown",
   "id": "98b90ed9",
   "metadata": {},
   "source": [
    "## Q9. When will it be best to use the shelve package?"
   ]
  },
  {
   "cell_type": "markdown",
   "id": "2de61897",
   "metadata": {},
   "source": [
    "**Answer:** <br>  It is best to use the `shelve` package in Python when you need a simple persistent storage solution for storing and retrieving data using key-value pairs."
   ]
  },
  {
   "cell_type": "code",
   "execution_count": null,
   "id": "acf000a4",
   "metadata": {},
   "outputs": [],
   "source": []
  },
  {
   "cell_type": "markdown",
   "id": "a4ad2a21",
   "metadata": {},
   "source": [
    "## Q10. What is a special restriction when using the shelve package, as opposed to using other data dictionaries?"
   ]
  },
  {
   "cell_type": "markdown",
   "id": "a0e58343",
   "metadata": {},
   "source": [
    "**Answer:** <br> A special restriction when using the `shelve` package in Python is that the keys must be strings. Unlike other data dictionaries, `shelve` only supports string keys for storing and retrieving data."
   ]
  },
  {
   "cell_type": "code",
   "execution_count": null,
   "id": "aa720a7f",
   "metadata": {},
   "outputs": [],
   "source": []
  }
 ],
 "metadata": {
  "kernelspec": {
   "display_name": "Python 3 (ipykernel)",
   "language": "python",
   "name": "python3"
  },
  "language_info": {
   "codemirror_mode": {
    "name": "ipython",
    "version": 3
   },
   "file_extension": ".py",
   "mimetype": "text/x-python",
   "name": "python",
   "nbconvert_exporter": "python",
   "pygments_lexer": "ipython3",
   "version": "3.9.13"
  }
 },
 "nbformat": 4,
 "nbformat_minor": 5
}
