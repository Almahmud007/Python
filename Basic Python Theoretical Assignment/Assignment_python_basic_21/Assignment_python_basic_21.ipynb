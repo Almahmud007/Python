{
 "cells": [
  {
   "cell_type": "markdown",
   "id": "55185107",
   "metadata": {},
   "source": [
    "### 1. Add the current date to the text file today.txt as a string."
   ]
  },
  {
   "cell_type": "code",
   "execution_count": 68,
   "id": "689f752e",
   "metadata": {},
   "outputs": [
    {
     "name": "stdout",
     "output_type": "stream",
     "text": [
      "20-06-2023\n"
     ]
    }
   ],
   "source": [
    "import datetime\n",
    "file = open('today.txt','w')\n",
    "file.write(datetime.datetime.now().strftime(\"%d-%m-%Y\"))\n",
    "file.close()\n",
    "file = open('today.txt','r')\n",
    "print(file.read())\n",
    "file.close()"
   ]
  },
  {
   "cell_type": "code",
   "execution_count": null,
   "id": "9aa51436",
   "metadata": {},
   "outputs": [],
   "source": []
  },
  {
   "cell_type": "markdown",
   "id": "913af733",
   "metadata": {},
   "source": [
    "### 2. Read the text file today.txt into the string today_string"
   ]
  },
  {
   "cell_type": "code",
   "execution_count": 69,
   "id": "e68317d9",
   "metadata": {},
   "outputs": [
    {
     "name": "stdout",
     "output_type": "stream",
     "text": [
      "20-06-2023\n"
     ]
    }
   ],
   "source": [
    "file = open('today.txt','r')\n",
    "today_str = file.read()\n",
    "print(today_str)"
   ]
  },
  {
   "cell_type": "code",
   "execution_count": null,
   "id": "1ab8306c",
   "metadata": {},
   "outputs": [],
   "source": []
  },
  {
   "cell_type": "markdown",
   "id": "d11e6ab2",
   "metadata": {},
   "source": [
    "### 3. Parse the date from today_string."
   ]
  },
  {
   "cell_type": "code",
   "execution_count": 70,
   "id": "acad501d",
   "metadata": {},
   "outputs": [
    {
     "name": "stdout",
     "output_type": "stream",
     "text": [
      "2023-06-20 00:00:00\n"
     ]
    }
   ],
   "source": [
    "from datetime import datetime\n",
    "parsed_datetime = datetime.strptime(today_str, '%d-%m-%Y')\n",
    "print(parsed_datetime)"
   ]
  },
  {
   "cell_type": "code",
   "execution_count": null,
   "id": "4c8c55d5",
   "metadata": {},
   "outputs": [],
   "source": []
  },
  {
   "cell_type": "markdown",
   "id": "841a3a4b",
   "metadata": {},
   "source": [
    "### 4. List the files in your current directory."
   ]
  },
  {
   "cell_type": "code",
   "execution_count": 71,
   "id": "b5645ad5",
   "metadata": {},
   "outputs": [
    {
     "name": "stdout",
     "output_type": "stream",
     "text": [
      "Assignment_python_basic_02(Theory).pdf\n",
      "Assignment_python_basic_03(Theory).pdf\n",
      "Assignment_python_basic_04(Theory).pdf\n",
      "Assignment_python_basic_05(Theory).pdf\n",
      "Assignment_python_basic_06(Theory).pdf\n",
      "Assignment_python_basic_07(Theory).pdf\n",
      "Assignment_python_basic_08(Theory).pdf\n",
      "Assignment_python_basic_09(Theory).pdf\n",
      "Assignment_python_basic_10(Theory).pdf\n",
      "Assignment_python_basic_11(Theory).pdf\n",
      "Assignment_python_basic_12(Theory).pdf\n",
      "Assignment_python_basic_13(Theory).pdf\n",
      "Assignment_python_basic_14(Theory).pdf\n",
      "Assignment_python_basic_15(Theory).pdf\n",
      "Assignment_python_basic_16(Theory).pdf\n",
      "Assignment_python_basic_17.ipynb\n",
      "Assignment_python_basic_18.ipynb\n",
      "Assignment_python_basic_19.ipynb\n",
      "Assignment_python_basic_20.ipynb\n",
      "Assignment_python_basic_21.ipynb\n",
      "Assignment_python_basic_22.ipynb\n",
      "Assignment_python_basic_23.ipynb\n",
      "Assignment_python_basic_24.ipynb\n",
      "Assignment_python_basic_25.ipynb\n",
      "books.csv\n",
      "books.db\n",
      "Python-Basic-Theoretical_Assingment_01.pdf\n",
      "test.txt\n",
      "today.txt\n",
      "zoo.py\n",
      "Assignment_python_basic_17-checkpoint.ipynb\n",
      "Assignment_python_basic_18-checkpoint.ipynb\n",
      "Assignment_python_basic_19-checkpoint.ipynb\n",
      "Assignment_python_basic_20-checkpoint.ipynb\n",
      "Assignment_python_basic_21-checkpoint.ipynb\n",
      "Assignment_python_basic_22-checkpoint.ipynb\n",
      "Assignment_python_basic_23-checkpoint.ipynb\n",
      "Assignment_python_basic_24-checkpoint.ipynb\n",
      "Assignment_python_basic_25-checkpoint.ipynb\n",
      "zoo.cpython-39.pyc\n"
     ]
    }
   ],
   "source": [
    "import os\n",
    "for folders, subfolders, files in os.walk(os.getcwd()):\n",
    "    for file in files:\n",
    "        print(file)"
   ]
  },
  {
   "cell_type": "code",
   "execution_count": null,
   "id": "1c7dd916",
   "metadata": {},
   "outputs": [],
   "source": []
  },
  {
   "cell_type": "markdown",
   "id": "a6bb369f",
   "metadata": {},
   "source": [
    "### 5. Create a list of all of the files in your parent directory (minimum five files should be available)."
   ]
  },
  {
   "cell_type": "code",
   "execution_count": 72,
   "id": "1c549f5b",
   "metadata": {},
   "outputs": [
    {
     "data": {
      "text/plain": [
       "['.ipynb_checkpoints',\n",
       " 'Assignment_python_basic_02(Theory).pdf',\n",
       " 'Assignment_python_basic_03(Theory).pdf',\n",
       " 'Assignment_python_basic_04(Theory).pdf',\n",
       " 'Assignment_python_basic_05(Theory).pdf',\n",
       " 'Assignment_python_basic_06(Theory).pdf',\n",
       " 'Assignment_python_basic_07(Theory).pdf',\n",
       " 'Assignment_python_basic_08(Theory).pdf',\n",
       " 'Assignment_python_basic_09(Theory).pdf',\n",
       " 'Assignment_python_basic_10(Theory).pdf',\n",
       " 'Assignment_python_basic_11(Theory).pdf',\n",
       " 'Assignment_python_basic_12(Theory).pdf',\n",
       " 'Assignment_python_basic_13(Theory).pdf',\n",
       " 'Assignment_python_basic_14(Theory).pdf',\n",
       " 'Assignment_python_basic_15(Theory).pdf',\n",
       " 'Assignment_python_basic_16(Theory).pdf',\n",
       " 'Assignment_python_basic_17.ipynb',\n",
       " 'Assignment_python_basic_18.ipynb',\n",
       " 'Assignment_python_basic_19.ipynb',\n",
       " 'Assignment_python_basic_20.ipynb',\n",
       " 'Assignment_python_basic_21.ipynb',\n",
       " 'Assignment_python_basic_22.ipynb',\n",
       " 'Assignment_python_basic_23.ipynb',\n",
       " 'Assignment_python_basic_24.ipynb',\n",
       " 'Assignment_python_basic_25.ipynb',\n",
       " 'books.csv',\n",
       " 'books.db',\n",
       " 'Python-Basic-Theoretical_Assingment_01.pdf',\n",
       " 'test.txt',\n",
       " 'today.txt',\n",
       " 'zoo.py',\n",
       " '__pycache__']"
      ]
     },
     "execution_count": 72,
     "metadata": {},
     "output_type": "execute_result"
    }
   ],
   "source": [
    "import os \n",
    "os.listdir()"
   ]
  },
  {
   "cell_type": "code",
   "execution_count": null,
   "id": "c73c1bdb",
   "metadata": {},
   "outputs": [],
   "source": []
  },
  {
   "cell_type": "markdown",
   "id": "167a4274",
   "metadata": {},
   "source": [
    "### 6. Use multiprocessing to create three separate processes. Make each one wait a random number of seconds between one and five, print the current time, and then exit."
   ]
  },
  {
   "cell_type": "code",
   "execution_count": 77,
   "id": "3b06e19c",
   "metadata": {},
   "outputs": [
    {
     "name": "stdout",
     "output_type": "stream",
     "text": [
      "Proc_one_Starttime -> 2023-06-20 22:30:18.629514\n",
      "Proc_one_Endtime -> 2023-06-20 22:30:20.639917\n",
      "Proc_two_Starttime -> 2023-06-20 22:30:20.639917\n",
      "Proc_two_Endtime -> 2023-06-20 22:30:24.649903\n",
      "Proc_two_Starttime -> 2023-06-20 22:30:24.649903\n",
      "Proc_two_Endtime -> 2023-06-20 22:30:29.656035\n"
     ]
    }
   ],
   "source": [
    "import multiprocessing\n",
    "import time \n",
    "import random\n",
    "import datetime\n",
    "\n",
    "def procOne():\n",
    "    print(f'Proc_one_Starttime -> {datetime.datetime.now()}')\n",
    "    time.sleep(random.randint(1,5))\n",
    "    print(f'Proc_one_Endtime -> {datetime.datetime.now()}')\n",
    "    \n",
    "def procTwo():\n",
    "    print(f'Proc_two_Starttime -> {datetime.datetime.now()}')\n",
    "    time.sleep(random.randint(1,5))\n",
    "    print(f'Proc_two_Endtime -> {datetime.datetime.now()}')\n",
    "\n",
    "def procThree():\n",
    "    print(f'Proc_two_Starttime -> {datetime.datetime.now()}')\n",
    "    time.sleep(random.randint(1,5))\n",
    "    print(f'Proc_two_Endtime -> {datetime.datetime.now()}')\n",
    "    \n",
    "if __name__ == \"__main__\":    \n",
    "    p1 = multiprocessing.Process(target=procOne)\n",
    "    p2 = multiprocessing.Process(target=procTwo)\n",
    "    p3 = multiprocessing.Process(target=procThree)\n",
    "\n",
    "    p1.start()\n",
    "    p2.start()\n",
    "    p3.start()\n",
    "\n",
    "    p1.join()\n",
    "    p2.join()\n",
    "    p3.join()\n"
   ]
  },
  {
   "cell_type": "code",
   "execution_count": null,
   "id": "12dab29d",
   "metadata": {},
   "outputs": [],
   "source": []
  },
  {
   "cell_type": "markdown",
   "id": "fec0ef49",
   "metadata": {},
   "source": [
    "### 7. Create a date object of your day of birth."
   ]
  },
  {
   "cell_type": "code",
   "execution_count": 74,
   "id": "f524eb9c",
   "metadata": {},
   "outputs": [
    {
     "name": "stdout",
     "output_type": "stream",
     "text": [
      "1988-10-19 00:00:00\n"
     ]
    }
   ],
   "source": [
    "from datetime import datetime\n",
    "my_dob = datetime.strptime('19/10/1988','%d/%m/%Y')\n",
    "print(my_dob)"
   ]
  },
  {
   "cell_type": "code",
   "execution_count": null,
   "id": "5bc3e2da",
   "metadata": {},
   "outputs": [],
   "source": []
  },
  {
   "cell_type": "markdown",
   "id": "c81e918d",
   "metadata": {},
   "source": [
    "### 8. What day of the week was your day of birth?"
   ]
  },
  {
   "cell_type": "code",
   "execution_count": 75,
   "id": "a61035b2",
   "metadata": {},
   "outputs": [
    {
     "data": {
      "text/plain": [
       "'Wednesday'"
      ]
     },
     "execution_count": 75,
     "metadata": {},
     "output_type": "execute_result"
    }
   ],
   "source": [
    "from datetime import datetime\n",
    "my_dob = datetime(1991,10,9)\n",
    "my_dob.strftime(\"%A\")"
   ]
  },
  {
   "cell_type": "code",
   "execution_count": null,
   "id": "e1f83386",
   "metadata": {},
   "outputs": [],
   "source": []
  },
  {
   "cell_type": "markdown",
   "id": "2912b043",
   "metadata": {},
   "source": [
    "### 9. When will you be (or when were you) 10,000 days old?"
   ]
  },
  {
   "cell_type": "code",
   "execution_count": 76,
   "id": "7ec0f115",
   "metadata": {},
   "outputs": [
    {
     "name": "stdout",
     "output_type": "stream",
     "text": [
      "10000 days was completed on the date of 06-March-2016\n"
     ]
    }
   ],
   "source": [
    "from datetime import datetime, timedelta\n",
    "my_dob = datetime.strptime(\"19/10/1988\",'%d/%m/%Y')\n",
    "future_date = my_dob-timedelta(-10000)\n",
    "print(f\"10000 days was completed on the date of {future_date.strftime('%d-%B-%Y')}\")"
   ]
  },
  {
   "cell_type": "code",
   "execution_count": null,
   "id": "53a815e3",
   "metadata": {},
   "outputs": [],
   "source": []
  }
 ],
 "metadata": {
  "kernelspec": {
   "display_name": "Python 3 (ipykernel)",
   "language": "python",
   "name": "python3"
  },
  "language_info": {
   "codemirror_mode": {
    "name": "ipython",
    "version": 3
   },
   "file_extension": ".py",
   "mimetype": "text/x-python",
   "name": "python",
   "nbconvert_exporter": "python",
   "pygments_lexer": "ipython3",
   "version": "3.9.13"
  }
 },
 "nbformat": 4,
 "nbformat_minor": 5
}
