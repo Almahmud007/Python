{
 "cells": [
  {
   "cell_type": "markdown",
   "id": "3267a0e0",
   "metadata": {},
   "source": [
    "### 1. What is the relationship between def statements and lambda expressions ?\n"
   ]
  },
  {
   "cell_type": "markdown",
   "id": "c906bfb2",
   "metadata": {},
   "source": [
    "**Ans:** `def` statement is used to create a normal function. where as `lamba` expressions are used to create `Anonymous functions`. which can be assigned to a variable and can be called using the variable later in function.\n",
    "\n",
    "The main differences between def statements and lambda expressions are:\n",
    "\n",
    "1. Syntax: `def` statements have a specific syntax with a named function, whereas `lambda` expressions are anonymous and have a more concise syntax.\n",
    "2. Function Body: `def` statements allow multiple lines of code in the function body, while `lambda` expressions only support a single expression.\n",
    "3. Naming: `def` statements assign a name to the function, making it reusable and callable by its name, whereas `lambda` expressions create anonymous functions that can be used directly or assigned to a variable.\n",
    "4. Readability and Complexity: `def` statements are more suitable for complex functions that require multiple lines of code and have a meaningful name, while `lambda` expressions are more appropriate for simple, one-time use functions, especially in cases where a function is needed as an argument or in a functional programming style.\n",
    "\n",
    "In summary, `def` statements are used to define named functions with multiple lines of code, while `lambda` expressions create anonymous functions with a single expression, typically for simpler and one-time use cases."
   ]
  },
  {
   "cell_type": "code",
   "execution_count": null,
   "id": "fdd42e28",
   "metadata": {},
   "outputs": [],
   "source": []
  },
  {
   "cell_type": "markdown",
   "id": "e23f6be0",
   "metadata": {},
   "source": [
    "### 2. What is the benefit of lambda?"
   ]
  },
  {
   "cell_type": "markdown",
   "id": "7b14ad21",
   "metadata": {},
   "source": [
    "The main benefit of lambda expressions is their conciseness and flexibility. Here are some advantages of using lambda expressions:\n",
    "\n",
    "**1. Concise Syntax:** Lambda expressions allow you to define functions in a more compact and readable manner compared to `def` statements. They are typically written in a single line, making the code more succinct.\n",
    "\n",
    "**2. Anonymous Functions:** Lambda expressions create anonymous functions, which means they don't require a formal name. This is useful when you need to define small, one-time use functions without cluttering your code with unnecessary function names.\n",
    "\n",
    "**3. Functional Programming:** Lambda expressions are often used in functional programming paradigms where functions are treated as first-class citizens. They can be passed as arguments to other functions or used in higher-order functions like `map()`, `filter()`, and `reduce()`. This functional style of programming promotes code reusability and abstraction.\n",
    "\n",
    "**4. Improved Readability:** In some cases, using a lambda expression can enhance the readability of the code by keeping the function definition closer to its usage. This is especially true when the function being defined is short and simple.\n",
    "\n",
    "**5. Encapsulation:** Lambda expressions provide a way to encapsulate behavior within a small function without the need to define a separate function elsewhere in the code. This helps to keep the code modular and self-contained.\n",
    "\n",
    "It's important to note that lambda expressions are not always the best choice. For complex or larger functions, `def` statements with meaningful names and multiple lines of code may be more appropriate. Lambda expressions are most beneficial in situations where concise, one-time use functions are needed, particularly in functional programming or when passing functions as arguments."
   ]
  },
  {
   "cell_type": "code",
   "execution_count": null,
   "id": "d7fa0a53",
   "metadata": {},
   "outputs": [],
   "source": []
  },
  {
   "cell_type": "markdown",
   "id": "c0abb1a0",
   "metadata": {},
   "source": [
    "### 3. Compare and contrast map, filter, and reduce."
   ]
  },
  {
   "cell_type": "markdown",
   "id": "ed00e3ba",
   "metadata": {},
   "source": [
    "The functions `map()`, `filter()`, and `reduce()` are all higher-order functions in Python that operate on iterables (such as lists, tuples, or strings) and perform transformations or filtering. While they have similarities, they differ in their purpose and behavior:\n",
    "\n",
    "**Map:**\n",
    "- Purpose: `map()` applies a given function to each item in an iterable and returns an iterator with the results.\n",
    "- Syntax: `map(function, iterable)`\n",
    "- Operation: It transforms each element of the iterable by applying the provided function to it.\n",
    "- Result: The output is an iterator containing the transformed values.\n",
    "\n",
    "**Filter:**\n",
    "- Purpose: `filter()` creates an iterator that filters elements from an iterable based on a given function that returns a Boolean value (True or False).\n",
    "- Syntax: `filter(function, iterable)`\n",
    "- Operation: It evaluates the provided function on each element of the iterable and retains only the elements for which the function returns True.\n",
    "- Result: The output is an iterator containing the filtered elements.\n",
    "\n",
    "**Reduce:**\n",
    "- Purpose: `reduce()` applies a function cumulatively to the items of an iterable, reducing them to a single value.\n",
    "- Syntax: `reduce(function, iterable)`\n",
    "- Operation: It performs a specified binary operation on the first two elements of the iterable, then on the result and the next element, and so on, until a single value is obtained.\n",
    "- Result: The output is a single value, the cumulative result of the applied function on all the elements.\n",
    "\n",
    "**Key Differences:**<br>\n",
    "\n",
    "**- Return Type:** `map()` and `filter()` both return iterators, whereas `reduce()` returns a single value. <br>\n",
    "**- Function Type:** `map()` and `filter()` take a function that operates on individual elements of the iterable, while `reduce()` takes a function that operates on pairs of elements.<br>\n",
    "**- Output Size:** `map()` and `filter()` generally produce an output of the same length as the input iterable, while `reduce()` reduces the iterable to a single value.<br>\n",
    "**- Usage:** `map()` is commonly used for element-wise transformations, `filter()` for element-wise filtering, and `reduce()` for cumulative computations.<br>\n",
    "\n",
    "In summary, `map()` transforms elements, `filter()` selectively retains elements, and `reduce()` cumulatively combines elements. Each function serves a distinct purpose and can be utilized based on the specific requirements of the problem at hand."
   ]
  },
  {
   "cell_type": "code",
   "execution_count": 2,
   "id": "4c31eaac",
   "metadata": {},
   "outputs": [
    {
     "name": "stdout",
     "output_type": "stream",
     "text": [
      "Map -> [2, 4, 6, 8]\n",
      "Filter -> [1, 3]\n",
      "Reduce -> 21\n"
     ]
    }
   ],
   "source": [
    "from functools import reduce\n",
    "\n",
    "# map function\n",
    "print('Map ->',list(map(lambda x:x+x, [1,2,3,4])))\n",
    "\n",
    "# fitler function\n",
    "print('Filter ->',list(filter(lambda x:x%2 !=0, [1,2,3,4])))\n",
    "\n",
    "# reduce function\n",
    "print('Reduce ->',reduce(lambda x,y:x+y, [1,2,3,4,5,6]))"
   ]
  },
  {
   "cell_type": "code",
   "execution_count": null,
   "id": "a96df72c",
   "metadata": {},
   "outputs": [],
   "source": []
  },
  {
   "cell_type": "markdown",
   "id": "ed66668e",
   "metadata": {},
   "source": [
    "### 4. What are function annotations, and how are they used?"
   ]
  },
  {
   "cell_type": "markdown",
   "id": "712733d9",
   "metadata": {},
   "source": [
    "Function annotations in Python are a way to add metadata or hints to the parameters and return value of a function. They provide information about the expected types or behavior of the function's inputs and outputs, but they do not enforce or validate these annotations at runtime. Function annotations are optional and do not affect the actual execution of the function.\n",
    "\n",
    "Annotations are defined by placing a colon after the parameter name, followed by the desired annotation type. For example, `def my_function(param: int) -> str:` specifies that the parameter `param` should be of type `int`, and the function is expected to return a value of type `str`.\n",
    "\n",
    "Function annotations can be used by tools, libraries, or frameworks to provide type checking, documentation generation, or as a way to convey additional information to developers. They serve as a form of documentation within the code, helping to clarify the intended usage and expectations of a function's arguments and return value. However, it's important to note that annotations are not enforced by the Python interpreter itself and require external tools or libraries for type checking or other forms of processing."
   ]
  },
  {
   "cell_type": "code",
   "execution_count": null,
   "id": "de0afcc5",
   "metadata": {},
   "outputs": [],
   "source": []
  },
  {
   "cell_type": "markdown",
   "id": "e91c02f9",
   "metadata": {},
   "source": [
    "### 5. What are recursive functions, and how are they used?"
   ]
  },
  {
   "cell_type": "markdown",
   "id": "70b5d1a2",
   "metadata": {},
   "source": [
    "Recursive functions are functions that call themselves within their own body. They are used to solve problems that can be divided into smaller, similar subproblems. The function repeatedly calls itself with smaller inputs until it reaches a base case, which is a simple problem that can be solved directly without further recursion.\n",
    "\n",
    "Recursive functions are typically defined by checking for the base case(s) first and providing the solution directly. If the base case is not met, the function makes one or more recursive calls with modified input parameters, moving closer to the base case with each recursion.\n",
    "\n",
    "The recursive approach is useful when a problem can be broken down into smaller instances of the same problem. It can provide an elegant and concise solution for certain types of problems, such as tree or graph traversal, sorting, searching, and mathematical calculations. However, it's important to design recursive functions carefully to avoid infinite recursion and ensure termination by reaching the base case(s)."
   ]
  },
  {
   "cell_type": "code",
   "execution_count": 5,
   "id": "f46bb347",
   "metadata": {},
   "outputs": [
    {
     "data": {
      "text/plain": [
       "24"
      ]
     },
     "execution_count": 5,
     "metadata": {},
     "output_type": "execute_result"
    }
   ],
   "source": [
    "def factorial(n):\n",
    "    if n == 0:\n",
    "        return 1\n",
    "    else:\n",
    "        return n * factorial(n - 1)\n",
    "factorial(4)"
   ]
  },
  {
   "cell_type": "code",
   "execution_count": null,
   "id": "8638b787",
   "metadata": {},
   "outputs": [],
   "source": []
  },
  {
   "cell_type": "markdown",
   "id": "0616de68",
   "metadata": {},
   "source": [
    "### 6. What are some general design guidelines for coding functions?"
   ]
  },
  {
   "cell_type": "markdown",
   "id": "fa13383a",
   "metadata": {},
   "source": [
    "**Ans:** Some of the general design guidelines for coding functions are:\n",
    "\n",
    "1. Always include a descriptive docstring to explain the functionality and usage of the function.\n",
    "2. Minimize the use of global variables, or avoid them altogether if possible, to promote better code organization and prevent unintended side effects.\n",
    "3. Use proper indentation to enhance code readability and maintain a consistent structure throughout the codebase.\n",
    "4. Follow a consistent naming convention for functions (e.g., pascalCase or camelCase) and stick to it across the application to improve code clarity and maintainability.\n",
    "5. Avoid using digits in variable names; instead, use descriptive names that accurately convey the purpose or meaning of the variable.\n",
    "6. Choose function names that clearly describe their purpose or functionality, making it easier for other developers to understand and use the code.\n",
    "7. Follow naming conventions for variables: use camelCase for local variables (e.g., localVariable) and PascalCase for global variables (e.g., GlobalVariable).\n",
    "8. Represent constants in all capital letters (e.g., CONSTANT) to differentiate them from variables and highlight their immutability."
   ]
  },
  {
   "cell_type": "code",
   "execution_count": null,
   "id": "d7e96980",
   "metadata": {},
   "outputs": [],
   "source": []
  },
  {
   "cell_type": "markdown",
   "id": "50555ec6",
   "metadata": {},
   "source": [
    "### 7. Name three or more ways that functions can communicate results to a caller.\n",
    "**Ans:** Some of the ways in which a function can communicate with the calling function is:<br><br>\n",
    "**1. print** <br>\n",
    "The print() function is a built-in function in Python that is used to display output on the console or terminal. It takes one or more arguments and prints them as text.\n",
    "\n",
    "**2. return** <br>\n",
    "In Python, the return statement is used within a function to specify the value or values that the function should send back to the caller. When the return statement is executed, the function immediately exits, and the specified value(s) are passed back as the result of the function call.\n",
    "\n",
    "\n",
    "**3. yield** <br>\n",
    "In Python, the yield statement is used in the context of generator functions to create iterable objects that generate a sequence of values on-the-fly. Unlike the return statement, which terminates the function and returns a single value, yield allows a function to pause its execution, save its state, and produce a value to be consumed by the caller. The function can then resume from where it left off when requested."
   ]
  },
  {
   "cell_type": "code",
   "execution_count": null,
   "id": "a521d76e",
   "metadata": {},
   "outputs": [],
   "source": []
  }
 ],
 "metadata": {
  "kernelspec": {
   "display_name": "Python 3 (ipykernel)",
   "language": "python",
   "name": "python3"
  },
  "language_info": {
   "codemirror_mode": {
    "name": "ipython",
    "version": 3
   },
   "file_extension": ".py",
   "mimetype": "text/x-python",
   "name": "python",
   "nbconvert_exporter": "python",
   "pygments_lexer": "ipython3",
   "version": "3.9.13"
  }
 },
 "nbformat": 4,
 "nbformat_minor": 5
}
