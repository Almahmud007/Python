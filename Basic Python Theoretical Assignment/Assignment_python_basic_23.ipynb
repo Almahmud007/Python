{
 "cells": [
  {
   "cell_type": "markdown",
   "id": "cbe5add1",
   "metadata": {},
   "source": [
    "### 1. What is the result of the code, and why?\n",
    "`>>> def func(a, b=6, c=8):` <br>\n",
    "`print(a, b, c)`<br>\n",
    "`>>> func(1, 2)`"
   ]
  },
  {
   "cell_type": "markdown",
   "id": "7d635dda",
   "metadata": {},
   "source": [
    "**Ans:** The result of the above code is `1 2 8`. In this function default value for b and c is 6 & 8 consecutively as argument. But during calling of function 6 is replace by 2 and 1 is assign to a. So the ultimate value of function is `1 2 8`."
   ]
  },
  {
   "cell_type": "code",
   "execution_count": 1,
   "id": "25277357",
   "metadata": {},
   "outputs": [
    {
     "name": "stdout",
     "output_type": "stream",
     "text": [
      "1 2 8\n"
     ]
    }
   ],
   "source": [
    "def func(a,b=6,c=8):\n",
    "    print(a,b,c)\n",
    "func(1,2)"
   ]
  },
  {
   "cell_type": "markdown",
   "id": "9fcdfe9e",
   "metadata": {},
   "source": [
    "### 2. What is the result of this code, and why?\n",
    "`>>> def func(a, b, c=5):`  \n",
    "`print(a, b, c)`  \n",
    "`>>> func(1, c=3, b=2)`"
   ]
  },
  {
   "cell_type": "markdown",
   "id": "fc4aabed",
   "metadata": {},
   "source": [
    "**Ans:** The result of the code will be:`1 2 3`\n",
    "\n",
    "When the function `func()` is called, the arguments `1` and `2` are passed explicitly for the parameters `a` and `b`, respectively. The argument `c` is passed as `3` using the keyword argument `c=3`.\n",
    "\n",
    "In Python, keyword arguments allow you to specify values for specific parameters regardless of their position in the function signature. By using the syntax `c=3`, you explicitly assign the value `3` to the parameter `c`.\n",
    "\n",
    "Since the order of the keyword arguments `c=3` and `b=2` is different from the order of the parameters `a`, `b`, and `c` in the function signature, the values are matched based on the parameter names. Therefore, `a` receives the value `1`, `b` receives the value `2`, and `c` receives the value `3`.\n",
    "\n",
    "When `print(a, b, c)` is executed inside the function, it displays the values of `a`, `b`, and `c`, resulting in the output `1 2 3`."
   ]
  },
  {
   "cell_type": "code",
   "execution_count": 2,
   "id": "dfb849ce",
   "metadata": {},
   "outputs": [
    {
     "name": "stdout",
     "output_type": "stream",
     "text": [
      "1 2 3\n"
     ]
    }
   ],
   "source": [
    "def func(a,b,c=5):\n",
    "    print(a,b,c)\n",
    "func(1,c=3,b=2)"
   ]
  },
  {
   "cell_type": "markdown",
   "id": "d030f9f1",
   "metadata": {},
   "source": [
    "### 3. How about this code: what is its result, and why?\n",
    "`>>> def func(a, *pargs):`   \n",
    "`print(a, pargs)`   \n",
    "`>>> func(1, 2, 3)`"
   ]
  },
  {
   "cell_type": "markdown",
   "id": "8c669f51",
   "metadata": {},
   "source": [
    "**Ans** The code will output: 1 (2, 3)\n",
    "\n",
    "Explanation: The function `func()` takes `a` as a required argument and `*pargs` as a variable-length tuple of positional arguments. When the function is called with `func(1, 2, 3)`, `a` is assigned `1`, and the remaining arguments `2` and `3` are collected into `pargs`. The `print()` statement displays `a` and `pargs`, resulting in the output `1 (2, 3)`."
   ]
  },
  {
   "cell_type": "code",
   "execution_count": 3,
   "id": "82ddc925",
   "metadata": {},
   "outputs": [
    {
     "name": "stdout",
     "output_type": "stream",
     "text": [
      "1 (2, 3)\n"
     ]
    }
   ],
   "source": [
    "def func(a, *pargs):\n",
    "    print(a,pargs)\n",
    "func(1,2,3)"
   ]
  },
  {
   "cell_type": "markdown",
   "id": "c1c3848b",
   "metadata": {},
   "source": [
    "### 4. What does this code print, and why?\n",
    "`>>> def func(a, **kargs):`   \n",
    "`print(a, kargs)`   \n",
    "`>>> func(a=1, c=3, b=2)`"
   ]
  },
  {
   "cell_type": "markdown",
   "id": "71392a31",
   "metadata": {},
   "source": [
    "**Ans** The code will print: 1 {'c': 3, 'b': 2}\n",
    "\n",
    "Explanation: The function `func()` defines `a` as a keyword argument and `**kargs` as a variable-length dictionary of keyword arguments. When the function is called with `func(a=1, c=3, b=2)`, `a` is assigned `1`, and the remaining keyword arguments `c=3` and `b=2` are collected into `kargs`. The `print()` statement displays `a` and `kargs`, resulting in the output `1 {'c': 3, 'b': 2}`. The keyword arguments are packed into `kargs` as a dictionary with the keyword as the key and the corresponding value."
   ]
  },
  {
   "cell_type": "code",
   "execution_count": 2,
   "id": "53f34da6",
   "metadata": {},
   "outputs": [
    {
     "name": "stdout",
     "output_type": "stream",
     "text": [
      "1 {'c': 3, 'b': 2}\n"
     ]
    }
   ],
   "source": [
    "def func(a,**kargs):\n",
    "    print(a,kargs)\n",
    "func(a=1,c=3,b=2)"
   ]
  },
  {
   "cell_type": "markdown",
   "id": "473e1bdf",
   "metadata": {},
   "source": [
    "### 5. What gets printed by this, and explain?\n",
    "`>>> def func(a, b, c=8, d=5): print(a, b, c, d)`   \n",
    "`>>> func(1, *(5, 6))`"
   ]
  },
  {
   "cell_type": "markdown",
   "id": "91a4e3d6",
   "metadata": {},
   "source": [
    "**Ans** The code will print: `1 5 6 5`\n",
    "\n",
    "The function `func()` has four parameters, `a`, `b`, `c`, and `d`. When the function is called with `func(1, *(5, 6))`, `a` is assigned `1`, `b` is assigned `5`, `c` is assigned `6`, and `d` retains its default value of `5`. The `print()` statement displays these values, resulting in the output `1 5 6 5`."
   ]
  },
  {
   "cell_type": "code",
   "execution_count": 5,
   "id": "ab5de589",
   "metadata": {},
   "outputs": [
    {
     "name": "stdout",
     "output_type": "stream",
     "text": [
      "1 5 6 5\n"
     ]
    }
   ],
   "source": [
    "def func(a,b,c=8,d=5):\n",
    "    print(a,b,c,d)\n",
    "func(1,*(5,6))"
   ]
  },
  {
   "cell_type": "markdown",
   "id": "e6fd179c",
   "metadata": {},
   "source": [
    "### 6. what is the result of this, and explain?\n",
    "`>>> def func(a, b, c): a = 2; b[0] = 'x'; c['a'] = 'y'`   \n",
    "`>>> l=1; m=[1]; n={'a':0}`   \n",
    "`>>> func(l, m, n)`   \n",
    "`>>> l, m, n`"
   ]
  },
  {
   "cell_type": "markdown",
   "id": "29198a9d",
   "metadata": {},
   "source": [
    "**Ans** The result is: `1, ['x'], {'a': 'y'}`\n",
    "\n",
    "The function `func()` modifies the parameters `b` (a list) and `c` (a dictionary) by changing their values. The variable `l` (an integer) remains unaffected. After calling the function, `l` remains as `1`, `m` becomes `['x']`, and `n` becomes `{'a': 'y'}`."
   ]
  },
  {
   "cell_type": "code",
   "execution_count": 3,
   "id": "3a23e9c9",
   "metadata": {},
   "outputs": [
    {
     "data": {
      "text/plain": [
       "(1, ['x'], {'a': 'y'})"
      ]
     },
     "execution_count": 3,
     "metadata": {},
     "output_type": "execute_result"
    }
   ],
   "source": [
    "def func(a, b, c): a = 2; b[0] = 'x'; c['a'] = 'y'\n",
    "l=1; m=[1]; n={'a':0}\n",
    "func(l, m, n)\n",
    "l,m,n"
   ]
  },
  {
   "cell_type": "code",
   "execution_count": null,
   "id": "ec8ae7e6",
   "metadata": {},
   "outputs": [],
   "source": []
  }
 ],
 "metadata": {
  "kernelspec": {
   "display_name": "Python 3 (ipykernel)",
   "language": "python",
   "name": "python3"
  },
  "language_info": {
   "codemirror_mode": {
    "name": "ipython",
    "version": 3
   },
   "file_extension": ".py",
   "mimetype": "text/x-python",
   "name": "python",
   "nbconvert_exporter": "python",
   "pygments_lexer": "ipython3",
   "version": "3.9.13"
  }
 },
 "nbformat": 4,
 "nbformat_minor": 5
}
