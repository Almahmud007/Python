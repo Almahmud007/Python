{
 "cells": [
  {
   "cell_type": "markdown",
   "id": "0781ea32",
   "metadata": {},
   "source": [
    "### 1. Make a class called Thing with no contents and print it. Then, create an object called example from this class and also print it. Are the printed values the same or different?"
   ]
  },
  {
   "cell_type": "code",
   "execution_count": 1,
   "id": "0d87e51d",
   "metadata": {},
   "outputs": [
    {
     "name": "stdout",
     "output_type": "stream",
     "text": [
      "<class '__main__.Thing'>\n",
      "<__main__.Thing object at 0x00000206081547F0>\n"
     ]
    }
   ],
   "source": [
    "class Thing:\n",
    "    pass\n",
    "print(Thing)\n",
    "example = Thing()\n",
    "print(example)"
   ]
  },
  {
   "cell_type": "code",
   "execution_count": null,
   "id": "d37f7791",
   "metadata": {},
   "outputs": [],
   "source": []
  },
  {
   "cell_type": "markdown",
   "id": "59fa1153",
   "metadata": {},
   "source": [
    "### 2. Create a new class called Thing2 and add the value &#39;abc&#39; to the letters class attribute. Letters should be printed."
   ]
  },
  {
   "cell_type": "code",
   "execution_count": 2,
   "id": "39c3b9b2",
   "metadata": {},
   "outputs": [
    {
     "name": "stdout",
     "output_type": "stream",
     "text": [
      "abc\n"
     ]
    }
   ],
   "source": [
    "class Thing2:\n",
    "    letters = 'abc'\n",
    "print(Thing2.letters)"
   ]
  },
  {
   "cell_type": "code",
   "execution_count": null,
   "id": "dca49e0a",
   "metadata": {},
   "outputs": [],
   "source": []
  },
  {
   "cell_type": "markdown",
   "id": "e659753a",
   "metadata": {},
   "source": [
    "### 3. Make yet another class called, of course, Thing3. This time, assign the value &#39;xyz&#39; to an instance (object) attribute called letters. Print letters. Do you need to make an object from the class to do this?"
   ]
  },
  {
   "cell_type": "code",
   "execution_count": 7,
   "id": "2de1e810",
   "metadata": {},
   "outputs": [
    {
     "name": "stdout",
     "output_type": "stream",
     "text": [
      "xyz\n"
     ]
    }
   ],
   "source": [
    "class Thing3:    \n",
    "    def __init__(self):\n",
    "        self.letters = 'xyz'\n",
    "\n",
    "try:        \n",
    "    print(Thing3.letters) # It will raise an attribute Error becuase of missing parantheses after Things3.\n",
    "except:\n",
    "    my_thing = Thing3()\n",
    "    print(my_thing.letters)\n"
   ]
  },
  {
   "cell_type": "code",
   "execution_count": null,
   "id": "d7380127",
   "metadata": {},
   "outputs": [],
   "source": []
  },
  {
   "cell_type": "markdown",
   "id": "4d4af829",
   "metadata": {},
   "source": [
    "### 4. Create an Element class with the instance attributes name, symbol, and number. Create a class object with the values &#39;Hydrogen,&#39; &#39;H,&#39; and 1."
   ]
  },
  {
   "cell_type": "code",
   "execution_count": 14,
   "id": "e51e0bdd",
   "metadata": {},
   "outputs": [
    {
     "name": "stdout",
     "output_type": "stream",
     "text": [
      "Hydrogen\n",
      "H\n",
      "1\n"
     ]
    }
   ],
   "source": [
    "class Element:\n",
    "    def __init__(self, name, symbol, number):\n",
    "        self.name = name\n",
    "        self.symbol = symbol\n",
    "        self.number = number\n",
    "hydrogen = Element('Hydrogen', 'H', 1)\n",
    "\n",
    "print(hydrogen.name)\n",
    "print(hydrogen.symbol)\n",
    "print(hydrogen.number)"
   ]
  },
  {
   "cell_type": "code",
   "execution_count": null,
   "id": "f4af2752",
   "metadata": {},
   "outputs": [],
   "source": []
  },
  {
   "cell_type": "markdown",
   "id": "e0185e1a",
   "metadata": {},
   "source": [
    "### 5. Make a dictionary with these keys and values: &#39;name&#39;: &#39;Hydrogen&#39;, &#39;symbol&#39;: &#39;H&#39;, &#39;number&#39;: 1. Then, create an object called hydrogen from class Element using this dictionary."
   ]
  },
  {
   "cell_type": "code",
   "execution_count": 16,
   "id": "fe22cfd7",
   "metadata": {},
   "outputs": [
    {
     "name": "stdout",
     "output_type": "stream",
     "text": [
      "Hydrogen\n",
      "H\n",
      "1\n"
     ]
    }
   ],
   "source": [
    "#Making dictionary:\n",
    "element_dict = {'name': 'Hydrogen', 'symbol': 'H', 'number': 1}\n",
    "\n",
    "#Creating object called hydrogen from class Element using element_dict\n",
    "hydrogen = Element(element_dict['name'], element_dict['symbol'], element_dict['number'])\n",
    "\n",
    "# Print using class\n",
    "print(hydrogen.name)\n",
    "print(hydrogen.symbol)\n",
    "print(hydrogen.number)"
   ]
  },
  {
   "cell_type": "code",
   "execution_count": 9,
   "id": "44ed3ef0",
   "metadata": {},
   "outputs": [],
   "source": []
  },
  {
   "cell_type": "markdown",
   "id": "8e9b8b55",
   "metadata": {},
   "source": [
    "### 6. For the Element class, define a method called dump() that prints the values of the object’s attributes (name, symbol, and number). Create the hydrogen object from this new definition and use dump() to print its attributes."
   ]
  },
  {
   "cell_type": "code",
   "execution_count": 20,
   "id": "b657eb7d",
   "metadata": {},
   "outputs": [
    {
     "name": "stdout",
     "output_type": "stream",
     "text": [
      "Hydrogen H 1\n"
     ]
    }
   ],
   "source": [
    "class Element:\n",
    "    def __init__(self, name, symbol, number):\n",
    "        self.name = name\n",
    "        self.symbol = symbol\n",
    "        self.number = number\n",
    "    def dump(self):\n",
    "        print(self.name, self.symbol, self.number)\n",
    "hydrogen = Element(**element_dict)\n",
    "hydrogen.dump()"
   ]
  },
  {
   "cell_type": "code",
   "execution_count": null,
   "id": "2d544eb1",
   "metadata": {},
   "outputs": [],
   "source": []
  },
  {
   "cell_type": "markdown",
   "id": "f80d010a",
   "metadata": {},
   "source": [
    "### 7. Call print(hydrogen). In the definition of Element, change the name of method dump to __str__, create a new hydrogen object, and call print(hydrogen) again."
   ]
  },
  {
   "cell_type": "code",
   "execution_count": 12,
   "id": "2006df58",
   "metadata": {},
   "outputs": [
    {
     "name": "stdout",
     "output_type": "stream",
     "text": [
      "<__main__.Element object at 0x000001A0F423B3D0>\n"
     ]
    }
   ],
   "source": [
    "print(hydrogen)"
   ]
  },
  {
   "cell_type": "code",
   "execution_count": 22,
   "id": "d4354fc4",
   "metadata": {},
   "outputs": [
    {
     "name": "stdout",
     "output_type": "stream",
     "text": [
      "name=Hydrogen, symbol=H, number=1\n"
     ]
    }
   ],
   "source": [
    "class Element:\n",
    "    def __init__(self, name, symbol, number):\n",
    "        self.name = name\n",
    "        self.symbol = symbol\n",
    "        self.number = number\n",
    "    def __str__(self):\n",
    "        return ('name=%s, symbol=%s, number=%s' %(self.name, self.symbol, self.number))\n",
    "\n",
    "hydrogen = Element(**element_dict)\n",
    "print(hydrogen)"
   ]
  },
  {
   "cell_type": "markdown",
   "id": "5aae8622",
   "metadata": {},
   "source": [
    "### 8. Modify Element to make the attributes name, symbol, and number private. Define a getter property for each to return its value."
   ]
  },
  {
   "cell_type": "code",
   "execution_count": 28,
   "id": "5ef994bd",
   "metadata": {},
   "outputs": [],
   "source": [
    "class Element:\n",
    "    def __init__(self, name, symbol, number):\n",
    "        self.__name = name\n",
    "        self.__symbol = symbol\n",
    "        self.__number = number\n",
    "    @property    \n",
    "    def name(self):\n",
    "        return self.__name\n",
    "    @property\n",
    "    def symbol(self):\n",
    "        return self.__symbol\n",
    "    @property\n",
    "    def number(self):\n",
    "        return self.__number\n",
    "hydrogen = Element('Hydrogen', 'H', 1)"
   ]
  },
  {
   "cell_type": "code",
   "execution_count": 32,
   "id": "948b4fb6",
   "metadata": {},
   "outputs": [
    {
     "name": "stdout",
     "output_type": "stream",
     "text": [
      "Hydrogen\n",
      "H\n",
      "1\n"
     ]
    }
   ],
   "source": [
    "print(hydrogen.name)\n",
    "print(hydrogen.symbol)\n",
    "print(hydrogen.number)"
   ]
  },
  {
   "cell_type": "code",
   "execution_count": null,
   "id": "0c5823f3",
   "metadata": {},
   "outputs": [],
   "source": []
  },
  {
   "cell_type": "code",
   "execution_count": null,
   "id": "9877163c",
   "metadata": {},
   "outputs": [],
   "source": []
  },
  {
   "cell_type": "markdown",
   "id": "82e2276d",
   "metadata": {},
   "source": [
    "### 9. Define three classes: Bear, Rabbit, and Octothorpe. For each, define only one method: eats(). This should return &#39;berries&#39; (Bear), &#39;clover&#39; (Rabbit), or &#39;campers&#39; (Octothorpe). Create one object from each and print what it eats."
   ]
  },
  {
   "cell_type": "code",
   "execution_count": 34,
   "id": "2571d7ad",
   "metadata": {},
   "outputs": [],
   "source": [
    "class Bear:\n",
    "    def eats(self):\n",
    "        return 'berries'\n",
    "    \n",
    "class Rabbit:\n",
    "    def eats(self):\n",
    "        return 'clover'\n",
    "\n",
    "class Octothorpe:\n",
    "    def eats(self):\n",
    "        return 'campers'\n",
    "    \n",
    "bear = Bear()\n",
    "rabbit = Rabbit()\n",
    "octothorpe = Octothorpe()"
   ]
  },
  {
   "cell_type": "code",
   "execution_count": 35,
   "id": "4a3a0562",
   "metadata": {},
   "outputs": [
    {
     "name": "stdout",
     "output_type": "stream",
     "text": [
      "berries\n",
      "clover\n",
      "campers\n"
     ]
    }
   ],
   "source": [
    "print(bear.eats())\n",
    "print(rabbit.eats())\n",
    "print(octothorpe.eats())"
   ]
  },
  {
   "cell_type": "code",
   "execution_count": null,
   "id": "5de3830f",
   "metadata": {},
   "outputs": [],
   "source": []
  },
  {
   "cell_type": "markdown",
   "id": "09d43748",
   "metadata": {},
   "source": [
    "### 10. Define these classes: Laser, Claw, and SmartPhone. Each has only one method: does(). This returns &#39;disintegrate&#39; (Laser), &#39;crush&#39; (Claw), or &#39;ring&#39; (SmartPhone). Then, define the class Robot that has one instance (object) of each of these. Define a does() method for the Robot that prints what its component objects do."
   ]
  },
  {
   "cell_type": "code",
   "execution_count": 46,
   "id": "c58be944",
   "metadata": {},
   "outputs": [
    {
     "name": "stdout",
     "output_type": "stream",
     "text": [
      "Robot component task:\n",
      "        Laser is to disintegrate.\n",
      "        Claw is to crush.\n",
      "        Smartphone is to ring.\n"
     ]
    }
   ],
   "source": [
    "class Laser:\n",
    "    def does(self):\n",
    "        return 'disintegrate'\n",
    "\n",
    "class Claw:\n",
    "    def does(self):\n",
    "        return 'crush'\n",
    "    \n",
    "class SmartPhone:\n",
    "    def does(self):\n",
    "        return 'ring'\n",
    "    \n",
    "class Robot:\n",
    "    def __init__(self):\n",
    "        self.laser = Laser()\n",
    "        self.claw = Claw()\n",
    "        self.smartphone = SmartPhone()\n",
    "        \n",
    "    def does(self):\n",
    "        \n",
    "        return '''Robot component task:\n",
    "        Laser is to %s.\n",
    "        Claw is to %s.\n",
    "        Smartphone is to %s.'''% (self.laser.does(),self.claw.does(),self.smartphone.does() )\n",
    "robo = Robot()\n",
    "print( robo.does())"
   ]
  },
  {
   "cell_type": "code",
   "execution_count": 22,
   "id": "fbe8f3d1",
   "metadata": {},
   "outputs": [],
   "source": []
  }
 ],
 "metadata": {
  "kernelspec": {
   "display_name": "Python 3 (ipykernel)",
   "language": "python",
   "name": "python3"
  },
  "language_info": {
   "codemirror_mode": {
    "name": "ipython",
    "version": 3
   },
   "file_extension": ".py",
   "mimetype": "text/x-python",
   "name": "python",
   "nbconvert_exporter": "python",
   "pygments_lexer": "ipython3",
   "version": "3.9.13"
  }
 },
 "nbformat": 4,
 "nbformat_minor": 5
}
