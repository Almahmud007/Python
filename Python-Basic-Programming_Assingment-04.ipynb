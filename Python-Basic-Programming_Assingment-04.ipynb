{
 "cells": [
  {
   "cell_type": "markdown",
   "id": "84dea7fb",
   "metadata": {},
   "source": [
    "# 1. Write a Python Program to Find the Factorial of a Number?"
   ]
  },
  {
   "cell_type": "code",
   "execution_count": 10,
   "id": "3c7f9837",
   "metadata": {},
   "outputs": [
    {
     "name": "stdout",
     "output_type": "stream",
     "text": [
      "Enter a number: 12\n",
      "Factorial of 12 is 479001600\n"
     ]
    }
   ],
   "source": [
    "a = int(input(\"Enter a number: \"))\n",
    "m = 1\n",
    "for i in range(1,a+1):\n",
    "  m = (m*i)\n",
    "print(f\"Factorial of {a} is {m}\")"
   ]
  },
  {
   "cell_type": "code",
   "execution_count": null,
   "id": "3fa2b27f",
   "metadata": {},
   "outputs": [],
   "source": []
  },
  {
   "cell_type": "markdown",
   "id": "bf79f3a8",
   "metadata": {},
   "source": [
    "# 2. Write a Python Program to Display the multiplication Table?"
   ]
  },
  {
   "cell_type": "code",
   "execution_count": 11,
   "id": "8c5754ca",
   "metadata": {},
   "outputs": [
    {
     "name": "stdout",
     "output_type": "stream",
     "text": [
      "Enter a number to see the table: 14\n",
      "-----------------------------------\n",
      "1 X 14 = 14\n",
      "2 X 14 = 28\n",
      "3 X 14 = 42\n",
      "4 X 14 = 56\n",
      "5 X 14 = 70\n",
      "6 X 14 = 84\n",
      "7 X 14 = 98\n",
      "8 X 14 = 112\n",
      "9 X 14 = 126\n",
      "10 X 14 = 140\n"
     ]
    }
   ],
   "source": [
    "a = int(input(\"Enter a number to see the table: \"))\n",
    "print(\"-\"*35)\n",
    "for i in range(1,11):\n",
    "  print(f\"{i} X {a} = {i*a}\")"
   ]
  },
  {
   "cell_type": "code",
   "execution_count": null,
   "id": "efe7eb1c",
   "metadata": {},
   "outputs": [],
   "source": []
  },
  {
   "cell_type": "markdown",
   "id": "6f79c273",
   "metadata": {},
   "source": [
    "# 3. Write a Python Program to Print the Fibonacci sequence?"
   ]
  },
  {
   "cell_type": "code",
   "execution_count": 15,
   "id": "da7e7241",
   "metadata": {},
   "outputs": [
    {
     "name": "stdout",
     "output_type": "stream",
     "text": [
      "Enter a number: 15\n",
      "Fibonacci sequence for 15 as below-\n",
      "0,1,1,2,3,5,8,13,21,34,55,89,144,233,377,610,"
     ]
    }
   ],
   "source": [
    "number = int(input(\"Enter a number: \"))\n",
    "sum = 0\n",
    "n1 = 0\n",
    "n2 = 1\n",
    "print(f\"Fibonacci sequence for {number} as below-\")\n",
    "for i in range(0,number+1):\n",
    "      print(sum, end = \",\")\n",
    "      n1 = n2\n",
    "      n2 = sum\n",
    "      sum = n1 + n2\n",
    "if number <=0:\n",
    "    print(\" Number must be greater than 0\")"
   ]
  },
  {
   "cell_type": "markdown",
   "id": "fb4fedf6",
   "metadata": {},
   "source": []
  },
  {
   "cell_type": "markdown",
   "id": "bb9ce4f8",
   "metadata": {},
   "source": [
    "# 4. Write a Python Program to Check Armstrong Number?"
   ]
  },
  {
   "cell_type": "code",
   "execution_count": 16,
   "id": "c67a0189",
   "metadata": {},
   "outputs": [
    {
     "name": "stdout",
     "output_type": "stream",
     "text": [
      "Please enter a number: 153\n",
      "---------------------------\n",
      " 153 is a Armstrong number\n"
     ]
    }
   ],
   "source": [
    "num = int(input(\"Please enter a number: \"))\n",
    "print('-'*27)\n",
    "pow = len(str(num))\n",
    "sum = 0\n",
    "var = num\n",
    "while var > 0:\n",
    "    digit = var % 10\n",
    "    power = digit ** pow\n",
    "    sum = sum + power\n",
    "    var = var // 10\n",
    "\n",
    "if sum == num:\n",
    "  print(f\" {num} is a Armstrong number\")\n",
    "else:\n",
    "  print(f\"{num} is not a Armstrong number\")"
   ]
  },
  {
   "cell_type": "code",
   "execution_count": null,
   "id": "c021b1f6",
   "metadata": {},
   "outputs": [],
   "source": []
  },
  {
   "cell_type": "markdown",
   "id": "0ed510e3",
   "metadata": {},
   "source": [
    "# 5. Write a Python Program to Find Armstrong Number in an Interval?"
   ]
  },
  {
   "cell_type": "code",
   "execution_count": 17,
   "id": "c33b2c2a",
   "metadata": {},
   "outputs": [
    {
     "name": "stdout",
     "output_type": "stream",
     "text": [
      "Please enter starting number: 100\n",
      "Please enter ending number: 10000\n",
      "---------------------------\n",
      "Armstrong number between 100 and 10000 as below-\n",
      "153,370,371,407,1634,8208,9474,"
     ]
    }
   ],
   "source": [
    "start = int(input(\"Please enter starting number: \"))\n",
    "end = int(input(\"Please enter ending number: \"))\n",
    "print('-'*27)\n",
    "print(f\"Armstrong number between {start} and {end} as below-\")\n",
    "\n",
    "for num in range(start,end):\n",
    "  pow = len(str(num))\n",
    "  sum = 0\n",
    "  var = num\n",
    "  while var > 0:\n",
    "      digit = var % 10\n",
    "      power = digit ** pow\n",
    "      sum = sum + power\n",
    "      var = var // 10\n",
    "\n",
    "  if sum == num:\n",
    "    print(sum, end = \",\")"
   ]
  },
  {
   "cell_type": "code",
   "execution_count": null,
   "id": "4eb439a0",
   "metadata": {},
   "outputs": [],
   "source": []
  },
  {
   "cell_type": "markdown",
   "id": "3b28f86b",
   "metadata": {},
   "source": [
    "# 6. Write a Python Program to Find the Sum of Natural Numbers?"
   ]
  },
  {
   "cell_type": "code",
   "execution_count": 18,
   "id": "a703ad02",
   "metadata": {},
   "outputs": [
    {
     "name": "stdout",
     "output_type": "stream",
     "text": [
      "Please enter starting number: 1\n",
      "Please enter ending number: 150\n",
      "------------------------------\n",
      "Summation of natural numbers between 1 and 150 is:11325\n"
     ]
    }
   ],
   "source": [
    "start = int(input(\"Please enter starting number: \"))\n",
    "end = int(input(\"Please enter ending number: \"))\n",
    "print(\"-\"*30)\n",
    "if start <= 0:\n",
    "  print(\"Please type number which is greater than 0\")\n",
    "else:\n",
    "  sum = 0\n",
    "  for i in range(start,end+1):\n",
    "      sum = i + sum\n",
    "  print(f\"Summation of natural numbers between {start} and {end} is:{sum}\")"
   ]
  },
  {
   "cell_type": "code",
   "execution_count": null,
   "id": "307a5db8",
   "metadata": {},
   "outputs": [],
   "source": []
  }
 ],
 "metadata": {
  "kernelspec": {
   "display_name": "Python 3 (ipykernel)",
   "language": "python",
   "name": "python3"
  },
  "language_info": {
   "codemirror_mode": {
    "name": "ipython",
    "version": 3
   },
   "file_extension": ".py",
   "mimetype": "text/x-python",
   "name": "python",
   "nbconvert_exporter": "python",
   "pygments_lexer": "ipython3",
   "version": "3.9.12"
  }
 },
 "nbformat": 4,
 "nbformat_minor": 5
}
