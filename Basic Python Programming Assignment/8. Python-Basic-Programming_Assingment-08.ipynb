{
 "cells": [
  {
   "cell_type": "markdown",
   "id": "33edb633",
   "metadata": {},
   "source": [
    "### 1. Write a Python Program to Add two Matrices ?"
   ]
  },
  {
   "cell_type": "code",
   "execution_count": 30,
   "id": "592c1f7a",
   "metadata": {},
   "outputs": [
    {
     "name": "stdout",
     "output_type": "stream",
     "text": [
      "Input: \n",
      "******\n",
      "[[2, 3, 5], [1, 1, 1], [2, 2, 2]]\n",
      "[[4, 3, 5], [1, 2, 3], [3, 2, 1]]\n",
      "Output:\n",
      "******\n",
      "[[6, 6, 10], [2, 3, 4], [5, 4, 3]]\n"
     ]
    }
   ],
   "source": [
    "def Add_Matrices(a,b):\n",
    "    print('Input: ')\n",
    "    print(6*'*')\n",
    "    print(a)\n",
    "    print(b)\n",
    "    if len(a) == len(b):\n",
    "        out_add_matrix = []\n",
    "        for ele in range(len(a)):\n",
    "            if len(a[ele]) == len(b[ele]):\n",
    "                out_add_matrix.append([])\n",
    "                for sub_ele in range(len(a[ele])):\n",
    "                    out_add_matrix[ele].append(a[ele][sub_ele]+b[ele][sub_ele])\n",
    "            else:\n",
    "                print('Both Matrices must contains same no of rows and columns') \n",
    "    else:\n",
    "        print('Both Matrices must contains same no of rows and columns')\n",
    "    print(f'Output:')\n",
    "    print(6*'*')\n",
    "    print(out_add_matrix)\n",
    "\n",
    "Add_Matrices([[2,3,5],[1,1,1],[2,2,2]],[[4,3,5],[1,2,3],[3,2,1]])"
   ]
  },
  {
   "cell_type": "code",
   "execution_count": null,
   "id": "917eb892",
   "metadata": {},
   "outputs": [],
   "source": []
  },
  {
   "cell_type": "code",
   "execution_count": null,
   "id": "8433bd48",
   "metadata": {},
   "outputs": [],
   "source": []
  },
  {
   "cell_type": "markdown",
   "id": "39b7b19d",
   "metadata": {},
   "source": [
    "### 2. Write a Python Program to Multiply two Matrices ?"
   ]
  },
  {
   "cell_type": "code",
   "execution_count": 25,
   "id": "186a4ffd",
   "metadata": {},
   "outputs": [
    {
     "name": "stdout",
     "output_type": "stream",
     "text": [
      "Input: \n",
      "******\n",
      "[[2, 3, 5], [1, 1, 1], [2, 2, 2]]\n",
      "[[4, 3, 5], [1, 2, 3], [3, 2, 1]]\n",
      "Output:\n",
      "******\n",
      "[[26, 22, 24], [8, 7, 9], [16, 14, 18]]\n"
     ]
    }
   ],
   "source": [
    "def Multiple_Matrics(a,b):\n",
    "    print('Input: ')\n",
    "    print(6*'*')\n",
    "    print(a)\n",
    "    print(b)\n",
    "    out_mul_matrix = []\n",
    "    if len(a[0]) == len(b):\n",
    "        for ele in range(len(a[0])):\n",
    "            out_mul_matrix.append([0 for ele in range(len(b[0]))])\n",
    "        for i in range(len(a)):\n",
    "            for j in range(len(b[0])):\n",
    "                for k in range(len(b)):\n",
    "                    out_mul_matrix[i][j] += a[i][k]*b[k][j]     \n",
    "    else:\n",
    "        print('Matrix Multiplication is Not Possible')\n",
    "    print(f'Output:')\n",
    "    print(6*'*')\n",
    "    print(out_mul_matrix)\n",
    "        \n",
    "Multiple_Matrics([[2,3,5],[1,1,1],[2,2,2]],[[4,3,5],[1,2,3],[3,2,1]])"
   ]
  },
  {
   "cell_type": "code",
   "execution_count": null,
   "id": "8f484679",
   "metadata": {},
   "outputs": [],
   "source": []
  },
  {
   "cell_type": "markdown",
   "id": "18e483c6",
   "metadata": {},
   "source": [
    "### 3. Write a Python Program to transpose a Matrix ?"
   ]
  },
  {
   "cell_type": "code",
   "execution_count": 34,
   "id": "2a20d1cc",
   "metadata": {},
   "outputs": [
    {
     "name": "stdout",
     "output_type": "stream",
     "text": [
      "Input: [[1, 2, 3], [4, 5, 6], [7, 8, 9]]\n",
      "Output:[[1, 4, 7], [2, 5, 8], [3, 6, 9]]\n"
     ]
    }
   ],
   "source": [
    "def Transpose_Matrix(a):\n",
    "    out_matrix = []\n",
    "    for ele in range(len(a[0])):\n",
    "        out_matrix.append([0 for i in range(len(a))])\n",
    "    for i in range(len(a)):\n",
    "        for j in range(len(a[i])):\n",
    "            out_matrix[j][i] = a[i][j]\n",
    "    \n",
    "    print(f'Input: {a}')\n",
    "    print(f'Output:{out_matrix}')\n",
    "        \n",
    "Transpose_Matrix([[1, 2, 3], [4, 5, 6], [7, 8, 9]])"
   ]
  },
  {
   "cell_type": "code",
   "execution_count": null,
   "id": "4caeec27",
   "metadata": {},
   "outputs": [],
   "source": []
  },
  {
   "cell_type": "markdown",
   "id": "58e24d31",
   "metadata": {},
   "source": [
    "### 4. Write a Python Program to sort Words in an Alphabatical Order ?"
   ]
  },
  {
   "cell_type": "code",
   "execution_count": 50,
   "id": "8a3c8b24",
   "metadata": {},
   "outputs": [
    {
     "name": "stdout",
     "output_type": "stream",
     "text": [
      "Enter a sentence: this is mahmud\n",
      "Sorted word: is mahmud this\n"
     ]
    }
   ],
   "source": [
    "def Sort_Word():\n",
    "    word = input(\"Enter a sentence: \")\n",
    "    sorted_list = sorted(word.split(' '))\n",
    "    print(f\"Sorted word: {' '.join(sorted_list)}\")\n",
    "\n",
    "Sort_Word()"
   ]
  },
  {
   "cell_type": "code",
   "execution_count": null,
   "id": "c20df038",
   "metadata": {},
   "outputs": [],
   "source": []
  },
  {
   "cell_type": "markdown",
   "id": "d55f1aba",
   "metadata": {},
   "source": [
    "### 5. Write a Python Program to remove Punctuations From a String ?"
   ]
  },
  {
   "cell_type": "code",
   "execution_count": 58,
   "id": "e3647d40",
   "metadata": {},
   "outputs": [
    {
     "name": "stdout",
     "output_type": "stream",
     "text": [
      "Enter a String: Mahmud@Shaown\n",
      "MahmudShaown\n"
     ]
    }
   ],
   "source": [
    "def Remove_Punctuatuion():\n",
    "    punctuations = '''!()-[]{};:'\"\\,<>./?@#$%^&*_~'''\n",
    "    in_string = input('Enter a String: ')\n",
    "    out_string = ''\n",
    "    for ele in in_string:\n",
    "        if ele not in punctuations:\n",
    "            out_string += ele\n",
    "    print(out_string)\n",
    "    \n",
    "Remove_Punctuatuion()"
   ]
  },
  {
   "cell_type": "code",
   "execution_count": null,
   "id": "fddb13cf",
   "metadata": {},
   "outputs": [],
   "source": []
  },
  {
   "cell_type": "code",
   "execution_count": null,
   "id": "626ac3c5",
   "metadata": {},
   "outputs": [],
   "source": []
  }
 ],
 "metadata": {
  "kernelspec": {
   "display_name": "Python 3 (ipykernel)",
   "language": "python",
   "name": "python3"
  },
  "language_info": {
   "codemirror_mode": {
    "name": "ipython",
    "version": 3
   },
   "file_extension": ".py",
   "mimetype": "text/x-python",
   "name": "python",
   "nbconvert_exporter": "python",
   "pygments_lexer": "ipython3",
   "version": "3.9.13"
  }
 },
 "nbformat": 4,
 "nbformat_minor": 5
}
