{
 "cells": [
  {
   "cell_type": "markdown",
   "id": "acf201e1",
   "metadata": {},
   "source": [
    "### 1.Write a Python program to Extract Unique values dictionary values?"
   ]
  },
  {
   "cell_type": "code",
   "execution_count": 3,
   "id": "e2557810",
   "metadata": {},
   "outputs": [
    {
     "name": "stdout",
     "output_type": "stream",
     "text": [
      "dict_values(['Bangladesh', 'India', 'Bangladesh', 'China', 'Pakistan', 'Nepal', 'Bhutan'])\n",
      "Unique Values from the dictionary: ['Nepal', 'China', 'Bhutan', 'Pakistan', 'India', 'Bangladesh']\n"
     ]
    }
   ],
   "source": [
    "my_dict = {'coun1':'Bangladesh','coun2':'India','coun3':'Bangladesh','coun4':'China','coun5':'Pakistan','coun6':'Nepal','coun7':'Bhutan'}\n",
    "print(my_dict.values())\n",
    "print(f'Unique Values from the dictionary: {list(set(my_dict.values()))}')"
   ]
  },
  {
   "cell_type": "code",
   "execution_count": null,
   "id": "86a5c7ea",
   "metadata": {},
   "outputs": [],
   "source": []
  },
  {
   "cell_type": "markdown",
   "id": "73d02c8a",
   "metadata": {},
   "source": [
    "### 2.Write a Python program to find the sum of all items in a dictionary?"
   ]
  },
  {
   "cell_type": "code",
   "execution_count": 11,
   "id": "a4435804",
   "metadata": {},
   "outputs": [
    {
     "name": "stdout",
     "output_type": "stream",
     "text": [
      "Enter a key (press Enter to quit): Apple\n",
      "Enter a value: 210\n",
      "Enter a key (press Enter to quit): Orange\n",
      "Enter a value: 200\n",
      "Enter a key (press Enter to quit): Mango\n",
      "Enter a value: 120\n",
      "Enter a key (press Enter to quit): \n",
      "--------------------------------\n",
      "Sum of all items value is: 530\n"
     ]
    }
   ],
   "source": [
    "my_dict = {}\n",
    "while True:\n",
    "    key = input(\"Enter a key (press Enter to quit): \")\n",
    "    if key == \"\":\n",
    "        break\n",
    "    value = eval(input(\"Enter a value: \"))\n",
    "    my_dict[key] = value\n",
    "print('-'*32)\n",
    "print(f'Sum of all items value is: {sum(my_dict.values())}')"
   ]
  },
  {
   "cell_type": "code",
   "execution_count": null,
   "id": "d98c2ce7",
   "metadata": {},
   "outputs": [],
   "source": []
  },
  {
   "cell_type": "markdown",
   "id": "b0be393a",
   "metadata": {},
   "source": [
    "### 3.Write a Python program to Merging two Dictionaries?"
   ]
  },
  {
   "cell_type": "code",
   "execution_count": 18,
   "id": "24a6b618",
   "metadata": {},
   "outputs": [
    {
     "name": "stdout",
     "output_type": "stream",
     "text": [
      "{'Country_BD': 'Bangladesh', 'Country_IND': 'India', 'capital_BD': 'Dhaka', 'capital_IND': 'New Delhi'}\n"
     ]
    }
   ],
   "source": [
    "country = {'Country_BD':'Bangladesh','Country_IND':'India'}\n",
    "capital = {'capital_BD':'Dhaka','capital_IND':'New Delhi'}\n",
    "country.update(capital)\n",
    "print(country)"
   ]
  },
  {
   "cell_type": "code",
   "execution_count": null,
   "id": "379081e0",
   "metadata": {},
   "outputs": [],
   "source": []
  },
  {
   "cell_type": "markdown",
   "id": "9954c390",
   "metadata": {},
   "source": [
    "### 4.Write a Python program to convert key-values list to flat dictionary?"
   ]
  },
  {
   "cell_type": "code",
   "execution_count": 21,
   "id": "e435dec4",
   "metadata": {},
   "outputs": [
    {
     "name": "stdout",
     "output_type": "stream",
     "text": [
      "{'Apple': 10, 'Orange': 20, 'Mango': 30, 'Jackfruit': 40}\n"
     ]
    }
   ],
   "source": [
    "kv_list = [('Apple',10),('Orange',20),('Mango',30),('Jackfruit',40)]\n",
    "\n",
    "dictionary = {}\n",
    "for i in kv_list:\n",
    "    dictionary[i[0]] = i[1]\n",
    "print(dictionary)"
   ]
  },
  {
   "cell_type": "code",
   "execution_count": null,
   "id": "367b1cf1",
   "metadata": {},
   "outputs": [],
   "source": []
  },
  {
   "cell_type": "markdown",
   "id": "a1ebea99",
   "metadata": {},
   "source": [
    "### 5. Write a Python program to insertion at the beginning in OrderedDict?"
   ]
  },
  {
   "cell_type": "code",
   "execution_count": 5,
   "id": "6f0032e4",
   "metadata": {},
   "outputs": [
    {
     "name": "stdout",
     "output_type": "stream",
     "text": [
      "dict_1 OrderedDict([('Bangladesh', 'Dhaka'), ('India', 'New Delhi'), ('China', 'Beijing')])\n",
      "dict_1 OrderedDict([('Pakistan', 'Islamabad'), ('Bangladesh', 'Dhaka'), ('India', 'New Delhi'), ('China', 'Beijing')])\n"
     ]
    }
   ],
   "source": [
    "from collections import OrderedDict\n",
    "def Ordered_Dict():\n",
    "    dict_1 = OrderedDict({'Bangladesh':'Dhaka','India':'New Delhi','China':'Beijing'})\n",
    "    print('dict_1',dict_1)\n",
    "\n",
    "    dict_2 = {'Pakistan':'Islamabad'}\n",
    "    dict_1.update(dict_2)\n",
    "    dict_1.move_to_end('Pakistan',last=False)\n",
    "    print('dict_1',dict_1)\n",
    "Ordered_Dict()"
   ]
  },
  {
   "cell_type": "code",
   "execution_count": null,
   "id": "73073f0f",
   "metadata": {},
   "outputs": [],
   "source": []
  },
  {
   "cell_type": "markdown",
   "id": "7313e2d3",
   "metadata": {},
   "source": [
    "### 6.Write a Python program to check order of character in string using OrderedDict()?"
   ]
  },
  {
   "cell_type": "code",
   "execution_count": 10,
   "id": "dec5a0ab",
   "metadata": {},
   "outputs": [
    {
     "name": "stdout",
     "output_type": "stream",
     "text": [
      "{'c': 'Cow', 'd': 'Dog', 'a': 'Ant', 'B': 'Ball', 'b': 'Bat', 'C': 'Cat', 'A': 'Apple'}\n",
      "OrderedDict([('A', 'Apple'), ('B', 'Ball'), ('C', 'Cat'), ('a', 'Ant'), ('b', 'Bat'), ('c', 'Cow'), ('d', 'Dog')])\n"
     ]
    }
   ],
   "source": [
    "from collections import OrderedDict\n",
    "\n",
    "initial_list = {'c': 'Cow',\n",
    "                'd': \"Dog\",\n",
    "                'a': \"Ant\",\n",
    "                'B': \"Ball\", \n",
    "                'b': \"Bat\", \n",
    "                'C': \"Cat\",\n",
    "                'A': \"Apple\"\n",
    "                \n",
    "               }\n",
    "print(initial_list)\n",
    "\n",
    "final_list = OrderedDict(dict(sorted(initial_list.items())))\n",
    "print(final_list)"
   ]
  },
  {
   "cell_type": "code",
   "execution_count": null,
   "id": "54646462",
   "metadata": {},
   "outputs": [],
   "source": []
  },
  {
   "cell_type": "markdown",
   "id": "bef43e89",
   "metadata": {},
   "source": [
    "### 7.Write a Python program to sort Python Dictionaries by Key or Value?"
   ]
  },
  {
   "cell_type": "code",
   "execution_count": 24,
   "id": "c10c8660",
   "metadata": {},
   "outputs": [
    {
     "name": "stdout",
     "output_type": "stream",
     "text": [
      "Input Dictionary: {'Physics': 78, 'Math': 95, 'English': 85, 'Chemistry': 83}\n",
      "Dictionary after sorting: {'Math': 95, 'English': 85, 'Chemistry': 83, 'Physics': 78}\n"
     ]
    }
   ],
   "source": [
    "dict_marks = {'English':85,'Math':95,'Physics':78,'Chemistry':83}\n",
    "\n",
    "def sort_dict(dictionary,sorting):\n",
    "    if sorting == 'key':\n",
    "        \n",
    "        print(f'Input Dictionary: {dict(sorted(dictionary.items(), key=lambda x:x[0], reverse=True))}')\n",
    "    else:\n",
    "        print(f'Dictionary after sorting: {dict(sorted(dictionary.items(), key=lambda x:x[1], reverse=True))}')\n",
    "        \n",
    "sort_dict(dict_marks,'key')        \n",
    "sort_dict(dict_marks,'value')"
   ]
  },
  {
   "cell_type": "code",
   "execution_count": null,
   "id": "05de007b",
   "metadata": {},
   "outputs": [],
   "source": []
  },
  {
   "cell_type": "code",
   "execution_count": null,
   "id": "1cb5cf54",
   "metadata": {},
   "outputs": [],
   "source": []
  }
 ],
 "metadata": {
  "kernelspec": {
   "display_name": "Python 3 (ipykernel)",
   "language": "python",
   "name": "python3"
  },
  "language_info": {
   "codemirror_mode": {
    "name": "ipython",
    "version": 3
   },
   "file_extension": ".py",
   "mimetype": "text/x-python",
   "name": "python",
   "nbconvert_exporter": "python",
   "pygments_lexer": "ipython3",
   "version": "3.9.13"
  }
 },
 "nbformat": 4,
 "nbformat_minor": 5
}
