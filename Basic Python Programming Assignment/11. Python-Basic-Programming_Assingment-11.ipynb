{
 "cells": [
  {
   "cell_type": "markdown",
   "id": "24c1f8bb",
   "metadata": {},
   "source": [
    "### 1. Write a Python program to find words which are greater than given length k ?"
   ]
  },
  {
   "cell_type": "code",
   "execution_count": 8,
   "id": "c5c09165",
   "metadata": {},
   "outputs": [
    {
     "name": "stdout",
     "output_type": "stream",
     "text": [
      "Enter the string: A quick brown fox jumps over the lazy dog\n",
      "Enter the length of the string: 3\n",
      "quick,brown,jumps,over,lazy\n"
     ]
    }
   ],
   "source": [
    "def Word_Finder():\n",
    "    input_words = input(\"Enter the Words: \")\n",
    "    word_len = int(input('Enter the length of the word: '))\n",
    "    output_words = []\n",
    "    for word in input_words.split(\" \"):\n",
    "        if len(word) > word_len:\n",
    "            output_words.append(word)\n",
    "    print(','.join(output_words))\n",
    "\n",
    "Word_Finder()"
   ]
  },
  {
   "cell_type": "code",
   "execution_count": null,
   "id": "5ae1846d",
   "metadata": {},
   "outputs": [],
   "source": []
  },
  {
   "cell_type": "markdown",
   "id": "543d760d",
   "metadata": {},
   "source": [
    "### 2. Write a Python program for removing i-th character from a string ?"
   ]
  },
  {
   "cell_type": "code",
   "execution_count": 17,
   "id": "2a332224",
   "metadata": {},
   "outputs": [
    {
     "name": "stdout",
     "output_type": "stream",
     "text": [
      "Enter the String: A quick brown fox jumps over the lazy dog\n",
      "Enter the index number of Character: 10\n",
      "Words after removing character: 'A quick brwn fox jumps over the lazy dog'\n"
     ]
    }
   ],
   "source": [
    "def Remove_Character():\n",
    "    input_words = input(\"Enter the String: \")\n",
    "    ith_char = int(input(\"Enter the index number of Character: \"))\n",
    "    output_words = ''\n",
    "    for i in range(len(input_words)):\n",
    "        if i != ith_char:\n",
    "            output_words = output_words + input_words[i]\n",
    "    print(f\"Words after removing character: {output_words}\")\n",
    "    \n",
    "Remove_Character()"
   ]
  },
  {
   "cell_type": "code",
   "execution_count": null,
   "id": "6a194c17",
   "metadata": {},
   "outputs": [],
   "source": []
  },
  {
   "cell_type": "markdown",
   "id": "be0ca723",
   "metadata": {},
   "source": [
    "### 3. Write a Python program to split and join a string ?"
   ]
  },
  {
   "cell_type": "code",
   "execution_count": 19,
   "id": "2029ec76",
   "metadata": {},
   "outputs": [
    {
     "name": "stdout",
     "output_type": "stream",
     "text": [
      "Enter the string: A quick brown fox jumps over the lazy dog\n",
      "Split String: ['A', 'quick', 'brown', 'fox', 'jumps', 'over', 'the', 'lazy', 'dog']\n",
      "Join String: A quick brown fox jumps over the lazy dog\n"
     ]
    }
   ],
   "source": [
    "def Split_Join_String():\n",
    "    input_words = input('Enter the string: ')\n",
    "    print(f\"Split String: {input_words.split(' ')}\")\n",
    "    print(f\"Join String: {' '.join(input_words.split(' '))}\")\n",
    "\n",
    "Split_Join_String()"
   ]
  },
  {
   "cell_type": "code",
   "execution_count": null,
   "id": "259be19b",
   "metadata": {},
   "outputs": [],
   "source": []
  },
  {
   "cell_type": "markdown",
   "id": "f0cc98ca",
   "metadata": {},
   "source": [
    "### 4. Write a Python to check if a given string is binary string or not ?"
   ]
  },
  {
   "cell_type": "code",
   "execution_count": 35,
   "id": "8a6dcf27",
   "metadata": {},
   "outputs": [
    {
     "name": "stdout",
     "output_type": "stream",
     "text": [
      "Enter the string: 10101010101\n",
      "10101010101 is a binary string\n"
     ]
    }
   ],
   "source": [
    "def Check_Binary():\n",
    "    input_string = input('Enter the string: ')\n",
    "    check = 0\n",
    "    for i in input_string:\n",
    "        if i in ['0','1']:\n",
    "            check = 1\n",
    "            continue\n",
    "        else:\n",
    "            check = 0\n",
    "            break\n",
    "            \n",
    "    if check == 1:\n",
    "        print(f\"{input_string} is a binary string\")\n",
    "    else:\n",
    "        print(f\"{input_string} is not a binary string\")\n",
    "\n",
    "Check_Binary()"
   ]
  },
  {
   "cell_type": "code",
   "execution_count": null,
   "id": "2f225f28",
   "metadata": {},
   "outputs": [],
   "source": []
  },
  {
   "cell_type": "markdown",
   "id": "e0041f8e",
   "metadata": {},
   "source": [
    "### 5. Write a Python program to find uncommon words from two Strings ?"
   ]
  },
  {
   "cell_type": "code",
   "execution_count": 42,
   "id": "2ccb93a7",
   "metadata": {},
   "outputs": [
    {
     "name": "stdout",
     "output_type": "stream",
     "text": [
      "Enter the String 1: Common words\n",
      "Enter the String 2: Uncommon words\n",
      "Uncommon words between two input: {'Common', 'Uncommon'}\n"
     ]
    }
   ],
   "source": [
    "def Uncommon_Words():\n",
    "    sent_word_1 = set(input(\"Enter the String 1: \").split(' '))\n",
    "    sent_word_2 = set(input(\"Enter the String 2: \").split(' '))\n",
    "    uncommon_words = (sent_word_1.union(sent_word_2)).difference(sent_word_1.intersection(sent_word_2))\n",
    "    print(f'Uncommon words between two input: {uncommon_words}')\n",
    "\n",
    "Uncommon_Words()"
   ]
  },
  {
   "cell_type": "code",
   "execution_count": null,
   "id": "016880b3",
   "metadata": {},
   "outputs": [],
   "source": []
  },
  {
   "cell_type": "markdown",
   "id": "0c60adb5",
   "metadata": {},
   "source": [
    "### 6. Write a Python to find all duplicate characters in string ?"
   ]
  },
  {
   "cell_type": "code",
   "execution_count": 46,
   "id": "a5e81842",
   "metadata": {},
   "outputs": [
    {
     "name": "stdout",
     "output_type": "stream",
     "text": [
      "Enter the string: Abdullah AL Mahmud\n",
      "Duplicate characters are: ['d', 'A', 'a', 'l', 'u', 'h', ' ']\n"
     ]
    }
   ],
   "source": [
    "def duplicateChars():\n",
    "    input_word = input('Enter the string: ')\n",
    "    non_duplicate_char = []\n",
    "    duplicate_char = []\n",
    "    for i in input_word:\n",
    "        if i not in non_duplicate_char:\n",
    "            non_duplicate_char.append(i)\n",
    "        else:\n",
    "            duplicate_char.append(i)\n",
    "    print(f'Duplicate characters are: {list(set(duplicate_char))}')\n",
    "        \n",
    "duplicateChars()"
   ]
  },
  {
   "cell_type": "code",
   "execution_count": null,
   "id": "b38bf44f",
   "metadata": {},
   "outputs": [],
   "source": []
  },
  {
   "cell_type": "markdown",
   "id": "7ce329eb",
   "metadata": {},
   "source": [
    "### 7. Write a Python Program to check if a string contains any special character?"
   ]
  },
  {
   "cell_type": "code",
   "execution_count": 51,
   "id": "c8300ee3",
   "metadata": {},
   "outputs": [
    {
     "name": "stdout",
     "output_type": "stream",
     "text": [
      "Enter the string: Check @#$%&\n",
      "There are 5 speical characters in Check @#$%& which are:  ['@', '#', '$', '%', '&']\n"
     ]
    }
   ],
   "source": [
    "def Check_Special_Char():\n",
    "    special_char = '[@#$%&_!^*()<>?/\\|}{~:]'\n",
    "    input_words = input('Enter the string: ')\n",
    "    counter = 0\n",
    "    char_list = []\n",
    "    for i in input_words:\n",
    "        if i in special_char:\n",
    "            char_list.append(i)\n",
    "            counter = counter+1\n",
    "    print(f'There are {counter} speical characters in {input_words} which are:  {char_list}')\n",
    "            \n",
    "        \n",
    "Check_Special_Char()"
   ]
  },
  {
   "cell_type": "code",
   "execution_count": null,
   "id": "ac166d1d",
   "metadata": {},
   "outputs": [],
   "source": []
  }
 ],
 "metadata": {
  "kernelspec": {
   "display_name": "Python 3 (ipykernel)",
   "language": "python",
   "name": "python3"
  },
  "language_info": {
   "codemirror_mode": {
    "name": "ipython",
    "version": 3
   },
   "file_extension": ".py",
   "mimetype": "text/x-python",
   "name": "python",
   "nbconvert_exporter": "python",
   "pygments_lexer": "ipython3",
   "version": "3.9.13"
  }
 },
 "nbformat": 4,
 "nbformat_minor": 5
}
