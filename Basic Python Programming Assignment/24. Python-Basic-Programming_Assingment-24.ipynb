{
 "cells": [
  {
   "cell_type": "markdown",
   "id": "f911ae57",
   "metadata": {},
   "source": [
    "### 1.Create a function that takes an integer and returns a list from 1 to the given number, where:\n",
    "1.If the number can be divided evenly by 4, amplify it by 10 (i.e. return 10 times the number).<br>\n",
    "2.If the number cannot be divided evenly by 4, simply return the number.<br>\n",
    "\n",
    "<b>Examples: </b><br>\n",
    "amplify(4) ➞ [1, 2, 3, 40]<br>\n",
    "amplify(3) ➞ [1, 2, 3]<br>\n",
    "amplify(25) ➞ [1, 2, 3, 40, 5, 6, 7, 80, 9, 10, 11, 120, 13, 14, 15, 160, 17, 18, 19, 200, 21, 22, 23, 240, 25]<br>\n",
    "\n",
    "<b>Notes:</b><br>\n",
    "<ul>\n",
    "<li>The given integer will always be equal to or greater than 1.<br></li>\n",
    "<li>Include the number (see example above).<br></li>\n",
    "<li>To perform this problem with its intended purpose, try doing it with list\n",
    "comprehensions. If that&#39;s too difficult, just solve the challenge any way you can.</li></ul>"
   ]
  },
  {
   "cell_type": "code",
   "execution_count": 1,
   "id": "06351447",
   "metadata": {},
   "outputs": [
    {
     "name": "stdout",
     "output_type": "stream",
     "text": [
      "4 ➞ [1, 2, 3, 40]\n",
      "3 ➞ [1, 2, 3]\n",
      "25 ➞ [1, 2, 3, 40, 5, 6, 7, 80, 9, 10, 11, 120, 13, 14, 15, 160, 17, 18, 19, 200, 21, 22, 23, 240, 25]\n"
     ]
    }
   ],
   "source": [
    "def amplify(num):\n",
    "    list_1 = []\n",
    "    for i in range(1,num+1):\n",
    "        if i%4 == 0:\n",
    "            list_1.append(i*10)\n",
    "        else:\n",
    "            list_1.append(i)\n",
    "    print(f'{num} ➞ {list_1}')\n",
    "            \n",
    "amplify(4)\n",
    "amplify(3)\n",
    "amplify(25)"
   ]
  },
  {
   "cell_type": "code",
   "execution_count": null,
   "id": "0a24b764",
   "metadata": {},
   "outputs": [],
   "source": []
  },
  {
   "cell_type": "markdown",
   "id": "1cd63818",
   "metadata": {},
   "source": [
    "### 2.Create a function that takes a list of numbers and return the number that's unique.\n",
    "<b>Examples: </b><br>\n",
    "unique([3, 3, 3, 7, 3, 3]) ➞ 7<br>\n",
    "unique([0, 0, 0.77, 0, 0]) ➞ 0.77<br>\n",
    "unique([0, 1, 1, 1, 1, 1, 1, 1]) ➞ 0<br>\n",
    "\n",
    "<b>Notes:</b><br>\n",
    "Test cases will always have exactly one unique number while all others are the same."
   ]
  },
  {
   "cell_type": "code",
   "execution_count": 6,
   "id": "83cf2e01",
   "metadata": {},
   "outputs": [
    {
     "name": "stdout",
     "output_type": "stream",
     "text": [
      "[3, 3, 3, 7, 3, 3, 8] ➞ 7\n",
      "[0, 0, 0.77, 0, 0] ➞ 0.77\n",
      "[0, 1, 1, 1, 1, 1, 1, 1] ➞ 0\n"
     ]
    }
   ],
   "source": [
    "def unique(list_1):\n",
    "    num_2 = ''\n",
    "    for i in set(list_1):\n",
    "        if list_1.count(i) == 1:\n",
    "            num_2 = i\n",
    "    print(f'{list_1} ➞ {num_2}')\n",
    "\n",
    "unique([3, 3, 3, 7, 3, 3])\n",
    "unique([0, 0, 0.77, 0, 0])\n",
    "unique([0, 1, 1, 1, 1, 1, 1, 1])"
   ]
  },
  {
   "cell_type": "code",
   "execution_count": null,
   "id": "4c4c03fd",
   "metadata": {},
   "outputs": [],
   "source": []
  },
  {
   "cell_type": "markdown",
   "id": "04ad6f41",
   "metadata": {},
   "source": [
    "### 3.Your task is to create a Circle constructor that creates a circle with a radius provided by an argument. The circles constructed must have two getters getArea() (PIr^2) and getPerimeter() (2PI*r) which give both respective areas and perimeter (circumference). For help with this class, I have provided you with a Rectangle constructor which you can use as a base example ?\n",
    "<b>Examples: </b><br>\n",
    "circy = Circle(11)<br>\n",
    "circy.getArea()<br><br>\n",
    "#Should return 380.132711084365 <br><br>circy = Circle(4.44)<br>\n",
    "circy.getPerimeter()<br><br>\n",
    "#Should return 27.897342763877365<br>\n",
    "\n",
    "<b>Notes:</b><br>\n",
    "Round results up to the nearest integer."
   ]
  },
  {
   "cell_type": "code",
   "execution_count": 14,
   "id": "b172bfa4",
   "metadata": {},
   "outputs": [
    {
     "name": "stdout",
     "output_type": "stream",
     "text": [
      "Radius ➞ 380\n",
      "Perimeter ➞ 28\n"
     ]
    }
   ],
   "source": [
    "import math\n",
    "\n",
    "class Circle:\n",
    "    def __init__(self, rad):\n",
    "        self.rad = rad\n",
    "    def getArea(self):\n",
    "        print(f'Radius ➞ {round(math.pi*self.rad*self.rad)}')\n",
    "    def getPerimeter(self):\n",
    "        print(f'Perimeter ➞ {round(2*math.pi*self.rad)}')\n",
    "    \n",
    "circy = Circle(11)\n",
    "circy.getArea()\n",
    "\n",
    "circy = Circle(4.44)\n",
    "circy.getPerimeter()"
   ]
  },
  {
   "cell_type": "code",
   "execution_count": null,
   "id": "3fe5f6c2",
   "metadata": {},
   "outputs": [],
   "source": []
  },
  {
   "cell_type": "markdown",
   "id": "1e7b0e99",
   "metadata": {},
   "source": [
    "### 4.Create a function that takes a list of strings and return a list, sorted from shortest to longest.\n",
    "<b>Examples: </b><br>\n",
    "sort_by_length([\"Google\", \"Apple\", \"Microsoft\"])<br>\n",
    "➞ [\"Apple\", \"Google\", \"Microsoft\"]<br>\n",
    "\n",
    "sort_by_length([\"Leonardo\", \"Michelangelo\", \"Raphael\", \"Donatello\"])<br>\n",
    "➞ [\"Raphael\", \"Leonardo\", \"Donatello\", \"Michelangelo\"]<br>\n",
    "\n",
    "sort_by_length([\"Turing\", \"Einstein\", \"Jung\"])<br>\n",
    "➞ [\"Jung\", \"Turing\", \"Einstein\"]<br>\n",
    "\n",
    "<b>Notes:</b><br>\n",
    "All test cases contain lists with strings of different lengths, so you won't have to deal with multiple strings of the same length."
   ]
  },
  {
   "cell_type": "code",
   "execution_count": 16,
   "id": "e79bfc91",
   "metadata": {},
   "outputs": [
    {
     "name": "stdout",
     "output_type": "stream",
     "text": [
      "['Apple', 'Google', 'Microsoft']\n",
      "['Raphael', 'Leonardo', 'Donatello', 'Michelangelo']\n",
      "['Jung', 'Turing', 'Einstein']\n"
     ]
    }
   ],
   "source": [
    "def sort_by_length(list_1):\n",
    "    print(sorted(list_1,key=len))\n",
    "\n",
    "sort_by_length([\"Google\", \"Apple\", \"Microsoft\"])\n",
    "sort_by_length([\"Leonardo\", \"Michelangelo\", \"Raphael\", \"Donatello\"])\n",
    "sort_by_length([\"Turing\", \"Einstein\", \"Jung\"])"
   ]
  },
  {
   "cell_type": "code",
   "execution_count": null,
   "id": "77b93c57",
   "metadata": {},
   "outputs": [],
   "source": []
  },
  {
   "cell_type": "markdown",
   "id": "873b9356",
   "metadata": {},
   "source": [
    "### 5.Create a function that validates whether three given integers form a Pythagorean triplet. The sum of the squares of the two smallest integers must equal the square of the largest number to be validated.\n",
    "<b>Examples: </b><br>\n",
    "is_triplet(3, 4, 5) ➞ True # 3² + 4² = 25 # 5² = 25 is_triplet(13, 5, 12) ➞ True # 5² + 12² = 169 # 13² = 169 <br>\n",
    "is_triplet(1, 2, 3) ➞ False # 1² + 2² = 5 # 3² = 9<br>\n",
    "\n",
    "Notes: Numbers may not be given in a sorted order.<br>"
   ]
  },
  {
   "cell_type": "code",
   "execution_count": 18,
   "id": "5941bfc3",
   "metadata": {},
   "outputs": [
    {
     "name": "stdout",
     "output_type": "stream",
     "text": [
      "(3, 4, 5) ➞ True\n",
      "(3, 4, 5) ➞ True\n",
      "(1, 2, 3) ➞ False\n"
     ]
    }
   ],
   "source": [
    "def is_triplet(x,y,z):\n",
    "    if ((x**2+y**2) == (z**2)):\n",
    "        print(f'{x,y,z} ➞ {True}')\n",
    "    else:\n",
    "        print(f'{x,y,z} ➞ {False}')\n",
    "        \n",
    "is_triplet(3, 4, 5)\n",
    "is_triplet(3, 4, 5)\n",
    "is_triplet(1, 2, 3)"
   ]
  },
  {
   "cell_type": "code",
   "execution_count": null,
   "id": "8d038a93",
   "metadata": {},
   "outputs": [],
   "source": []
  }
 ],
 "metadata": {
  "kernelspec": {
   "display_name": "Python 3 (ipykernel)",
   "language": "python",
   "name": "python3"
  },
  "language_info": {
   "codemirror_mode": {
    "name": "ipython",
    "version": 3
   },
   "file_extension": ".py",
   "mimetype": "text/x-python",
   "name": "python",
   "nbconvert_exporter": "python",
   "pygments_lexer": "ipython3",
   "version": "3.9.13"
  }
 },
 "nbformat": 4,
 "nbformat_minor": 5
}
