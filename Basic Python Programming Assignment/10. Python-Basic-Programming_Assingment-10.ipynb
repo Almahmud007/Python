{
 "cells": [
  {
   "cell_type": "markdown",
   "id": "a8782457",
   "metadata": {},
   "source": [
    "### 1.Write a Python Program to find sum of elements in a list ?"
   ]
  },
  {
   "cell_type": "code",
   "execution_count": 13,
   "id": "e612177f",
   "metadata": {},
   "outputs": [
    {
     "name": "stdout",
     "output_type": "stream",
     "text": [
      "Enter all numbers by seperating comma: 2,3,4,5,6,7\n",
      "Sum of entered list is: 27\n"
     ]
    }
   ],
   "source": [
    "def list_item_sum():\n",
    "    list1 = input(\"Enter all numbers by seperating comma: \")\n",
    "    list2 = [int(x) for x in list1.split(\",\")]\n",
    "    sum = 0\n",
    "    for i in list2:\n",
    "        sum = sum + i\n",
    "        \n",
    "    print(f\"Sum of entered list is: {sum}\")\n",
    "        \n",
    "list_item_sum()"
   ]
  },
  {
   "cell_type": "code",
   "execution_count": null,
   "id": "a830c064",
   "metadata": {},
   "outputs": [],
   "source": []
  },
  {
   "cell_type": "markdown",
   "id": "9ffad178",
   "metadata": {},
   "source": [
    "### 2.Write a Python Program to multiply all numbers in the list ?"
   ]
  },
  {
   "cell_type": "code",
   "execution_count": 22,
   "id": "d778d05b",
   "metadata": {},
   "outputs": [
    {
     "name": "stdout",
     "output_type": "stream",
     "text": [
      "Enter a list of numbers by seperating comma: 2,3,4,5,5,6,7,8,8,9\n",
      "Multiplication Number of entered list is: 14515200\n"
     ]
    }
   ],
   "source": [
    "def list_item_mul():\n",
    "    list1 = input(\"Enter a list of numbers by seperating comma: \")\n",
    "    list2 = [int(x) for x in list1.split(\",\")]\n",
    "    mul = 1\n",
    "    for i in list2:\n",
    "        mul = mul * i\n",
    "        \n",
    "    print(f\"Multiplication Number of entered list is: {mul}\")\n",
    "        \n",
    "list_item_mul()"
   ]
  },
  {
   "cell_type": "code",
   "execution_count": null,
   "id": "a4e28850",
   "metadata": {},
   "outputs": [],
   "source": []
  },
  {
   "cell_type": "markdown",
   "id": "0ead5805",
   "metadata": {},
   "source": [
    "### 3.Write a Python Program to find smallest number in the list ?"
   ]
  },
  {
   "cell_type": "code",
   "execution_count": null,
   "id": "1cf50c47",
   "metadata": {},
   "outputs": [],
   "source": []
  },
  {
   "cell_type": "code",
   "execution_count": 60,
   "id": "5794d9ae",
   "metadata": {},
   "outputs": [
    {
     "name": "stdout",
     "output_type": "stream",
     "text": [
      "Enter a list of numbers by seperating comma: 2,3,3,4,5,6,7,7,43434,34,5,45,4756,5,4,34,34,65\n",
      "Smallest number in the list is: 2\n"
     ]
    }
   ],
   "source": [
    "def Find_Small_Number():\n",
    "    list1 = input(\"Enter a list of numbers by seperating comma: \")\n",
    "    list2 = list(set([int(x) for x in list1.split(\",\")]))\n",
    "    small_number = sorted([int(i) for i in list2])[0]\n",
    "    print(f\"Smallest number in the list is: {small_number}\")\n",
    "Find_Small_Number()"
   ]
  },
  {
   "cell_type": "code",
   "execution_count": null,
   "id": "f73e3e33",
   "metadata": {},
   "outputs": [],
   "source": []
  },
  {
   "cell_type": "markdown",
   "id": "a3987a2f",
   "metadata": {},
   "source": [
    "### 4.Write a Python Program to find largest number in the list ?"
   ]
  },
  {
   "cell_type": "code",
   "execution_count": 14,
   "id": "cd2e3978",
   "metadata": {},
   "outputs": [
    {
     "name": "stdout",
     "output_type": "stream",
     "text": [
      "Enter a list of numbers by seperating comma: 2,3,4,5,65,6,7,5\n",
      "Largest number in the list is: 65\n"
     ]
    }
   ],
   "source": [
    "def Find_Largest_Number():\n",
    "    list1 = input(\"Enter a list of numbers by seperating comma: \")\n",
    "    list2 = list(set([int(x) for x in list1.split(\",\")]))\n",
    "    Large_number = sorted([int(i) for i in list2])[-1]\n",
    "    print(f\"Largest number in the list is: {Large_number}\")\n",
    "Find_Largest_Number()"
   ]
  },
  {
   "cell_type": "code",
   "execution_count": null,
   "id": "ada2b8b5",
   "metadata": {},
   "outputs": [],
   "source": []
  },
  {
   "cell_type": "markdown",
   "id": "f7712eaf",
   "metadata": {},
   "source": [
    "### 5.Write a Python Program to find second largest number in the list ?"
   ]
  },
  {
   "cell_type": "code",
   "execution_count": 15,
   "id": "8d960193",
   "metadata": {},
   "outputs": [
    {
     "name": "stdout",
     "output_type": "stream",
     "text": [
      "Enter a list of numbers by seperating comma: 2,3,4,56,76,7,76,56\n",
      "Second largest number in the list is: 56\n"
     ]
    }
   ],
   "source": [
    "def Find_2nd_Largest_Number():\n",
    "    list1 = input(\"Enter a list of numbers by seperating comma: \")\n",
    "    list2 = list(set([int(x) for x in list1.split(\",\")]))\n",
    "    Large_number_2nd = sorted([int(i) for i in list2])[-2]\n",
    "    print(f\"Second largest number in the list is: {Large_number_2nd}\")\n",
    "Find_2nd_Largest_Number()"
   ]
  },
  {
   "cell_type": "code",
   "execution_count": null,
   "id": "a02f7afc",
   "metadata": {},
   "outputs": [],
   "source": []
  },
  {
   "cell_type": "markdown",
   "id": "9750a2d4",
   "metadata": {},
   "source": [
    "### 6.Write a Python Program to find N largest elements in the list ?"
   ]
  },
  {
   "cell_type": "code",
   "execution_count": 16,
   "id": "aa901a56",
   "metadata": {},
   "outputs": [
    {
     "name": "stdout",
     "output_type": "stream",
     "text": [
      "Enter a number of list: 2,3,4,56,76,7,76,56\n",
      "Enter how many largest element you need: 4\n",
      "The 4 largest numbers in the list is: [76, 56, 7, 4]\n"
     ]
    }
   ],
   "source": [
    "def Find_nth_Largest_Number():\n",
    "    \"\"\"\n",
    "    Input value should be seperated by comma.\n",
    "    Duplicate value will be considered as a single value.\n",
    "    \"\"\"\n",
    "    list1 = input(\"Enter a number of list: \")\n",
    "    nth = int(input(\"Enter how many largest element you need: \"))\n",
    "    list2 = [int(x) for x in list1.split(\",\")]\n",
    "    length = len(list2)\n",
    "\n",
    "    while True:\n",
    "\n",
    "        if nth > length:\n",
    "            print(\"You have put less number in the list than your asking element. Please put the correct numbers again.\")\n",
    "            list1 = input(\"Enter a number of list: \")\n",
    "            nth = int(input(\"Enter how many largest element you need: \"))\n",
    "            list2 = [int(x) for x in list1.split(\",\")]\n",
    "            length = len(list2)\n",
    "        else:    \n",
    "            list2 = list(set([int(x) for x in list1.split(\",\")]))\n",
    "            Large_number_nth = sorted([int(i) for i in list2], reverse = True)[0:nth]\n",
    "            print(f\"The {nth} largest numbers in the list is: {Large_number_nth}\")\n",
    "            break\n",
    "Find_nth_Largest_Number()"
   ]
  },
  {
   "cell_type": "code",
   "execution_count": null,
   "id": "588c978f",
   "metadata": {},
   "outputs": [],
   "source": []
  },
  {
   "cell_type": "code",
   "execution_count": null,
   "id": "f5c18b5e",
   "metadata": {},
   "outputs": [],
   "source": []
  },
  {
   "cell_type": "markdown",
   "id": "db8db497",
   "metadata": {},
   "source": [
    "### 7.Write a Python Program to find even numbers in the list ?"
   ]
  },
  {
   "cell_type": "code",
   "execution_count": 18,
   "id": "1f2e4901",
   "metadata": {},
   "outputs": [
    {
     "name": "stdout",
     "output_type": "stream",
     "text": [
      "Enter all numbers by seperating comma: 2,3,4,9,7,56,76,7,76,56\n",
      "Even numbers from the entered list is: [2, 4, 56, 76, 76, 56]\n"
     ]
    }
   ],
   "source": [
    "def Find_Even_Number():\n",
    "    list1 = input(\"Enter all numbers by seperating comma: \")\n",
    "    list2 = [int(x) for x in list1.split(\",\")]\n",
    "    even_number = []\n",
    "    for i in list2:\n",
    "        if i %2 == 0:\n",
    "            even_number.append(i)\n",
    "          \n",
    "    print(f\"Even numbers from the entered list is: {even_number}\")\n",
    "        \n",
    "Find_Even_Number()"
   ]
  },
  {
   "cell_type": "code",
   "execution_count": null,
   "id": "4ce798ed",
   "metadata": {},
   "outputs": [],
   "source": []
  },
  {
   "cell_type": "code",
   "execution_count": null,
   "id": "6408d9b5",
   "metadata": {},
   "outputs": [],
   "source": []
  },
  {
   "cell_type": "markdown",
   "id": "5003a0ab",
   "metadata": {},
   "source": [
    "### 8.Write a Python Program to find odd numbers in the list ?"
   ]
  },
  {
   "cell_type": "code",
   "execution_count": 19,
   "id": "e0de8d7a",
   "metadata": {},
   "outputs": [
    {
     "name": "stdout",
     "output_type": "stream",
     "text": [
      "Enter all numbers by seperating comma: 2,3,4,56,76,7,76,56\n",
      "Odd numbers from the entered list is: [3, 7]\n"
     ]
    }
   ],
   "source": [
    "def Find_Odd_Number():\n",
    "    list1 = input(\"Enter all numbers by seperating comma: \")\n",
    "    list2 = [int(x) for x in list1.split(\",\")]\n",
    "    odd_number = []\n",
    "    for i in list2:\n",
    "        if i %2 != 0:\n",
    "            odd_number.append(i)\n",
    "          \n",
    "    print(f\"Odd numbers from the entered list is: {odd_number}\")\n",
    "        \n",
    "Find_Odd_Number()"
   ]
  },
  {
   "cell_type": "code",
   "execution_count": null,
   "id": "db007263",
   "metadata": {},
   "outputs": [],
   "source": []
  },
  {
   "cell_type": "markdown",
   "id": "e3d403d2",
   "metadata": {},
   "source": [
    "### 9.Write a Python Program to remove empty list from list ?"
   ]
  },
  {
   "cell_type": "code",
   "execution_count": 20,
   "id": "a35506ab",
   "metadata": {},
   "outputs": [
    {
     "name": "stdout",
     "output_type": "stream",
     "text": [
      "Empty list after removing blank list: [[23, 45, 6, 7], [2, 3, 4, 5, 6], 65, 34, [23, 45, 6]]\n"
     ]
    }
   ],
   "source": [
    "def Remove_Empty_Lists(lst):\n",
    "    \"\"\"\n",
    "    Recursively removes all empty lists from a list, including those nested inside other lists.\n",
    "    \"\"\"\n",
    "    result = []\n",
    "    for item in lst:\n",
    "        if isinstance(item, list):\n",
    "            item = Remove_Empty_Lists(item)\n",
    "            if item:\n",
    "                result.append(item)\n",
    "        elif item:\n",
    "            result.append(item)\n",
    "    return result\n",
    "\n",
    "enter_list = [[23,45,6,7],[2,3,4,5,6],65,34,[23,45,6,[[]]]] #put your input here\n",
    "\n",
    "list_without_empty_lists = Remove_Empty_Lists(enter_list)\n",
    "\n",
    "print(f\"Empty list after removing blank list: {list_without_empty_lists}\")"
   ]
  },
  {
   "cell_type": "code",
   "execution_count": null,
   "id": "4f41099f",
   "metadata": {},
   "outputs": [],
   "source": []
  },
  {
   "cell_type": "code",
   "execution_count": null,
   "id": "4ce97e1e",
   "metadata": {},
   "outputs": [],
   "source": []
  },
  {
   "cell_type": "markdown",
   "id": "6d961ebf",
   "metadata": {},
   "source": [
    "### 10.Write a Python Program to Cloning or Copying a list ?"
   ]
  },
  {
   "cell_type": "code",
   "execution_count": 4,
   "id": "5822efe6",
   "metadata": {},
   "outputs": [
    {
     "name": "stdout",
     "output_type": "stream",
     "text": [
      "Enter a list: 23,45,67\n",
      "Input list: (23, 45, 67)\n",
      "----------\n",
      "Please put a list with square bracket\n",
      "Enter a list: \n",
      "----------\n",
      "Please put a list with square bracket\n",
      "Enter a list: \n",
      "----------\n",
      "Please put a list with square bracket\n",
      "Enter a list: [23,45,67]\n",
      "Input list: [23, 45, 67]\n",
      "Clonning list: [23, 45, 67]\n"
     ]
    }
   ],
   "source": [
    "import copy\n",
    "\n",
    "def List_Clonning():\n",
    "    try:\n",
    "        list_item = eval(input('Enter a list: '))\n",
    "        print(f'Input list: {list_item}')\n",
    "        cloned_list = list_item.copy()\n",
    "        print(f'Clonning list: {list_item}')\n",
    "    except:\n",
    "        print('-'*10)\n",
    "        print(\"Please put a list with square bracket\")\n",
    "        return List_Clonning()\n",
    "\n",
    "List_Clonning()"
   ]
  },
  {
   "cell_type": "code",
   "execution_count": null,
   "id": "dd31ed3b",
   "metadata": {},
   "outputs": [],
   "source": []
  },
  {
   "cell_type": "markdown",
   "id": "2d2b932b",
   "metadata": {},
   "source": [
    "### 11.Write a Python Program to count occurences of an element in a list ?"
   ]
  },
  {
   "cell_type": "code",
   "execution_count": 12,
   "id": "de289b6f",
   "metadata": {},
   "outputs": [
    {
     "name": "stdout",
     "output_type": "stream",
     "text": [
      "Enter the elements of the list: [23,34,44,34,34,56,45]\n",
      "Enter the element to find: 34\n",
      "There are 3 occurences of 34 in [23, 34, 44, 34, 34, 56, 45]\n"
     ]
    }
   ],
   "source": [
    "def Occurence_check():\n",
    "    list_item = eval(input('Enter the elements of the list: '))\n",
    "    check_num = eval(input('Enter the element to find: '))\n",
    "    counter = 0\n",
    "    if check_num in list_item:\n",
    "        for i in list_item:\n",
    "            if i == check_num:\n",
    "                counter = counter+1\n",
    "    print(f'There are {counter} occurences of {check_num} in {list_item}')\n",
    "    \n",
    "Occurence_check()"
   ]
  },
  {
   "cell_type": "code",
   "execution_count": null,
   "id": "7ad58db1",
   "metadata": {},
   "outputs": [],
   "source": []
  }
 ],
 "metadata": {
  "kernelspec": {
   "display_name": "Python 3 (ipykernel)",
   "language": "python",
   "name": "python3"
  },
  "language_info": {
   "codemirror_mode": {
    "name": "ipython",
    "version": 3
   },
   "file_extension": ".py",
   "mimetype": "text/x-python",
   "name": "python",
   "nbconvert_exporter": "python",
   "pygments_lexer": "ipython3",
   "version": "3.9.13"
  }
 },
 "nbformat": 4,
 "nbformat_minor": 5
}
