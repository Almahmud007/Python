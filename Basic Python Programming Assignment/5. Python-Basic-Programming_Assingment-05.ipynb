{
 "cells": [
  {
   "cell_type": "markdown",
   "id": "ba4bb943",
   "metadata": {},
   "source": [
    "### 1. Write a Python Program to find LCM ?"
   ]
  },
  {
   "cell_type": "code",
   "execution_count": 4,
   "id": "6133ebfd",
   "metadata": {},
   "outputs": [
    {
     "name": "stdout",
     "output_type": "stream",
     "text": [
      "Please enter a list of numbers separated by commas: 2,3,4,5\n"
     ]
    },
    {
     "data": {
      "text/plain": [
       "'LCM of above given list is: 60'"
      ]
     },
     "execution_count": 4,
     "metadata": {},
     "output_type": "execute_result"
    }
   ],
   "source": [
    "def calc_lcm():\n",
    "    user_input = input(\"Please enter a list of numbers separated by commas: \")\n",
    "    list1 = [int(x) for x in user_input.split(',')]\n",
    "  \n",
    "    def compute_lcm(x, y):\n",
    "        if x > y:\n",
    "            greater = x\n",
    "        else:\n",
    "            greater = y\n",
    "\n",
    "        while(True):\n",
    "            if((greater % x == 0) and (greater % y == 0)):\n",
    "                lcm = greater\n",
    "                break\n",
    "            greater += 1\n",
    "        return lcm\n",
    "\n",
    "    lcm_val = list1[0]\n",
    "\n",
    "    for i in list1[1:]:\n",
    "        lcm_val = compute_lcm(lcm_val, i)\n",
    "\n",
    "    return f\"LCM of above given list is: {lcm_val}\"\n",
    "calc_lcm()"
   ]
  },
  {
   "cell_type": "code",
   "execution_count": null,
   "id": "2ddddc38",
   "metadata": {},
   "outputs": [],
   "source": []
  },
  {
   "cell_type": "markdown",
   "id": "3e8bf894",
   "metadata": {},
   "source": [
    "### 2. Write a Python Program to find HCF ?"
   ]
  },
  {
   "cell_type": "code",
   "execution_count": 6,
   "id": "616c1d51",
   "metadata": {},
   "outputs": [
    {
     "name": "stdout",
     "output_type": "stream",
     "text": [
      "Please enter a list of numbers separated by commas: 2,4,8,10\n"
     ]
    },
    {
     "data": {
      "text/plain": [
       "'HCF of above given list is: 2'"
      ]
     },
     "execution_count": 6,
     "metadata": {},
     "output_type": "execute_result"
    }
   ],
   "source": [
    "def calc_hcf():\n",
    "    user_input = input(\"Please enter a list of numbers separated by commas: \")\n",
    "    list1 = [int(x) for x in user_input.split(',')]\n",
    "\n",
    "    def calHCF(a,b):\n",
    "        if a > b:\n",
    "            smaller = b\n",
    "        else:\n",
    "            smaller = a\n",
    "        for i in range(1, smaller+1):\n",
    "            if(a%i == 0) and (b%i == 0):\n",
    "                HCF = i\n",
    "        return HCF\n",
    "\n",
    "    hcf_val = list1[0]\n",
    "\n",
    "    for i in list1[1:]:\n",
    "        if hcf_val == 1:\n",
    "            return hcf_val\n",
    "            break\n",
    "        else:\n",
    "            hcf_val = calHCF(hcf_val, i)\n",
    "    return f\"HCF of above given list is: {hcf_val}\"\n",
    "calc_hcf()"
   ]
  },
  {
   "cell_type": "markdown",
   "id": "15e9ab09",
   "metadata": {},
   "source": [
    "### 3. Write a Python Program to Convert Decimal to Binary, Octal and Hexadecimal ?"
   ]
  },
  {
   "cell_type": "code",
   "execution_count": 92,
   "id": "7cff3a2e",
   "metadata": {},
   "outputs": [
    {
     "name": "stdout",
     "output_type": "stream",
     "text": [
      "45\n",
      "The conversion of 45 decimal value are given below: \n",
      "Binary value is: 0b101101\n",
      "Octal value is: 0o55\n",
      "Hexadecimal value is: 0x2d\n"
     ]
    }
   ],
   "source": [
    "def Dec_to_other():  \n",
    "    dec = int(input())\n",
    "    print(f\"The conversion of {dec} decimal value are given below: \")\n",
    "    print(f\"Binary value is: {bin(dec)}\")\n",
    "    print(f\"Octal value is: {oct(dec)}\")\n",
    "    print(f\"Hexadecimal value is: {hex(dec)}\")\n",
    "Dec_to_other()"
   ]
  },
  {
   "cell_type": "code",
   "execution_count": null,
   "id": "d2fd7adf",
   "metadata": {},
   "outputs": [],
   "source": []
  },
  {
   "cell_type": "markdown",
   "id": "f98ef72d",
   "metadata": {},
   "source": [
    "### 4. Write a Python Program to Find the ASCII value of a Character ?"
   ]
  },
  {
   "cell_type": "code",
   "execution_count": 8,
   "id": "ab97db97",
   "metadata": {},
   "outputs": [
    {
     "name": "stdout",
     "output_type": "stream",
     "text": [
      "Enter a Character: P\n",
      "Ascii Character of P is 80\n"
     ]
    }
   ],
   "source": [
    "def char_to_ascii():\n",
    "    \n",
    "    char = input('Enter a Character: ')\n",
    "    while True:   \n",
    "        if len(char) > 1:\n",
    "            print('Please Enter a Single Character')\n",
    "            char = input('Enter a Character: ')\n",
    "        else:\n",
    "            print(f'Ascii Character of {char} is {ord(char)}')\n",
    "            break\n",
    "char_to_ascii()"
   ]
  },
  {
   "cell_type": "code",
   "execution_count": null,
   "id": "69f5932d",
   "metadata": {},
   "outputs": [],
   "source": []
  },
  {
   "cell_type": "markdown",
   "id": "93d7d66c",
   "metadata": {},
   "source": [
    "### 5. Write a Python Program to Make a Simple Calculator with 4 Basic Mathematical operations ?"
   ]
  },
  {
   "cell_type": "code",
   "execution_count": 3,
   "id": "674e3c0a",
   "metadata": {},
   "outputs": [],
   "source": [
    "class Calculator:\n",
    "    def __init__(self):\n",
    "\n",
    "        self.menu()\n",
    "    def menu(self):\n",
    "        user_input = input('''\n",
    "            1. Addition\n",
    "            2. Subtraction\n",
    "            3. Multiplication\n",
    "            4. Division\n",
    "            5. Exit\n",
    "            '''\n",
    "            )\n",
    "        if user_input == \"1\":\n",
    "            self.addition()\n",
    "        elif user_input == \"2\":\n",
    "            self.sub()\n",
    "        elif user_input == \"3\":\n",
    "            self.multiple()\n",
    "        elif user_input == \"4\":\n",
    "            self.div()\n",
    "        else:\n",
    "            print(\"Thank you for using calculator\")\n",
    "        \n",
    "        \n",
    "  \n",
    "    def addition(self,*args):\n",
    "        args = input(\"Enter number: \")\n",
    "        num_add = args.split(',')\n",
    "        num_add1 = []\n",
    "        for j in num_add:\n",
    "            num_add1.append(float(j))\n",
    "        sum = 0\n",
    "        for i in num_add1:\n",
    "            sum = sum + i\n",
    "        print(f\"Total Sum: {sum}\")\n",
    "        \n",
    "        self.menu()\n",
    "    def sub(self):\n",
    "        first_input = float(input(\"Enter first number: \"))\n",
    "        second_input = float(input(\"Enter second number: \"))\n",
    "        result = first_input - second_input\n",
    "        print(f\"Subtraction result is: {result}\")\n",
    "        \n",
    "        self.menu()\n",
    "        \n",
    "    def multiple(self,*args):\n",
    "        args = input(\"Enter number: \")\n",
    "        num_add = args.split(',')\n",
    "        num_add1 = []\n",
    "        for j in num_add:\n",
    "            num_add1.append(float(j))\n",
    "        mul = 1\n",
    "        for i in num_add1:\n",
    "            mul = mul * i\n",
    "        print(f\"Multiplication result : {mul}\")\n",
    "        \n",
    "        self.menu()\n",
    "        \n",
    "    def div(self):\n",
    "        first_input = float(input(\"Enter first number: \"))\n",
    "        second_input = float(input(\"Enter second number: \"))\n",
    "        result = first_input / second_input\n",
    "        print(f\"Division result is: {result}\")\n",
    "        \n",
    "        self.menu()"
   ]
  },
  {
   "cell_type": "code",
   "execution_count": 2,
   "id": "1d4d5669",
   "metadata": {},
   "outputs": [
    {
     "name": "stdout",
     "output_type": "stream",
     "text": [
      "\n",
      "            1. Addition\n",
      "            2. Subtraction\n",
      "            3. Multiplication\n",
      "            4. Division\n",
      "            5. Exit\n",
      "            1\n",
      "Enter number: 23,45,6,7,8\n",
      "Total Sum: 89.0\n",
      "\n",
      "            1. Addition\n",
      "            2. Subtraction\n",
      "            3. Multiplication\n",
      "            4. Division\n",
      "            5. Exit\n",
      "            5\n",
      "Thanking for using calculator\n"
     ]
    }
   ],
   "source": [
    "Basic_Cal = Calculator()"
   ]
  },
  {
   "cell_type": "code",
   "execution_count": null,
   "id": "83c30120",
   "metadata": {},
   "outputs": [],
   "source": []
  }
 ],
 "metadata": {
  "kernelspec": {
   "display_name": "Python 3 (ipykernel)",
   "language": "python",
   "name": "python3"
  },
  "language_info": {
   "codemirror_mode": {
    "name": "ipython",
    "version": 3
   },
   "file_extension": ".py",
   "mimetype": "text/x-python",
   "name": "python",
   "nbconvert_exporter": "python",
   "pygments_lexer": "ipython3",
   "version": "3.9.13"
  }
 },
 "nbformat": 4,
 "nbformat_minor": 5
}
