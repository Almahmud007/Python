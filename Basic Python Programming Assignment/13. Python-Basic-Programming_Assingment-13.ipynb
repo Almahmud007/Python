{
 "cells": [
  {
   "cell_type": "markdown",
   "id": "926ab7c6",
   "metadata": {},
   "source": [
    "### 1.Write a program that calculates and prints the value according to the given formula:   \n",
    "Q = Square root of [(2 * C * D)/H]\n",
    "Following are the fixed values of C and H:\n",
    "C is 50. H is 30.\n",
    "D is the variable whose values should be input to your program in a comma-separated sequence.\n",
    "Example: Let us assume the following comma separated input sequence is given to the program:100,150,180\n",
    "The output of the program should be: 18,22,24"
   ]
  },
  {
   "cell_type": "code",
   "execution_count": 2,
   "id": "8f494a2c",
   "metadata": {},
   "outputs": [
    {
     "name": "stdout",
     "output_type": "stream",
     "text": [
      "Enter the Input: 100,150,180\n",
      "Output: [18, 22, 24]\n"
     ]
    }
   ],
   "source": [
    "from math import sqrt\n",
    "def formula_cal():\n",
    "    in_num = eval(input(\"Enter Your Number: \"))\n",
    "    out_num = []\n",
    "    C = 50\n",
    "    H = 30\n",
    "    for ele in in_num:\n",
    "        Q = int(sqrt((2*C*ele)/H))\n",
    "        out_num.append(Q)\n",
    "    print(f'Output: {out_num}')\n",
    "formula_cal()"
   ]
  },
  {
   "cell_type": "code",
   "execution_count": null,
   "id": "aba3c24b",
   "metadata": {},
   "outputs": [],
   "source": []
  },
  {
   "cell_type": "markdown",
   "id": "9f351d23",
   "metadata": {},
   "source": [
    "### 2. Write a program which takes 2 digits, X,Y as input and generates a 2-dimensional array. The element value in the i-th row and j-th column of the array should be i*j.\n",
    "\n",
    "Note: i=0,1.., X-1; j=0,1,¡Y-1.\n",
    "    \n",
    "Example: Suppose the following inputs are given to the program: 3,5\n",
    "\n",
    "Then, the output of the program should be:[[0, 0, 0, 0, 0], [0, 1, 2, 3, 4], [0, 2, 4, 6, 8]]"
   ]
  },
  {
   "cell_type": "code",
   "execution_count": 16,
   "id": "5c9b8a8e",
   "metadata": {},
   "outputs": [
    {
     "name": "stdout",
     "output_type": "stream",
     "text": [
      "Enter the No of Rows:3\n",
      "Enter the No of Columns:5\n",
      "[[0, 0, 0, 0, 0], [0, 1, 2, 3, 4], [0, 2, 4, 6, 8]]\n"
     ]
    }
   ],
   "source": [
    "import array as arr\n",
    "def Generate_Array():\n",
    "    in_x = int(input(\"Enter the Number of Rows:\"))\n",
    "    in_y = int(input(\"Enter the Number of Columns:\")) \n",
    "    out_array = []\n",
    "    for ele in range(in_x):\n",
    "        out_array.insert(in_x,[])\n",
    "        for sub_ele in range(in_y):\n",
    "            out_array[ele].append(ele*sub_ele)\n",
    "    print(out_array)\n",
    "    \n",
    "Generate_Array()"
   ]
  },
  {
   "cell_type": "code",
   "execution_count": null,
   "id": "0c957c88",
   "metadata": {},
   "outputs": [],
   "source": []
  },
  {
   "cell_type": "markdown",
   "id": "81b5c377",
   "metadata": {},
   "source": [
    "### 3.Write a program that accepts a comma separated sequence of words as input and prints the words in a comma-separated sequence after sorting them alphabetically ?\n",
    "\n",
    "Suppose the following input is supplied to the program: without,hello,bag,world\n",
    "\n",
    "Then, the output should be: bag,hello,without,world"
   ]
  },
  {
   "cell_type": "code",
   "execution_count": 5,
   "id": "8a7e7c40",
   "metadata": {},
   "outputs": [
    {
     "name": "stdout",
     "output_type": "stream",
     "text": [
      "Enter the Input String: without,hello,bag,world\n",
      "Output: bag,hello,without,world\n"
     ]
    }
   ],
   "source": [
    "def Sort_String():\n",
    "    in_str = input(\"Enter the Input String: \")\n",
    "    out_str = ','.join(sorted(in_str.split(',')))\n",
    "    print(f'Output: {out_str}')\n",
    "    \n",
    "Sort_String()"
   ]
  },
  {
   "cell_type": "code",
   "execution_count": null,
   "id": "044ab157",
   "metadata": {},
   "outputs": [],
   "source": []
  },
  {
   "cell_type": "markdown",
   "id": "d43c9dcd",
   "metadata": {},
   "source": [
    "### 4.Write a program that accepts a sequence of whitespace separated words as input and prints the words after removing all duplicate words and sorting them alphanumerically.\n",
    "\n",
    "Suppose the following input is supplied to the program: hello world and practice makes perfect and hello world again\n",
    "\n",
    "Then, the output should be: again and hello makes perfect practice world"
   ]
  },
  {
   "cell_type": "code",
   "execution_count": 8,
   "id": "32de4ca6",
   "metadata": {},
   "outputs": [
    {
     "name": "stdout",
     "output_type": "stream",
     "text": [
      "Enter the Input String:  hello world and practice makes perfect and hello world again\n",
      "Output:  again and hello makes perfect practice world\n"
     ]
    }
   ],
   "source": [
    "def Sort_Alphabetically():\n",
    "    in_str = input(\"Enter the Input String: \")\n",
    "    out_str = ' '.join(sorted(sorted(list(set(in_str.split(\" \"))))))\n",
    "    print(f'Output: {out_str}')\n",
    "    \n",
    "Sort_Alphabetically()"
   ]
  },
  {
   "cell_type": "code",
   "execution_count": null,
   "id": "f8b29364",
   "metadata": {},
   "outputs": [],
   "source": []
  },
  {
   "cell_type": "markdown",
   "id": "17e0c3cd",
   "metadata": {},
   "source": [
    "### 5.Write a program that accepts a sentence and calculate the number of letters and digits."
   ]
  },
  {
   "cell_type": "code",
   "execution_count": 12,
   "id": "7ec312fa",
   "metadata": {},
   "outputs": [
    {
     "name": "stdout",
     "output_type": "stream",
     "text": [
      "Enter the Input String: My name is Mahmud and my phone number is 01711124221\n",
      "Number of Letters are: 32 \n",
      "Number of Digits are: 11\n"
     ]
    }
   ],
   "source": [
    "def Letter_Digit_Counter():\n",
    "    in_string = input(\"Enter the Input String: \")\n",
    "    lettersList = 'ABCDEFGHIJKLMNOPQRSTUVWXYZabcdefghijklmnopqrstuvwxyz'\n",
    "    digitsList = '0123456789'\n",
    "    letters = 0\n",
    "    digits = 0\n",
    "    for ele in in_string:\n",
    "        if ele in lettersList:\n",
    "            letters += 1\n",
    "        if ele in digitsList:\n",
    "            digits += 1\n",
    "    print(f'Number of Letters are: {letters} \\nNumber of Digits are: {digits}')\n",
    "        \n",
    "Letter_Digit_Counter()"
   ]
  },
  {
   "cell_type": "markdown",
   "id": "17ada0fc",
   "metadata": {},
   "source": [
    "### 6.A website requires the users to input username and password to register. Write a program to check the validity of password input by users.\n",
    "\n",
    "Following are the criteria for checking the password:\n",
    "\n",
    "At least 1 letter between [a-z]\n",
    "At least 1 number between [0-9]\n",
    "At least 1 letter between [A-Z]\n",
    "At least 1 character from [$#@]\n",
    "Minimum length of transaction password: 6\n",
    "Maximum length of transaction password: 12\n",
    "\n",
    "Your program should accept a sequence of comma separated passwords and will check them according to the above criteria. Passwords that match the criteria are to be printed, each separated by a comma.\n",
    "\n",
    "Example:\n",
    "If the following passwords are given as input to the program: ABd1234@1,a F1#,2w3E*,2We3345\n",
    "Then, the output of the program should be:ABd1234@1"
   ]
  },
  {
   "cell_type": "code",
   "execution_count": 29,
   "id": "1f34a9b5",
   "metadata": {},
   "outputs": [
    {
     "name": "stdout",
     "output_type": "stream",
     "text": [
      "Enter the Input String: ABd1234@1,a F1#,2w3E*,2We3345\n",
      "ABd1234@1\n"
     ]
    }
   ],
   "source": [
    "def Password_Checking():\n",
    "    in_str = input(\"Enter the Input String: \")\n",
    "    special_char = \"$#@\"\n",
    "    for ele in in_str.split(\",\"):\n",
    "        if len(ele) <= 12 and len(ele) >=6 :\n",
    "            if any(i.isupper() for i in ele):\n",
    "                if any(i.islower() for i in ele):\n",
    "                    if any(i.isdigit() for i in ele):\n",
    "                        if any(i for i in ele if i in special_char):\n",
    "                            print(ele)\n",
    "                               \n",
    "                            \n",
    "Password_Checking()"
   ]
  },
  {
   "cell_type": "code",
   "execution_count": null,
   "id": "a3014615",
   "metadata": {},
   "outputs": [],
   "source": [
    "          "
   ]
  },
  {
   "cell_type": "code",
   "execution_count": null,
   "id": "b011f8a7",
   "metadata": {},
   "outputs": [],
   "source": []
  }
 ],
 "metadata": {
  "kernelspec": {
   "display_name": "Python 3 (ipykernel)",
   "language": "python",
   "name": "python3"
  },
  "language_info": {
   "codemirror_mode": {
    "name": "ipython",
    "version": 3
   },
   "file_extension": ".py",
   "mimetype": "text/x-python",
   "name": "python",
   "nbconvert_exporter": "python",
   "pygments_lexer": "ipython3",
   "version": "3.9.13"
  }
 },
 "nbformat": 4,
 "nbformat_minor": 5
}
