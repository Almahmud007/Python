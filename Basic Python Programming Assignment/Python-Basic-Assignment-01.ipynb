{
 "cells": [
  {
   "cell_type": "markdown",
   "id": "f197e491",
   "metadata": {},
   "source": [
    "1. Write a Python program to print \"Hello Python\"?"
   ]
  },
  {
   "cell_type": "code",
   "execution_count": 1,
   "id": "804d9150",
   "metadata": {},
   "outputs": [
    {
     "name": "stdout",
     "output_type": "stream",
     "text": [
      "\"Hello Python\"\n"
     ]
    }
   ],
   "source": [
    "print('\"Hello Python\"')"
   ]
  },
  {
   "cell_type": "code",
   "execution_count": null,
   "id": "dadab865",
   "metadata": {},
   "outputs": [],
   "source": []
  },
  {
   "cell_type": "markdown",
   "id": "6844d6cb",
   "metadata": {},
   "source": [
    "2. Write a Python program to do arithmetical operations addition and division?"
   ]
  },
  {
   "cell_type": "code",
   "execution_count": 1,
   "id": "ad1ccf97",
   "metadata": {},
   "outputs": [
    {
     "name": "stdout",
     "output_type": "stream",
     "text": [
      "Value of x: 10\n",
      "Value of y:5\n",
      "Result: \n",
      "Sum of two numbers are:  15.0\n",
      "Division of two numbers are:  2.0\n"
     ]
    }
   ],
   "source": [
    "x = float(input(\"Value of x: \"))\n",
    "y = float(input(\"Value of y:\"))\n",
    "z = x + y\n",
    "a = x / y\n",
    "print(\"Result: \")\n",
    "print(f\"Sum of two numbers are:  {z}\")\n",
    "print(f\"Division of two numbers are:  {a}\")"
   ]
  },
  {
   "cell_type": "code",
   "execution_count": null,
   "id": "d571ca09",
   "metadata": {},
   "outputs": [],
   "source": []
  },
  {
   "cell_type": "markdown",
   "id": "5d5d85cd",
   "metadata": {},
   "source": [
    "3. Write a Python program to find the area of a triangle?"
   ]
  },
  {
   "cell_type": "code",
   "execution_count": 2,
   "id": "7175c8ec",
   "metadata": {},
   "outputs": [
    {
     "name": "stdout",
     "output_type": "stream",
     "text": [
      "Enter base of triangle: 5\n",
      "Enter height of triangle: 10\n",
      "The area of triangle is: 25.0\n"
     ]
    }
   ],
   "source": [
    "base = float(input(\"Enter base of triangle: \"))\n",
    "height = float(input(\"Enter height of triangle: \"))\n",
    "\n",
    "formula = 0.5*base*height\n",
    "print(f'The area of triangle is: {formula}')"
   ]
  },
  {
   "cell_type": "markdown",
   "id": "92a7cbb3",
   "metadata": {},
   "source": [
    "4. Write a Python program to swap two variables?"
   ]
  },
  {
   "cell_type": "code",
   "execution_count": 8,
   "id": "4d7d4143",
   "metadata": {},
   "outputs": [
    {
     "name": "stdout",
     "output_type": "stream",
     "text": [
      "Value of x: 5\n",
      "Value of y: 10\n",
      "Value of x after sawping: 10 \n",
      "Value of x after sawping: 5 \n"
     ]
    }
   ],
   "source": [
    "x = input(\"Value of x: \")\n",
    "y = input(\"Value of y: \")\n",
    "swap = x\n",
    "x = y\n",
    "y = swap\n",
    "print(f\"Value of x after sawping: {x} \")\n",
    "print(f\"Value of x after sawping: {y} \")"
   ]
  },
  {
   "cell_type": "code",
   "execution_count": null,
   "id": "ab035ff5",
   "metadata": {},
   "outputs": [],
   "source": []
  },
  {
   "cell_type": "markdown",
   "id": "2e91c40b",
   "metadata": {},
   "source": [
    "5. Write a Python program to generate a random number?"
   ]
  },
  {
   "cell_type": "code",
   "execution_count": 9,
   "id": "5c046060",
   "metadata": {},
   "outputs": [
    {
     "name": "stdout",
     "output_type": "stream",
     "text": [
      "29\n"
     ]
    }
   ],
   "source": [
    "import random\n",
    "\n",
    "print(random.randint(0,100))"
   ]
  },
  {
   "cell_type": "code",
   "execution_count": null,
   "id": "351b8c86",
   "metadata": {},
   "outputs": [],
   "source": []
  }
 ],
 "metadata": {
  "kernelspec": {
   "display_name": "Python 3 (ipykernel)",
   "language": "python",
   "name": "python3"
  },
  "language_info": {
   "codemirror_mode": {
    "name": "ipython",
    "version": 3
   },
   "file_extension": ".py",
   "mimetype": "text/x-python",
   "name": "python",
   "nbconvert_exporter": "python",
   "pygments_lexer": "ipython3",
   "version": "3.9.12"
  }
 },
 "nbformat": 4,
 "nbformat_minor": 5
}
