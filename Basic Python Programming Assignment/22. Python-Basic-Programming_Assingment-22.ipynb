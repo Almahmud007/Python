{
 "cells": [
  {
   "cell_type": "markdown",
   "id": "82355852",
   "metadata": {},
   "source": [
    "### 1.Create a function that takes three parameters where:\n",
    "<ul>\n",
    "<li>x is the start of the range (inclusive).<br></li>\n",
    "<li>y is the end of the range (inclusive).<br></li>\n",
    "<li>n is the divisor to be checked against.<br></li>\n",
    "</ul>\n",
    "\n",
    "Return an ordered list with numbers in the range that are divisible by the third parameter n. Return an empty list if there are no numbers that are divisible by n. <b>Examples:</b><br>\n",
    "list_operation(1, 10, 3) ➞ [3, 6, 9]<br>\n",
    "list_operation(7, 9, 2) ➞ [8]<br>\n",
    "list_operation(15, 20, 7) ➞ []"
   ]
  },
  {
   "cell_type": "code",
   "execution_count": 3,
   "id": "07e3f3ea",
   "metadata": {},
   "outputs": [
    {
     "name": "stdout",
     "output_type": "stream",
     "text": [
      "Result: ➞ [3, 6, 9]\n",
      "Result: ➞ [8]\n",
      "Result: ➞ []\n"
     ]
    }
   ],
   "source": [
    "def list_operation(x,y,n):\n",
    "    list_1 = []\n",
    "    for i in range(x,y+1):\n",
    "        if i%n == 0:\n",
    "            list_1.append(i)\n",
    "    print(f'Result: ➞ {list_1}')\n",
    "\n",
    "list_operation(1, 10, 3)\n",
    "list_operation(7, 9, 2)\n",
    "list_operation(15, 20, 7)"
   ]
  },
  {
   "cell_type": "code",
   "execution_count": null,
   "id": "b8f2e9d6",
   "metadata": {},
   "outputs": [],
   "source": []
  },
  {
   "cell_type": "markdown",
   "id": "ca3d8d6a",
   "metadata": {},
   "source": [
    "### 2.Create a function that takes in two lists and returns True if the second list follows the first list by one element, and False otherwise. In other words, determine if the second list is the first list shifted to the right by 1.\n",
    "<b>Examples:</b><br>\n",
    "simon_says([1, 2], [5, 1]) ➞ True<br>\n",
    "simon_says([1, 2], [5, 5]) ➞ False<br>\n",
    "simon_says([1, 2, 3, 4, 5], [0, 1, 2, 3, 4]) ➞ True<br>\n",
    "simon_says([1, 2, 3, 4, 5], [5, 5, 1, 2, 3]) ➞ False<br>\n",
    "\n",
    "<b>Notes:</b><br>\n",
    "<ul>\n",
    "<li>Both input lists will be of the same length, and will have a minimum length of 2.<br></li>\n",
    "<li>The values of the 0-indexed element in the second list and the n-1th indexed element in the first list do not matter.<br></li>\n",
    "</ul>"
   ]
  },
  {
   "cell_type": "code",
   "execution_count": 4,
   "id": "94a2a945",
   "metadata": {},
   "outputs": [
    {
     "name": "stdout",
     "output_type": "stream",
     "text": [
      "([1, 2], [5, 1]) ➞ True\n",
      "([1, 2], [5, 5]) ➞ False\n",
      "([1, 2, 3, 4, 5], [0, 1, 2, 3, 4]) ➞ True\n",
      "([1, 2, 3, 4, 5], [5, 5, 1, 2, 3]) ➞ False\n"
     ]
    }
   ],
   "source": [
    "def simon_says(list_1,list_2):\n",
    "    if len(list_1) == len(list_1) and len(list_1) >=2 and len(list_1) >=2:\n",
    "        if(list_1[:-1] == list_2[1:]):\n",
    "            print(f'{list_1,list_2} ➞ {True}')\n",
    "        else:\n",
    "            print(f'{list_1,list_2} ➞ {False}')\n",
    "            \n",
    "simon_says([1, 2], [5, 1])\n",
    "simon_says([1, 2], [5, 5])\n",
    "simon_says([1, 2, 3, 4, 5], [0, 1, 2, 3, 4])\n",
    "simon_says([1, 2, 3, 4, 5], [5, 5, 1, 2, 3])"
   ]
  },
  {
   "cell_type": "code",
   "execution_count": null,
   "id": "461876ad",
   "metadata": {},
   "outputs": [],
   "source": []
  },
  {
   "cell_type": "markdown",
   "id": "d921bd28",
   "metadata": {},
   "source": [
    "### 3.A group of friends have decided to start a secret society. The name will be the first letter of each of their names, sorted in a alphabetical order ? \n",
    "<b>Create a function that takes in a list of names and returns the name of the secret society ?</b>\n",
    "\n",
    "<b>Examples:</b><br>\n",
    "society_name([\"Adam\", \"Sarah\", \"Malcolm\"]) ➞ \"AMS\"<br>\n",
    "society_name([\"Harry\", \"Newt\", \"Luna\", \"Cho\"]) ➞ \"CHLN\"<br>\n",
    "society_name([\"Phoebe\", \"Chandler\", \"Rachel\", \"Ross\", \"Monica\", \"Joey\"])"
   ]
  },
  {
   "cell_type": "code",
   "execution_count": 5,
   "id": "94e1e3a5",
   "metadata": {},
   "outputs": [
    {
     "name": "stdout",
     "output_type": "stream",
     "text": [
      "['Adam', 'Sarah', 'Malcolm'] ➞ AMS\n",
      "['Harry', 'Newt', 'Luna', 'Cho'] ➞ CHLN\n",
      "['Phoebe', 'Chandler', 'Rachel', 'Ross', 'Monica', 'Joey'] ➞ CJMPRR\n"
     ]
    }
   ],
   "source": [
    "def society_name(list_1):\n",
    "    string = []\n",
    "    for i in list_1:\n",
    "        string.append(i[0])\n",
    "    result = ''.join(sorted(string))\n",
    "    print(f'{list_1} ➞ {result}')\n",
    "\n",
    "society_name([\"Adam\", \"Sarah\", \"Malcolm\"])\n",
    "society_name([\"Harry\", \"Newt\", \"Luna\", \"Cho\"])\n",
    "society_name([\"Phoebe\", \"Chandler\", \"Rachel\", \"Ross\", \"Monica\", \"Joey\"])"
   ]
  },
  {
   "cell_type": "code",
   "execution_count": null,
   "id": "7d265692",
   "metadata": {},
   "outputs": [],
   "source": []
  },
  {
   "cell_type": "markdown",
   "id": "c16b0684",
   "metadata": {},
   "source": [
    "### 4.An isogram is a word that has no duplicate letters. Create a function that takes a string and returns either True or False depending on whether or not it's an \"isogram\".\n",
    "<b>Examples:</b><br>\n",
    "is_isogram(\"Algorism\") ➞ True<br>\n",
    "is_isogram(\"PasSword\") ➞ False<br>\n",
    "#Not case sensitive.<br>\n",
    "is_isogram(\"Consecutive\") ➞ False<br>\n",
    "\n",
    "<b>Notes:</b></br>\n",
    "Ignore letter case (should not be case sensitive).<br>\n",
    "All test cases contain valid one word strings."
   ]
  },
  {
   "cell_type": "code",
   "execution_count": 6,
   "id": "b4bb3a9a",
   "metadata": {},
   "outputs": [
    {
     "name": "stdout",
     "output_type": "stream",
     "text": [
      "Algorism ➞ True\n",
      "PasSword ➞ False\n",
      "Consecutive ➞ False\n"
     ]
    }
   ],
   "source": [
    "def is_isogram(string_1):\n",
    "    string_2 = string_1.lower()\n",
    "    if len(string_2) == len(set(string_2)):\n",
    "        print(f'{string_1} ➞ {True}')\n",
    "    else:\n",
    "        print(f'{string_1} ➞ {False}')\n",
    "    \n",
    "is_isogram(\"Algorism\")\n",
    "is_isogram(\"PasSword\")\n",
    "is_isogram(\"Consecutive\")"
   ]
  },
  {
   "cell_type": "code",
   "execution_count": null,
   "id": "82f0ddc1",
   "metadata": {},
   "outputs": [],
   "source": []
  },
  {
   "cell_type": "markdown",
   "id": "26c1c0fc",
   "metadata": {},
   "source": [
    "### 5.Create a function that takes a string and returns True or False, depending on whether the characters are in order or not ?\n",
    "<b>Examples:</b><br>\n",
    "is_in_order(\"abc\") ➞ True<br>\n",
    "is_in_order(\"edabit\") ➞ False<br>\n",
    "is_in_order(\"123\") ➞ True<br>\n",
    "is_in_order(\"xyzz\") ➞ True<br>\n",
    "\n",
    "<b>Notes:</b><br>\n",
    "You don't have to handle empty strings."
   ]
  },
  {
   "cell_type": "code",
   "execution_count": 8,
   "id": "353c75df",
   "metadata": {},
   "outputs": [
    {
     "name": "stdout",
     "output_type": "stream",
     "text": [
      "abc ➞ True\n",
      "edabit ➞ False\n",
      "123 ➞ True\n",
      "xyzz ➞ True\n"
     ]
    }
   ],
   "source": [
    "def is_in_order(string_1):\n",
    "    sort_string = ''.join(sorted(string_1))\n",
    "    if string_1 == sort_string:\n",
    "        print(f'{string_1} ➞ {True}')\n",
    "    else:\n",
    "       print(f'{string_1} ➞ {False}')\n",
    "\n",
    "is_in_order(\"abc\")\n",
    "is_in_order(\"edabit\")\n",
    "is_in_order(\"123\")\n",
    "is_in_order(\"xyzz\")"
   ]
  },
  {
   "cell_type": "code",
   "execution_count": null,
   "id": "bf52b28e",
   "metadata": {},
   "outputs": [],
   "source": []
  },
  {
   "cell_type": "code",
   "execution_count": null,
   "id": "a61935a3",
   "metadata": {},
   "outputs": [],
   "source": []
  }
 ],
 "metadata": {
  "kernelspec": {
   "display_name": "Python 3 (ipykernel)",
   "language": "python",
   "name": "python3"
  },
  "language_info": {
   "codemirror_mode": {
    "name": "ipython",
    "version": 3
   },
   "file_extension": ".py",
   "mimetype": "text/x-python",
   "name": "python",
   "nbconvert_exporter": "python",
   "pygments_lexer": "ipython3",
   "version": "3.9.13"
  }
 },
 "nbformat": 4,
 "nbformat_minor": 5
}
