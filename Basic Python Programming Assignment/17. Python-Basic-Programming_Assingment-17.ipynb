{
 "cells": [
  {
   "cell_type": "markdown",
   "id": "73f49f63",
   "metadata": {},
   "source": [
    "### 1.Create a function that takes three arguments a, b, c and returns the sum of the numbers that are evenly divided by c from the range a, b inclusive ? <br>\n",
    "<b>Examples:</b> <br><br>\n",
    "evenly_divisible(1, 10, 20) ➞ 0<br>\n",
    "#No number between 1 and 10 can be evenly divided by 20.\n",
    "\n",
    "evenly_divisible(1, 10, 2) ➞ 30<br>\n",
    "#2 + 4 + 6 + 8 + 10 = 30\n",
    "\n",
    "evenly_divisible(1, 10, 3) ➞ 18<br>\n",
    "#3 + 6 + 9 = 18"
   ]
  },
  {
   "cell_type": "code",
   "execution_count": 1,
   "id": "fb6f080f",
   "metadata": {},
   "outputs": [
    {
     "name": "stdout",
     "output_type": "stream",
     "text": [
      "(1, 10, 20) ➞ 0\n",
      "(1, 10, 2) ➞ 30\n",
      "(1, 10, 3) ➞ 18\n"
     ]
    }
   ],
   "source": [
    "def Evenly_divisible(a,b,c):\n",
    "    list1 = []\n",
    "    for num in range(a,b+1):\n",
    "        if num%c == 0:\n",
    "            list1.append(num)\n",
    "    print(f'{a,b,c} ➞ {sum(list1)}')\n",
    "\n",
    "Evenly_divisible(1,10,20)\n",
    "Evenly_divisible(1,10,2)\n",
    "Evenly_divisible(1,10,3)"
   ]
  },
  {
   "cell_type": "code",
   "execution_count": null,
   "id": "d6851204",
   "metadata": {},
   "outputs": [],
   "source": []
  },
  {
   "cell_type": "markdown",
   "id": "6d44d825",
   "metadata": {},
   "source": [
    "### 2.Create a function that returns True if a given inequality expression is correct and False otherwise ?\n",
    "<b>Examples:</b> <br>\n",
    "correct_signs(\"3 < 7 < 11\") ➞ True<br>\n",
    "correct_signs(\"13 > 44 > 33 > 1\") ➞ False<br>\n",
    "correct_signs(\"1 < 2 < 6 < 9 > 3\") ➞ True"
   ]
  },
  {
   "cell_type": "code",
   "execution_count": 6,
   "id": "22482e2f",
   "metadata": {},
   "outputs": [
    {
     "name": "stdout",
     "output_type": "stream",
     "text": [
      "Enter the inequality numbers: 3 < 7 < 11\n",
      "3 < 7 < 11 ➞ True\n",
      "Enter the inequality numbers: 13 > 44 > 33 > 1\n",
      "13 > 44 > 33 > 1 ➞ False\n"
     ]
    }
   ],
   "source": [
    "def In_Equality_Check():\n",
    "    in_str = input('Enter the inequality numbers: ')\n",
    "    result = eval(in_str)\n",
    "    print(f'{in_str} ➞ {result}')\n",
    "\n",
    "In_Equality_Check()\n",
    "In_Equality_Check()"
   ]
  },
  {
   "cell_type": "code",
   "execution_count": null,
   "id": "7e02ff36",
   "metadata": {},
   "outputs": [],
   "source": []
  },
  {
   "cell_type": "markdown",
   "id": "af6f1bfa",
   "metadata": {},
   "source": [
    "### 3.Create a function that replaces all the vowels in a string with a specified character ?\n",
    "<b>Examples:</b> <br>\n",
    "replace_vowels(\"the aardvark\", \"#\") ➞ \"th# ##rdv#rk\"<br>\n",
    "replace_vowels(\"minnie mouse\", \"?\") ➞ \"m?nn?? m??s?\"<br>\n",
    "replace_vowels(\"shakespeare\", \"*\") ➞ \"shksp**r\""
   ]
  },
  {
   "cell_type": "code",
   "execution_count": 13,
   "id": "926fb2da",
   "metadata": {},
   "outputs": [
    {
     "name": "stdout",
     "output_type": "stream",
     "text": [
      "String: the aardvark\n",
      "Replacement character: @\n",
      "the aardvark @ ➞ th@ @@rdv@rk\n",
      "All vowels of \"the aardvark\" is replaced by @ and the output is \"th@ @@rdv@rk\"\n"
     ]
    }
   ],
   "source": [
    "def replace_vowels():\n",
    "    vowels = ['a','e','i','o','u','A','E','I','O','U']\n",
    "    in_str = input(\"String: \")\n",
    "    in_str2 = in_str\n",
    "    char = input('Replacement character: ')\n",
    "    for i in in_str:\n",
    "        if i in vowels:\n",
    "            in_str = in_str.replace(i,char)\n",
    "    print(f'{in_str2} {char} ➞ {in_str}')\n",
    "    print(f'All vowels of \"{in_str2}\" is replaced by {char} and the output is \"{in_str}\"')\n",
    "            \n",
    "\n",
    "replace_vowels()"
   ]
  },
  {
   "cell_type": "code",
   "execution_count": null,
   "id": "b03f4caa",
   "metadata": {},
   "outputs": [],
   "source": []
  },
  {
   "cell_type": "markdown",
   "id": "1dd545de",
   "metadata": {},
   "source": [
    "### 4.Write a function that calculates the factorial of a number recursively ?\n",
    "<b>Examples:</b> <br>\n",
    "factorial(5) ➞ 120<br>\n",
    "factorial(3) ➞ 6<br>\n",
    "factorial(1) ➞ 1<br>\n",
    "factorial(0) ➞ 1"
   ]
  },
  {
   "cell_type": "code",
   "execution_count": 5,
   "id": "427886d0",
   "metadata": {},
   "outputs": [
    {
     "name": "stdout",
     "output_type": "stream",
     "text": [
      "factorial(5) ➞ 120\n",
      "factorial(3) ➞ 6\n",
      "factorial(1) ➞ 1\n",
      "factorial(0) ➞ 1\n"
     ]
    }
   ],
   "source": [
    "def factorial(n):\n",
    "    if n==0:\n",
    "        return 1\n",
    "    return n * factorial(n-1)\n",
    "\n",
    "print(f'factorial(5) ➞ {factorial(5)}')\n",
    "print(f'factorial(3) ➞ {factorial(3)}')\n",
    "print(f'factorial(1) ➞ {factorial(1)}')\n",
    "print(f'factorial(0) ➞ {factorial(0)}')"
   ]
  },
  {
   "cell_type": "code",
   "execution_count": null,
   "id": "93bb1146",
   "metadata": {},
   "outputs": [],
   "source": []
  },
  {
   "cell_type": "markdown",
   "id": "cd5249ae",
   "metadata": {},
   "source": [
    "### 5.Hamming distance is the number of characters that differ between two strings ?\n",
    "To illustrate:<br><br>\n",
    "String1: \"abcbba\"<br>\n",
    "String2: \"abcbda\"<br><br>\n",
    "Hamming Distance: 1 - \"b\" vs. \"d\" is the only difference.<br><br>\n",
    "Create a function that computes the hamming distance between two strings.<br><br>\n",
    "<b>Examples:</b> <br><br>\n",
    "hamming_distance(\"abcde\", \"bcdef\") ➞ 5<br>\n",
    "hamming_distance(\"abcde\", \"abcde\") ➞ 0<br>\n",
    "hamming_distance(\"strong\", \"strung\") ➞ 1"
   ]
  },
  {
   "cell_type": "code",
   "execution_count": 16,
   "id": "331947d5",
   "metadata": {},
   "outputs": [
    {
     "name": "stdout",
     "output_type": "stream",
     "text": [
      "Enter First String: abcde\n",
      "Enter Second String: bcdef\n",
      "Hamning Distance between abcde and bcdef is 5\n"
     ]
    }
   ],
   "source": [
    "def Hamming_Distance():\n",
    "    str1 = input('Enter First String: ')\n",
    "    str2 = input('Enter Second String: ')\n",
    "    if len(str1) == len(str2):\n",
    "        count = 0\n",
    "        for i in range(len(str1)):\n",
    "            if str1[i] != str2[i]:\n",
    "                count = count+1\n",
    "        print(f'Hamning Distance between {str1} and {str2} is {count}')\n",
    "    else:\n",
    "        print('Both Strings Must be of Same Length')\n",
    "\n",
    "\n",
    "Hamming_Distance()"
   ]
  },
  {
   "cell_type": "code",
   "execution_count": null,
   "id": "0d5d4fbd",
   "metadata": {},
   "outputs": [],
   "source": []
  }
 ],
 "metadata": {
  "kernelspec": {
   "display_name": "Python 3 (ipykernel)",
   "language": "python",
   "name": "python3"
  },
  "language_info": {
   "codemirror_mode": {
    "name": "ipython",
    "version": 3
   },
   "file_extension": ".py",
   "mimetype": "text/x-python",
   "name": "python",
   "nbconvert_exporter": "python",
   "pygments_lexer": "ipython3",
   "version": "3.9.13"
  }
 },
 "nbformat": 4,
 "nbformat_minor": 5
}
