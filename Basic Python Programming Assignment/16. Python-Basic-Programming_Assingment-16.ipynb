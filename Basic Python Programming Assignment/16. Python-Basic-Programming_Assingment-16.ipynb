{
 "cells": [
  {
   "cell_type": "markdown",
   "id": "168a5d39",
   "metadata": {},
   "source": [
    "### 1.Write a function that stutters a word as if someone is struggling to read it. The first two letters are repeated twice with an ellipsis ... and space after each, and then the word is pronounced with a question mark ?\n",
    "<b>Examples: </b> stutter(\"incredible\") ➞ \"in... in... incredible?\" <br>\n",
    "stutter(\"enthusiastic\") ➞ \"en... en... enthusiastic?\"<br>\n",
    "stutter(\"outstanding\") ➞ \"ou... ou... outstanding?\"<br>\n",
    "\n",
    "Hint :- Assume all input is in lower case and at least two characters long."
   ]
  },
  {
   "cell_type": "code",
   "execution_count": 19,
   "id": "29bca49c",
   "metadata": {},
   "outputs": [
    {
     "name": "stdout",
     "output_type": "stream",
     "text": [
      "Enter the Word :Mahmud\n",
      "Mahmud ➞ Ma... Ma... Mahmud?\n"
     ]
    }
   ],
   "source": [
    "def Stuttering():\n",
    "    in_word = input('Enter the Word :')\n",
    "    out_word = in_word.replace(in_word[0:2],(in_word[0:2]+'... ')+ (in_word[0:2]+'... ') + in_word[0:2])  +'?'\n",
    "    print(f'{in_word} ➞ {out_word}')\n",
    "\n",
    "Stuttering()"
   ]
  },
  {
   "cell_type": "code",
   "execution_count": null,
   "id": "62cea3f7",
   "metadata": {},
   "outputs": [],
   "source": []
  },
  {
   "cell_type": "markdown",
   "id": "a4519e47",
   "metadata": {},
   "source": [
    "### 2..Create a function that takes an angle in radians and returns the corresponding angle in degrees rounded to one decimal place ?\n",
    "<b>Examples: </b> radians_to_degrees(1) ➞ 57.3 <br>\n",
    "radians_to_degrees(20) ➞ 1145.9 <br>\n",
    "radians_to_degrees(50) ➞ 2864.8"
   ]
  },
  {
   "cell_type": "code",
   "execution_count": 26,
   "id": "d181db46",
   "metadata": {},
   "outputs": [
    {
     "name": "stdout",
     "output_type": "stream",
     "text": [
      "Enter the angle in Radians: 25\n",
      "25 radian(s) ➞ 1432.4 degrees\n"
     ]
    }
   ],
   "source": [
    "import math\n",
    "def RadiantoDegree():\n",
    "    in_num = int(input('Enter the angle in Radians: '))\n",
    "    out_num = (180/math.pi)*in_num\n",
    "    print(f'{in_num} radian(s) ➞ {out_num:.1f} degrees')\n",
    "\n",
    "RadiantoDegree()"
   ]
  },
  {
   "cell_type": "code",
   "execution_count": null,
   "id": "777a410e",
   "metadata": {},
   "outputs": [],
   "source": []
  },
  {
   "cell_type": "markdown",
   "id": "7bd8bb7e",
   "metadata": {},
   "source": [
    "### 3.In this challenge, establish if a given integer num is a Curzon number. If 1 plus 2 elevated to num is exactly divisible by 1 plus 2 multiplied by num, then num is a Curzon number. Given a non-negative integer num, implement a function that returns True if num is a Curzon number, or False otherwise.\n",
    "\n",
    "<b>Examples:</b><br><br> is_curzon(5) ➞ True<br> # 2 ** 5 + 1 = 33<br> # 2 * 5 + 1 = 11 <br># 33 is a multiple of 11 <br><br>is_curzon(10) ➞ False <br># 2 ** 10 + 1 = 1025 <br># 2 * 10 + 1 = 21 <br># 1025 is not a multiple of 21 <br><br>is_curzon(14) ➞ True <br># 2 ** 14 + 1 = 16385 <br># 2 * 14 + 1 = 29 <br># 16385 is a multiple of 29"
   ]
  },
  {
   "cell_type": "code",
   "execution_count": 22,
   "id": "bc0a7b5a",
   "metadata": {},
   "outputs": [
    {
     "name": "stdout",
     "output_type": "stream",
     "text": [
      "Enter a number: 5\n",
      "5 is a Curzon Number\n"
     ]
    }
   ],
   "source": [
    "def Curzon_number():\n",
    "    in_num = int(input(\"Enter a number: \"))\n",
    "    if (pow(2,in_num)+1)%((2*in_num)+1) == 0:\n",
    "        print(f'{in_num} is a Curzon Number')\n",
    "    else:\n",
    "        print(f'{in_num} is Not a Curzon Number')\n",
    "\n",
    "Curzon_number()"
   ]
  },
  {
   "cell_type": "code",
   "execution_count": null,
   "id": "281fa99c",
   "metadata": {},
   "outputs": [],
   "source": []
  },
  {
   "attachments": {},
   "cell_type": "markdown",
   "id": "3a66923f",
   "metadata": {},
   "source": [
    "### 4.Given the side length x find the area of a hexagon ?\n",
    "\n",
    "<img src=\"https://encrypted-tbn2.gstatic.com/images?q=tbn:ANd9GcQQX8GKZW5KSp9GmWdn18xWBu4Acz_N7_IeH6p1jGEzkHg4GMNL\" alt=\"hexagon pic\">\n",
    "\n",
    "<b>Examples:</b> area_of_hexagon(1) ➞ 2.6 <br>\n",
    "area_of_hexagon(2) ➞ 10.4 <br>\n",
    "area_of_hexagon(3) ➞ 23.4\n"
   ]
  },
  {
   "cell_type": "code",
   "execution_count": 24,
   "id": "3b577f59",
   "metadata": {},
   "outputs": [
    {
     "name": "stdout",
     "output_type": "stream",
     "text": [
      "Enter the side length of a Hexagon: 3\n",
      "Area of Hexagon is 3 ➞ 23.4\n"
     ]
    }
   ],
   "source": [
    "import math\n",
    "def Area_Hexagon():\n",
    "    in_num = int(input('Enter the side length of a Hexagon: '))\n",
    "    out_num = ((3*math.sqrt(3))/2)*(pow(in_num,2))\n",
    "    print(f'Area of Hexagon is {in_num} ➞ {out_num:.1f}')\n",
    "    \n",
    "Area_Hexagon()"
   ]
  },
  {
   "cell_type": "code",
   "execution_count": null,
   "id": "00878e28",
   "metadata": {},
   "outputs": [],
   "source": []
  },
  {
   "cell_type": "markdown",
   "id": "25d84f63",
   "metadata": {},
   "source": [
    "### 5.Create a function that returns a base-2 (binary) representation of a base-10 (decimal) string number. To convert is simple:\n",
    "((2) means base-2 and (10) means base-10) <br>\n",
    "010101001(2) = 1 + 8 + 32 + 128. <br>\n",
    "Going from right to left, the value of the most right bit is 1, now from that every bit to the left will be x2 the value, value of an 8 bit binary numbers are (256, 128, 64, 32, 16, 8, 4, 2, 1). <br>\n",
    "<b>Examples:</b> <br><br>\n",
    "binary(1) ➞ \"1\" <br># 1* 1 = 1 <br><br>binary(5) ➞ \"101\" <br># 1 1 + 1 4 = 5 <br><br>binary(10) ➞ \"1010\" <br># 1 2 + 1 8 = 10"
   ]
  },
  {
   "cell_type": "code",
   "execution_count": 25,
   "id": "085d17c5",
   "metadata": {},
   "outputs": [
    {
     "name": "stdout",
     "output_type": "stream",
     "text": [
      "Enter a Number: 25\n",
      "Binary of 25 is 11001\n"
     ]
    }
   ],
   "source": [
    "def Binary():\n",
    "    in_num = int(input(\"Enter a Number: \"))\n",
    "    out_num = bin(in_num).replace('0b','') \n",
    "    print(f'Binary of {in_num} is {out_num}')\n",
    "\n",
    "Binary()"
   ]
  },
  {
   "cell_type": "code",
   "execution_count": null,
   "id": "f7cae68e",
   "metadata": {},
   "outputs": [],
   "source": []
  }
 ],
 "metadata": {
  "kernelspec": {
   "display_name": "Python 3 (ipykernel)",
   "language": "python",
   "name": "python3"
  },
  "language_info": {
   "codemirror_mode": {
    "name": "ipython",
    "version": 3
   },
   "file_extension": ".py",
   "mimetype": "text/x-python",
   "name": "python",
   "nbconvert_exporter": "python",
   "pygments_lexer": "ipython3",
   "version": "3.9.13"
  }
 },
 "nbformat": 4,
 "nbformat_minor": 5
}
