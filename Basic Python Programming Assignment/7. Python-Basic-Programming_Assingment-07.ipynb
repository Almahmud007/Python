{
 "cells": [
  {
   "cell_type": "markdown",
   "id": "28dff583",
   "metadata": {},
   "source": [
    "### 1. Write a Python Program to find sum of Array ?"
   ]
  },
  {
   "cell_type": "code",
   "execution_count": 8,
   "id": "19cd9127",
   "metadata": {},
   "outputs": [
    {
     "name": "stdout",
     "output_type": "stream",
     "text": [
      "Enter a list: 2,3,4\n",
      "Sum of the array is: 9\n"
     ]
    }
   ],
   "source": [
    "def sum_array():\n",
    "    in_array = input(\"Enter a list: \")\n",
    "    list1 = [int(x) for x in in_array.split(',')]\n",
    "    result = 0\n",
    "    for i in list1:\n",
    "        result += i\n",
    "    print(f\"Sum of the array is: {result}\")\n",
    "sum_array()"
   ]
  },
  {
   "cell_type": "code",
   "execution_count": null,
   "id": "66d2effb",
   "metadata": {},
   "outputs": [],
   "source": []
  },
  {
   "cell_type": "markdown",
   "id": "44bdbf88",
   "metadata": {},
   "source": [
    "### 2. Write a Python Program to find Largest element in an Array ?"
   ]
  },
  {
   "cell_type": "code",
   "execution_count": 11,
   "id": "405e1fb6",
   "metadata": {},
   "outputs": [
    {
     "name": "stdout",
     "output_type": "stream",
     "text": [
      "Enter an array: 34,3,4,56,7,8\n",
      "Largest value of the given array: 56\n"
     ]
    }
   ],
   "source": [
    "def large_number():\n",
    "    user_input = input(\"Enter an array: \")\n",
    "    b = user_input.split(',')\n",
    "    a = []\n",
    "    for j in b:\n",
    "        a.append(int(j))\n",
    "    great = a[0]\n",
    "    for i in range(1,len(a)):\n",
    "        if a[i] > great:\n",
    "            great = a[i]\n",
    "    print(f\"Largest value of the given array: {great}\")\n",
    "large_number()"
   ]
  },
  {
   "cell_type": "code",
   "execution_count": null,
   "id": "18cb4f41",
   "metadata": {},
   "outputs": [],
   "source": []
  },
  {
   "cell_type": "markdown",
   "id": "1cf5d501",
   "metadata": {},
   "source": [
    "### 3. Write a Python Program for array rotation ?"
   ]
  },
  {
   "cell_type": "code",
   "execution_count": 19,
   "id": "dd6e13b0",
   "metadata": {},
   "outputs": [
    {
     "name": "stdout",
     "output_type": "stream",
     "text": [
      "Enter the Array: 2,3,4,5\n",
      "Rotated Array of (2, 3, 4, 5) is (5, 4, 3, 2)\n"
     ]
    }
   ],
   "source": [
    "def array_rotate():\n",
    "    in_array = eval(input(\"Enter the Array: \"))\n",
    "    print(f\"Rotated Array of {in_array} is {in_array[::-1]}\")\n",
    "\n",
    "array_rotate()"
   ]
  },
  {
   "cell_type": "code",
   "execution_count": null,
   "id": "570a9175",
   "metadata": {},
   "outputs": [],
   "source": []
  },
  {
   "cell_type": "markdown",
   "id": "7aebccb3",
   "metadata": {},
   "source": [
    "### 4. Write a Python Program to Split the array and add the first part to the end ?"
   ]
  },
  {
   "cell_type": "code",
   "execution_count": 29,
   "id": "ea1ff195",
   "metadata": {},
   "outputs": [
    {
     "name": "stdout",
     "output_type": "stream",
     "text": [
      "Enter an array: 2,3,4,5,6,7,8\n",
      "Enter rotation position: 3\n",
      "[5, 6, 7, 8, 2, 3, 4]\n"
     ]
    }
   ],
   "source": [
    "def split_and_add(arr, n):\n",
    "    part1 = arr[:n]\n",
    "    part2 = arr[n:]\n",
    "    \n",
    "    new_arr = part2 + part1\n",
    "\n",
    "    return new_arr\n",
    "\n",
    "in_array = input(\"Enter an array: \")\n",
    "arr = [int(x) for x in in_array.split(',')]\n",
    "n = int(input(\"Enter rotation position: \"))\n",
    "new_arr = split_and_add(arr, n)\n",
    "print(new_arr)"
   ]
  },
  {
   "cell_type": "code",
   "execution_count": null,
   "id": "9f93a50d",
   "metadata": {},
   "outputs": [],
   "source": []
  },
  {
   "cell_type": "markdown",
   "id": "32aac188",
   "metadata": {},
   "source": [
    "### 5. Write a Python Program to check if given array is Monotonic ?"
   ]
  },
  {
   "cell_type": "code",
   "execution_count": 43,
   "id": "ef1d61a5",
   "metadata": {},
   "outputs": [
    {
     "name": "stdout",
     "output_type": "stream",
     "text": [
      "Enter an array: 3,2,4,5,6\n",
      "The array is not Monotonic\n"
     ]
    }
   ],
   "source": [
    "def is_monotonic():\n",
    "    in_array = input(\"Enter an array: \")\n",
    "    arr = [int(x) for x in in_array.split(',')]\n",
    "    increasing = True\n",
    "    decreasing = True\n",
    "    \n",
    "    for i in range(1, len(arr)):\n",
    "        if arr[i] < arr[i - 1]:\n",
    "            increasing = False\n",
    "            break\n",
    "            \n",
    "    for i in range(1, len(arr)):\n",
    "        if arr[i] > arr[i - 1]:\n",
    "            decreasing = False\n",
    "            break\n",
    "    if increasing or decreasing == True:\n",
    "        print(\"The array is Monotonic\")\n",
    "    else:\n",
    "        print(\"The array is not Monotonic\")\n",
    "is_monotonic()"
   ]
  },
  {
   "cell_type": "code",
   "execution_count": null,
   "id": "0626f698",
   "metadata": {},
   "outputs": [],
   "source": []
  },
  {
   "cell_type": "code",
   "execution_count": null,
   "id": "516f9af9",
   "metadata": {},
   "outputs": [],
   "source": []
  }
 ],
 "metadata": {
  "kernelspec": {
   "display_name": "Python 3 (ipykernel)",
   "language": "python",
   "name": "python3"
  },
  "language_info": {
   "codemirror_mode": {
    "name": "ipython",
    "version": 3
   },
   "file_extension": ".py",
   "mimetype": "text/x-python",
   "name": "python",
   "nbconvert_exporter": "python",
   "pygments_lexer": "ipython3",
   "version": "3.9.13"
  }
 },
 "nbformat": 4,
 "nbformat_minor": 5
}
