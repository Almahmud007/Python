{
 "cells": [
  {
   "cell_type": "markdown",
   "id": "f397caa5",
   "metadata": {},
   "source": [
    "### 1.Create a function that takes a list of non-negative integers and strings and return a new list without the strings ?\n",
    "<b>Examples: </b> <br>\n",
    "filter_list([1, 2, \"a\", \"b\"]) ➞ [1, 2] <br>\n",
    "filter_list([1, \"a\", \"b\", 0, 15]) ➞ [1, 0, 15] <br>\n",
    "filter_list([1, 2, \"aasf\", \"1\", \"123\", 123]) ➞ [1, 2, 123]"
   ]
  },
  {
   "cell_type": "code",
   "execution_count": 12,
   "id": "205b59b1",
   "metadata": {},
   "outputs": [
    {
     "name": "stdout",
     "output_type": "stream",
     "text": [
      "➞ [1, 2]\n",
      "➞ [1, 0, 15]\n",
      "➞ [1, 2, 123]\n"
     ]
    }
   ],
   "source": [
    "def List_Filtering(list):\n",
    "    string = []\n",
    "    for i in list:\n",
    "        if type(i) == int and i >= 0:\n",
    "            string.append(i)\n",
    "    return string\n",
    "            \n",
    "print(f'➞ {List_Filtering([1, 2, \"a\", \"b\"])}')\n",
    "print(f'➞ {List_Filtering([1, \"a\", \"b\", 0, 15])}')\n",
    "print(f'➞ {List_Filtering([1, 2, \"aasf\", \"1\", \"123\", 123])}')"
   ]
  },
  {
   "cell_type": "code",
   "execution_count": null,
   "id": "a234d0e4",
   "metadata": {},
   "outputs": [],
   "source": []
  },
  {
   "cell_type": "markdown",
   "id": "9e5b150d",
   "metadata": {},
   "source": [
    "### 2. The \"Reverser\" takes a string as input and returns that string in reverse order, with the opposite case ?\n",
    "<b>Examples: </b> <br>\n",
    "reverse(\"Hello World\") ➞ \"DLROw OLLEh\" <br>\n",
    "reverse(\"ReVeRsE\") ➞ \"eSrEvEr\" <br>\n",
    "reverse(\"Radar\") ➞ \"RADAr\""
   ]
  },
  {
   "cell_type": "code",
   "execution_count": 11,
   "id": "c602aab5",
   "metadata": {},
   "outputs": [
    {
     "name": "stdout",
     "output_type": "stream",
     "text": [
      "Hello World ➞ DLROw OLLEh\n",
      "ReVeRsE ➞ eSrEvEr\n",
      "Radar ➞ RADAr\n"
     ]
    }
   ],
   "source": [
    "def Reverse(in_string):\n",
    "    print(f'{in_string} ➞ {in_string[::-1].swapcase()}')\n",
    "    \n",
    "Reverse('Hello World')\n",
    "Reverse(\"ReVeRsE\")\n",
    "Reverse(\"Radar\")"
   ]
  },
  {
   "cell_type": "code",
   "execution_count": null,
   "id": "8457489b",
   "metadata": {},
   "outputs": [],
   "source": []
  },
  {
   "cell_type": "markdown",
   "id": "2f7b7f06",
   "metadata": {},
   "source": [
    "### 3.You can assign variables from lists like this:\n",
    "lst = [1, 2, 3, 4, 5, 6] <br>first = lst[0] <br>middle = lst[1:-1] <br>last = lst[-1] <br><br>print(first) ➞ outputs 1 <br>print(middle) ➞ outputs [2, 3, 4, 5] <br>print(last) ➞ outputs 6<br>\n",
    "<br><br>With Python 3, you can assign variables from lists in a much more succinct way. Create variables first, middle and last from the given list using destructuring assignment\n",
    "(check the Resources tab for some examples), where:<br>\n",
    "<br>first ➞ 1 <br>middle ➞ [2, 3, 4, 5] <br>last ➞ 6<br>\n",
    "<br><br>Your task is to unpack the list writeyourcodehere into three variables, being first, middle, and last, with middle being everything in between the first and last element. Then print all three variables."
   ]
  },
  {
   "cell_type": "code",
   "execution_count": 10,
   "id": "b670e67f",
   "metadata": {},
   "outputs": [
    {
     "name": "stdout",
     "output_type": "stream",
     "text": [
      "first ➞ 1\n",
      "middle ➞ [2, 3, 4, 5]\n",
      "last ➞ 6\n"
     ]
    }
   ],
   "source": [
    "first, *middle, last = [1,2,3,4,5,6]\n",
    "print(f'first ➞ {first}')\n",
    "print(f'middle ➞ {middle}')\n",
    "print(f'last ➞ {last}')"
   ]
  },
  {
   "cell_type": "code",
   "execution_count": null,
   "id": "c13a25eb",
   "metadata": {},
   "outputs": [],
   "source": []
  },
  {
   "cell_type": "markdown",
   "id": "06fbacfb",
   "metadata": {},
   "source": [
    "### 4.Write a function that calculates the factorial of a number recursively.\n",
    "<b>Examples: </b> <br>\n",
    "factorial(5) ➞ 120 <br>\n",
    "factorial(3) ➞ 6 <br>\n",
    "factorial(1) ➞ 1 <br>\n",
    "factorial(0) ➞ 1"
   ]
  },
  {
   "cell_type": "code",
   "execution_count": 9,
   "id": "427b549a",
   "metadata": {},
   "outputs": [
    {
     "name": "stdout",
     "output_type": "stream",
     "text": [
      "factorial(5) ➞ 120\n",
      "factorial(3) ➞ 6\n",
      "factorial(1) ➞ 1\n",
      "factorial(0) ➞ 1\n"
     ]
    }
   ],
   "source": [
    "def Factorial(n):\n",
    "    if n==0:\n",
    "        return 1\n",
    "    return n * Factorial(n-1)\n",
    "\n",
    "print(f'factorial(5) ➞ {Factorial(5)}')\n",
    "print(f'factorial(3) ➞ {Factorial(3)}')\n",
    "print(f'factorial(1) ➞ {Factorial(1)}')\n",
    "print(f'factorial(0) ➞ {Factorial(0)}')"
   ]
  },
  {
   "cell_type": "code",
   "execution_count": null,
   "id": "c7f39b0f",
   "metadata": {},
   "outputs": [],
   "source": []
  },
  {
   "cell_type": "markdown",
   "id": "04a5ccf7",
   "metadata": {},
   "source": [
    "### 5.Write a function that moves all elements of one type to the end of the list.\n",
    "<b>Examples: </b> <br>\n",
    "move_to_end([1, 3, 2, 4, 4, 1], 1) ➞ [3, 2, 4, 4, 1, 1] <br>\n",
    " #Move all the 1s to the end of the array. <br>\n",
    "move_to_end([7, 8, 9, 1, 2, 3, 4], 9) ➞ [7, 8, 1, 2, 3, 4, 9] <br>\n",
    "move_to_end([\"a\", \"a\", \"a\", \"b\"], \"a\") ➞ [\"b\", \"a\", \"a\", \"a\"]"
   ]
  },
  {
   "cell_type": "code",
   "execution_count": 8,
   "id": "ce186770",
   "metadata": {},
   "outputs": [
    {
     "name": "stdout",
     "output_type": "stream",
     "text": [
      "move_to_end([1, 3, 2, 4, 4, 1], 1) ➞ [3, 2, 4, 4, 1, 1]\n",
      "move_to_end([7, 8, 9, 1, 2, 3, 4], 9) ➞ [7, 8, 1, 2, 3, 4, 9]\n",
      "move_to_end([\"a\", \"a\", \"a\", \"b\"], \"a\") ➞ ['b', 'a', 'a', 'a']\n"
     ]
    }
   ],
   "source": [
    "def move_to_end(list,num):\n",
    "    end_1 = []\n",
    "    end_2 = []\n",
    "    for i in list:\n",
    "        if i == num:\n",
    "            end_2.append(i)\n",
    "        else:\n",
    "            end_1.append(i)\n",
    "    end_1.extend(end_2)\n",
    "    return end_1\n",
    "    \n",
    "print(f'move_to_end([1, 3, 2, 4, 4, 1], 1) ➞ {move_to_end([1, 3, 2, 4, 4, 1], 1)}')\n",
    "print(f'move_to_end([7, 8, 9, 1, 2, 3, 4], 9) ➞ {move_to_end([7, 8, 9, 1, 2, 3, 4], 9)}')\n",
    "print(f'move_to_end([\"a\", \"a\", \"a\", \"b\"], \"a\") ➞ {move_to_end([\"a\", \"a\", \"a\", \"b\"], \"a\")}')"
   ]
  },
  {
   "cell_type": "code",
   "execution_count": null,
   "id": "785fe57f",
   "metadata": {},
   "outputs": [],
   "source": []
  }
 ],
 "metadata": {
  "kernelspec": {
   "display_name": "Python 3 (ipykernel)",
   "language": "python",
   "name": "python3"
  },
  "language_info": {
   "codemirror_mode": {
    "name": "ipython",
    "version": 3
   },
   "file_extension": ".py",
   "mimetype": "text/x-python",
   "name": "python",
   "nbconvert_exporter": "python",
   "pygments_lexer": "ipython3",
   "version": "3.9.13"
  }
 },
 "nbformat": 4,
 "nbformat_minor": 5
}
