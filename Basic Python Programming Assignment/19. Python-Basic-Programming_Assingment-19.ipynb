{
 "cells": [
  {
   "cell_type": "markdown",
   "id": "5e907083",
   "metadata": {},
   "source": [
    "### 1.Create a function that takes a string and returns a string in which each character is repeated once.\n",
    "<b>Examples:</b> <br>\n",
    "double_char(\"String\") ➞ \"SSttrriinngg\"<br>\n",
    "double_char(\"Hello World!\") ➞ \"HHeelllloo WWoorrlldd!!\"<br>\n",
    "doublechar(\"1234!_\") ➞ \"11223344!!__\""
   ]
  },
  {
   "cell_type": "code",
   "execution_count": 1,
   "id": "07e3a5d2",
   "metadata": {},
   "outputs": [
    {
     "name": "stdout",
     "output_type": "stream",
     "text": [
      "➞ SSttrriinngg\n",
      "➞ HHeelllloo  WWoorrlldd!!\n",
      "➞ 11223344!!__\n"
     ]
    }
   ],
   "source": [
    "def double_char(string):\n",
    "    string_2 = ''\n",
    "    for i in string:\n",
    "        string_2 += i*2\n",
    "    return string_2\n",
    "\n",
    "print(f'➞ {double_char(\"String\")}')\n",
    "print(f'➞ {double_char(\"Hello World!\")}')\n",
    "print(f'➞ {double_char(\"1234!_\")}')"
   ]
  },
  {
   "cell_type": "code",
   "execution_count": null,
   "id": "9389c3be",
   "metadata": {},
   "outputs": [],
   "source": []
  },
  {
   "cell_type": "markdown",
   "id": "fe78253d",
   "metadata": {},
   "source": [
    "### 2.Create a function that reverses a boolean value and returns the string \"boolean expected\" if another variable type is given.\n",
    "<b>Examples:</b> <br>\n",
    "reverse(True) ➞ False<br>\n",
    "reverse(False) ➞ True<br>\n",
    "reverse(0) ➞ \"boolean expected\"<br>\n",
    "reverse(None) ➞ \"boolean expected\""
   ]
  },
  {
   "cell_type": "code",
   "execution_count": 3,
   "id": "9b3c04fe",
   "metadata": {},
   "outputs": [
    {
     "name": "stdout",
     "output_type": "stream",
     "text": [
      "reverse(True) ➞ False\n",
      "reverse(False) ➞ True\n",
      "reverse(0) ➞ Boolean Expected\n",
      "reverse(None) ➞ Boolean Expected\n"
     ]
    }
   ],
   "source": [
    "def reverse(word):\n",
    "    if type(word) == bool:\n",
    "        return not word\n",
    "    else:\n",
    "        return \"Boolean Expected\"\n",
    "\n",
    "print(f'reverse(True) ➞ {reverse(True)}')\n",
    "print(f'reverse(False) ➞ {reverse(False)}')\n",
    "print(f'reverse(0) ➞ {reverse(0)}')\n",
    "print(f'reverse(None) ➞ {reverse(None)}')"
   ]
  },
  {
   "cell_type": "code",
   "execution_count": null,
   "id": "9e4654af",
   "metadata": {},
   "outputs": [],
   "source": []
  },
  {
   "cell_type": "markdown",
   "id": "9fae8b16",
   "metadata": {},
   "source": [
    "### 3. Create a function that returns the thickness (in meters) of a piece of paper after folding it n number of times. The paper starts off with a thickness of 0.5mm.\n",
    "<b>Examples:</b> <br><br>\n",
    "num_layers(1) ➞ \"0.001m\" <br># Paper folded once is 1mm (equal to 0.001m) <br><br>num_layers(4) ➞ \"0.008m\" <br># Paper folded 4 times is 8mm (equal to 0.008m) <br><br>num_layers(21) ➞ \"1048.576m\" <br># Paper folded 21 times is 1048576mm (equal to 1048.576m)<br>"
   ]
  },
  {
   "cell_type": "code",
   "execution_count": 2,
   "id": "a34869b8",
   "metadata": {},
   "outputs": [
    {
     "name": "stdout",
     "output_type": "stream",
     "text": [
      "Output ➞ 0.001m\n",
      "Output ➞ 0.008m\n",
      "Output ➞ 1048.576m\n"
     ]
    }
   ],
   "source": [
    "def num_layers(num):\n",
    "    num_2 = 0.5\n",
    "    for i in range(num):\n",
    "        num_2 *= 2\n",
    "    print(f'Output ➞ {num_2/1000}m')\n",
    "    \n",
    "num_layers(1)\n",
    "num_layers(4)\n",
    "num_layers(21)"
   ]
  },
  {
   "cell_type": "code",
   "execution_count": null,
   "id": "732dc6fe",
   "metadata": {},
   "outputs": [],
   "source": []
  },
  {
   "cell_type": "markdown",
   "id": "45fbceee",
   "metadata": {},
   "source": [
    "### 4.Create a function that takes a single string as argument and returns an ordered list containing the indices of all capital letters in the string.\n",
    "<b>Examples:</b> <br>\n",
    "index_of_caps(\"eDaBiT\") ➞ [1, 3, 5]<br>\n",
    "index_of_caps(\"eQuINoX\") ➞ [1, 3, 4, 6]<br>\n",
    "index_of_caps(\"determine\") ➞ []<br>\n",
    "index_of_caps(\"STRIKE\") ➞ [0, 1, 2, 3, 4, 5]<br>\n",
    "index_of_caps(\"sUn\") ➞ [1]"
   ]
  },
  {
   "cell_type": "code",
   "execution_count": 4,
   "id": "8d6849fb",
   "metadata": {},
   "outputs": [
    {
     "name": "stdout",
     "output_type": "stream",
     "text": [
      "eDaBiT ➞ [1, 3, 5]\n",
      "eQuINoX ➞ [1, 3, 4, 6]\n",
      "determine ➞ []\n",
      "STRIKE ➞ [0, 1, 2, 3, 4, 5]\n",
      "sUn ➞ [1]\n"
     ]
    }
   ],
   "source": [
    "def index_of_caps(string):\n",
    "    string_2 = []\n",
    "    for i in string:\n",
    "        if i.isupper():\n",
    "            string_2.append(string.index(i))\n",
    "    print(f'{string} ➞ {string_2}')\n",
    "\n",
    "index_of_caps(\"eDaBiT\")\n",
    "index_of_caps(\"eQuINoX\")\n",
    "index_of_caps(\"determine\")\n",
    "index_of_caps(\"STRIKE\")\n",
    "index_of_caps(\"sUn\")"
   ]
  },
  {
   "cell_type": "code",
   "execution_count": null,
   "id": "5367982c",
   "metadata": {},
   "outputs": [],
   "source": []
  },
  {
   "cell_type": "markdown",
   "id": "64c97d95",
   "metadata": {},
   "source": [
    "### 5.Using list comprehensions, create a function that finds all even numbers from 1 to the given number.\n",
    "<b>Examples:</b> <br>\n",
    "find_even_nums(8) ➞ [2, 4, 6, 8]<br>\n",
    "find_even_nums(4) ➞ [2, 4]<br>\n",
    "find_even_nums(2) ➞ [2]"
   ]
  },
  {
   "cell_type": "code",
   "execution_count": 5,
   "id": "57b14eb9",
   "metadata": {},
   "outputs": [
    {
     "name": "stdout",
     "output_type": "stream",
     "text": [
      "Result ➞ [2, 4, 6, 8]\n",
      "Result ➞ [2, 4]\n",
      "Result ➞ [2]\n"
     ]
    }
   ],
   "source": [
    "def find_even_nums(num):\n",
    "    list_1 = [i for i in range(1,num+1) if i%2 == 0]\n",
    "    print(f'Result ➞ {list_1}')\n",
    "    \n",
    "find_even_nums(8)\n",
    "find_even_nums(4)\n",
    "find_even_nums(2)"
   ]
  },
  {
   "cell_type": "code",
   "execution_count": null,
   "id": "2ec19073",
   "metadata": {},
   "outputs": [],
   "source": []
  },
  {
   "cell_type": "code",
   "execution_count": null,
   "id": "4e2a6b4f",
   "metadata": {},
   "outputs": [],
   "source": []
  }
 ],
 "metadata": {
  "kernelspec": {
   "display_name": "Python 3 (ipykernel)",
   "language": "python",
   "name": "python3"
  },
  "language_info": {
   "codemirror_mode": {
    "name": "ipython",
    "version": 3
   },
   "file_extension": ".py",
   "mimetype": "text/x-python",
   "name": "python",
   "nbconvert_exporter": "python",
   "pygments_lexer": "ipython3",
   "version": "3.9.13"
  }
 },
 "nbformat": 4,
 "nbformat_minor": 5
}
