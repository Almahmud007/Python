{
 "cells": [
  {
   "cell_type": "markdown",
   "id": "98a69426",
   "metadata": {},
   "source": [
    "### 1. Write a Python Program to Display Fibonacci Sequence using Recursion ?"
   ]
  },
  {
   "cell_type": "code",
   "execution_count": 46,
   "id": "c855995f",
   "metadata": {},
   "outputs": [
    {
     "name": "stdout",
     "output_type": "stream",
     "text": [
      "Enter an integer Number: 25\n",
      "0, 1, 3, 5, 8, 13, 21, 34, 55, 89, 144, 233, 377, 610, 987, 1597, 2584, 4181, 6765, 10946, 17711, 28657, 46368, 75025, 121393, 196418, 317811, "
     ]
    }
   ],
   "source": [
    "def Fibonacci(n,a,b):\n",
    "    if n == 0:\n",
    "        return 1\n",
    "    else:\n",
    "        result = a+b\n",
    "        print(result, end=', ')\n",
    "        Fibonacci(n-1,b,result)\n",
    "        \n",
    "\n",
    "def num_check():\n",
    "    while True:\n",
    "        try:\n",
    "            return int(input(\"Enter an integer Number: \"))\n",
    "        except ValueError :\n",
    "            print(\"Only integer number is acceptable\")\n",
    "            \n",
    "num = num_check()\n",
    "\n",
    "print('0, 1',end=', ')\n",
    "Fibonacci(num,1,2)"
   ]
  },
  {
   "cell_type": "code",
   "execution_count": null,
   "id": "0eb2e5a8",
   "metadata": {},
   "outputs": [],
   "source": []
  },
  {
   "cell_type": "markdown",
   "id": "02d90c96",
   "metadata": {},
   "source": [
    "### 2. Write a Python Program to Find Factorial of a Number using Recursion ?"
   ]
  },
  {
   "cell_type": "code",
   "execution_count": 41,
   "id": "cc9d1aa6",
   "metadata": {},
   "outputs": [
    {
     "name": "stdout",
     "output_type": "stream",
     "text": [
      "Enter an integer Number: 5\n",
      "The Factorial of 5 is 120\n"
     ]
    }
   ],
   "source": [
    "def factorial(num):\n",
    "    if (num < 1):\n",
    "        return 1\n",
    "    else:\n",
    "        return num*factorial(num-1)\n",
    "\n",
    "def num_check():\n",
    "    while True:\n",
    "        try:\n",
    "            return int(input(\"Enter an integer Number: \"))\n",
    "        except ValueError :\n",
    "            print(\"Only integer number is acceptable\")\n",
    "    \n",
    "    \n",
    "num = num_check()\n",
    "result = factorial(num)\n",
    "print(f'The Factorial of {num} is {result}')"
   ]
  },
  {
   "cell_type": "code",
   "execution_count": null,
   "id": "4033187b",
   "metadata": {},
   "outputs": [],
   "source": []
  },
  {
   "cell_type": "markdown",
   "id": "7d11a544",
   "metadata": {},
   "source": [
    "### 3. Write a Python Program to Calculate your Body Mass Index ?"
   ]
  },
  {
   "cell_type": "code",
   "execution_count": 20,
   "id": "8baf0470",
   "metadata": {},
   "outputs": [
    {
     "name": "stdout",
     "output_type": "stream",
     "text": [
      "Enter your Weight(kgs): 85\n",
      "Enter your Height(mts): 1.61\n",
      "Your BMI is 32.79 and status is Suffering from Obesity \n"
     ]
    }
   ],
   "source": [
    "def calculate_BMI():\n",
    "    weight = eval(input('Enter your Weight(kgs): '))\n",
    "    height = eval(input('Enter your Height(mts): '))\n",
    "\n",
    "    bmi_cal = weight/pow(height,2) #formula is BMI = kg/m2\n",
    "    if (bmi_cal < 18.5):\n",
    "        status = 'Underweight'\n",
    "    elif (bmi_cal >= 18.5 and bmi_cal < 24.9):\n",
    "        status = 'Healthy'\n",
    "    elif (bmi_cal >= 24.9 and bmi_cal < 30):\n",
    "        status = 'Overweight'\n",
    "    elif (bmi_cal >=30):\n",
    "        status = 'Suffering from Obesity'\n",
    "    print(f'Your BMI is {bmi_cal:.2f} and status is {status} ')\n",
    "\n",
    "calculate_BMI()"
   ]
  },
  {
   "cell_type": "code",
   "execution_count": null,
   "id": "2c732e07",
   "metadata": {},
   "outputs": [],
   "source": []
  },
  {
   "cell_type": "markdown",
   "id": "2e076427",
   "metadata": {},
   "source": [
    "### 4. Write a Python Program to Calculate the Natural Logarithm of any Number ?"
   ]
  },
  {
   "cell_type": "code",
   "execution_count": 31,
   "id": "667b071c",
   "metadata": {},
   "outputs": [
    {
     "name": "stdout",
     "output_type": "stream",
     "text": [
      "Enter a Number:5.5\n",
      "Natural Logarithm of 5.5 is: 1.7047\n"
     ]
    }
   ],
   "source": [
    "import math\n",
    "def genNatLog():\n",
    "    num = eval(input(\"Enter a Number:\"))\n",
    "    result = (math.log(num))\n",
    "    print(f\"Natural Logarithm of {num} is: {result:.4f}\")\n",
    "\n",
    "genNatLog()"
   ]
  },
  {
   "cell_type": "code",
   "execution_count": null,
   "id": "f37b9c47",
   "metadata": {},
   "outputs": [],
   "source": []
  },
  {
   "cell_type": "markdown",
   "id": "9b78c803",
   "metadata": {},
   "source": [
    "### 5. Write a Python Program for Cube sum of first n Natural Numbers ?"
   ]
  },
  {
   "cell_type": "code",
   "execution_count": 37,
   "id": "dc26dc1f",
   "metadata": {},
   "outputs": [
    {
     "name": "stdout",
     "output_type": "stream",
     "text": [
      "Enter the no of Natural Numbers: 5\n",
      "The Cube Sum of First 5 Natural Numbers is 225.0\n"
     ]
    }
   ],
   "source": [
    "def Cube_ofN_NaturalNum():\n",
    "    in_num = int(input(\"Enter the no of Natural Numbers: \"))\n",
    "    result = pow(((in_num * (in_num +1))/2),2)\n",
    "    print(f'The Cube Sum of First {in_num} Natural Numbers is {result}')\n",
    "\n",
    "Cube_ofN_NaturalNum()"
   ]
  },
  {
   "cell_type": "code",
   "execution_count": null,
   "id": "b12d696f",
   "metadata": {},
   "outputs": [],
   "source": []
  }
 ],
 "metadata": {
  "kernelspec": {
   "display_name": "Python 3 (ipykernel)",
   "language": "python",
   "name": "python3"
  },
  "language_info": {
   "codemirror_mode": {
    "name": "ipython",
    "version": 3
   },
   "file_extension": ".py",
   "mimetype": "text/x-python",
   "name": "python",
   "nbconvert_exporter": "python",
   "pygments_lexer": "ipython3",
   "version": "3.9.13"
  }
 },
 "nbformat": 4,
 "nbformat_minor": 5
}
