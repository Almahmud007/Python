{
 "cells": [
  {
   "cell_type": "markdown",
   "id": "2a9d1b69",
   "metadata": {},
   "source": [
    "### 1.Write a Python Program to check if the given number is a Disarium Number ?"
   ]
  },
  {
   "cell_type": "code",
   "execution_count": 85,
   "id": "9cc7edce",
   "metadata": {},
   "outputs": [
    {
     "name": "stdout",
     "output_type": "stream",
     "text": [
      "Enter a number: 5\n",
      "5 is a Disarium Number\n"
     ]
    }
   ],
   "source": [
    "def Disarium_Number():\n",
    "    num = input(\"Enter a number: \")\n",
    "    sum = 0\n",
    "    for i in range(len(num)):\n",
    "        sum = sum + int(num[i])**(i+1)\n",
    "    if sum == int(num):\n",
    "        print(f\"{num} is a Disarium Number\")\n",
    "    else:\n",
    "        print(f\"{num} is not a Disarium Number\")\n",
    "Disarium_Number()"
   ]
  },
  {
   "cell_type": "code",
   "execution_count": null,
   "id": "58f54d4e",
   "metadata": {},
   "outputs": [],
   "source": []
  },
  {
   "cell_type": "markdown",
   "id": "2dbf0e29",
   "metadata": {},
   "source": [
    "### 2.Write a Python Program to print all Disarium numbers between 1 to 100 ?"
   ]
  },
  {
   "cell_type": "code",
   "execution_count": 35,
   "id": "8b4121e4",
   "metadata": {},
   "outputs": [
    {
     "name": "stdout",
     "output_type": "stream",
     "text": [
      "Enter starting number: 1\n",
      "Enter ending number: 100\n",
      "Disarium numbers between 1 and 100 is [1, 2, 3, 4, 5, 6, 7, 8, 9, 89]\n"
     ]
    }
   ],
   "source": [
    "def All_Disarium_Numbers():\n",
    "    start = int(input('Enter starting number: '))\n",
    "    end = int(input('Enter ending number: '))\n",
    "    list_number = []\n",
    "    for number in range(start,end+1):\n",
    "        sum = 0\n",
    "        for i in range(len(str(number))):\n",
    "            sum = sum + int(str(number)[i])**(i+1)\n",
    "        if sum == number:\n",
    "            list_number.append(number)\n",
    "    print(f'Disarium numbers between {start} and {end} is {list_number}')\n",
    "            \n",
    "        \n",
    "All_Disarium_Numbers()"
   ]
  },
  {
   "cell_type": "code",
   "execution_count": null,
   "id": "eeac2bd7",
   "metadata": {},
   "outputs": [],
   "source": []
  },
  {
   "cell_type": "markdown",
   "id": "5091fe96",
   "metadata": {},
   "source": [
    "### 3.Write a Python Program to check if the given number is Happy Number ?"
   ]
  },
  {
   "cell_type": "code",
   "execution_count": 83,
   "id": "985f1b9a",
   "metadata": {},
   "outputs": [
    {
     "name": "stdout",
     "output_type": "stream",
     "text": [
      "Enter a Number: 998\n",
      "998 is a Happy Number\n"
     ]
    }
   ],
   "source": [
    "def Happy_Number():\n",
    "    num_1 = input('Enter a Number: ')\n",
    "    num_2 = num_1\n",
    "    Numbertracker = set()   \n",
    "    while True:\n",
    "        if num_1 != '1' and str(num_1) not in Numbertracker:\n",
    "            Numbertracker.add(num_1)\n",
    "            sum = 0\n",
    "            for ele in range(len((num_1))):\n",
    "                sum = sum + int(num_1[ele])**2\n",
    "            num_1 = str(sum)\n",
    "        elif str(num_1) in Numbertracker:\n",
    "            print(f'{num_2} is not a Happy Number')\n",
    "            break\n",
    "        else:\n",
    "            print(f'{num_2} is a Happy Number')\n",
    "            break\n",
    "\n",
    "Happy_Number()"
   ]
  },
  {
   "cell_type": "code",
   "execution_count": null,
   "id": "7dcd01b1",
   "metadata": {},
   "outputs": [],
   "source": []
  },
  {
   "cell_type": "markdown",
   "id": "632db6c9",
   "metadata": {},
   "source": [
    "### 4.Write a Python Program to print all Happy numbers between 1 and 100 ?"
   ]
  },
  {
   "cell_type": "code",
   "execution_count": 86,
   "id": "af6c64d9",
   "metadata": {},
   "outputs": [
    {
     "name": "stdout",
     "output_type": "stream",
     "text": [
      "Enter starting number: 1\n",
      "Enter ending number: 100\n",
      "Happy Numbers between 1 and 100 are [1, 7, 10, 13, 19, 23, 28, 31, 32, 44, 49, 68, 70, 79, 82, 86, 91, 94, 97, 100]\n"
     ]
    }
   ],
   "source": [
    "def Happy_Number_List():\n",
    "    start = int(input('Enter starting number: '))\n",
    "    end = int(input('Enter ending number: '))\n",
    "    Numbers_List = []\n",
    "    for num_1 in range(start,end+1):\n",
    "        num_1 = str(num_1)\n",
    "        num_2 = num_1\n",
    "        Numbertracker = set()   \n",
    "        while True:\n",
    "            if num_1 != '1' and str(num_1) not in Numbertracker:\n",
    "                Numbertracker.add(num_1)\n",
    "                sum = 0\n",
    "                for ele in range(len((num_1))):\n",
    "                    sum = sum + int(num_1[ele])**2\n",
    "                num_1 = str(sum)\n",
    "            elif str(num_1) in Numbertracker:\n",
    "                break\n",
    "            else:\n",
    "                Numbers_List.append(int(num_2))\n",
    "                break\n",
    "    print(f'Happy Numbers between {start} and {end} are {Numbers_List}')\n",
    "    \n",
    "Happy_Number_List()"
   ]
  },
  {
   "cell_type": "code",
   "execution_count": null,
   "id": "d1f2f5c4",
   "metadata": {},
   "outputs": [],
   "source": []
  },
  {
   "cell_type": "markdown",
   "id": "6a86a780",
   "metadata": {},
   "source": [
    "### 5.Write a Python Program to determine whether the given number is a Harshad Number ?"
   ]
  },
  {
   "cell_type": "code",
   "execution_count": 88,
   "id": "59fb3c21",
   "metadata": {},
   "outputs": [
    {
     "name": "stdout",
     "output_type": "stream",
     "text": [
      "Enter a Number: 6\n",
      "6 is a Harshad Number\n"
     ]
    }
   ],
   "source": [
    "def Harshad_Number():\n",
    "    num_1 = input('Enter a Number: ')\n",
    "    sum = 0\n",
    "    for i in range(len(num_1)):\n",
    "        sum = sum + int(num_1[i])\n",
    "    if int(num_1)%sum == 0:\n",
    "        print(f'{num_1} is a Harshad Number')\n",
    "    else:\n",
    "        print(f'{num_1} is not Harshad Number')\n",
    "        \n",
    "Harshad_Number()"
   ]
  },
  {
   "cell_type": "code",
   "execution_count": null,
   "id": "d2068ff5",
   "metadata": {},
   "outputs": [],
   "source": []
  },
  {
   "cell_type": "markdown",
   "id": "1c07514a",
   "metadata": {},
   "source": [
    "### 6.Write a Python Program to print all pronic numbers between 1 and 100 ?"
   ]
  },
  {
   "cell_type": "code",
   "execution_count": 89,
   "id": "8f9ea53b",
   "metadata": {},
   "outputs": [
    {
     "name": "stdout",
     "output_type": "stream",
     "text": [
      "Enter starting number: 1\n",
      "Enter ending number: 100\n",
      "Pronic numbers between 1 and 100 are [2, 6, 12, 20, 30, 42, 56, 72, 90]\n"
     ]
    }
   ],
   "source": [
    "def Pronic_Numbers():\n",
    "    start = int(input('Enter starting number: '))\n",
    "    end = int(input('Enter ending number: '))\n",
    "    Pronic_Numbers_List = []\n",
    "    for i in range(start,end+1):\n",
    "        Pronic_Numbers_List.append(i*(i+1))\n",
    "    final_list = []\n",
    "    for j in Pronic_Numbers_List:\n",
    "        if start < j < end:\n",
    "            final_list.append(j)\n",
    "    print(f\"Pronic numbers between {start} and {end} are {final_list}\")\n",
    "                  \n",
    "Pronic_Numbers()"
   ]
  },
  {
   "cell_type": "code",
   "execution_count": null,
   "id": "331d1a85",
   "metadata": {},
   "outputs": [],
   "source": []
  }
 ],
 "metadata": {
  "kernelspec": {
   "display_name": "Python 3 (ipykernel)",
   "language": "python",
   "name": "python3"
  },
  "language_info": {
   "codemirror_mode": {
    "name": "ipython",
    "version": 3
   },
   "file_extension": ".py",
   "mimetype": "text/x-python",
   "name": "python",
   "nbconvert_exporter": "python",
   "pygments_lexer": "ipython3",
   "version": "3.9.13"
  }
 },
 "nbformat": 4,
 "nbformat_minor": 5
}
