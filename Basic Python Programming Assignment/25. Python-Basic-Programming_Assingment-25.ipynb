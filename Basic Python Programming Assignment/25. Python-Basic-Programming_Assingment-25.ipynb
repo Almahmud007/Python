{
 "cells": [
  {
   "cell_type": "markdown",
   "id": "231f77af",
   "metadata": {},
   "source": [
    "### 1.Create a function that takes three integer arguments (a, b, c) and returns the amount of integers which are of equal value.\n",
    "<b>Examples:</b><br>\n",
    "equal(3, 4, 3) ➞ 2<br>\n",
    "equal(1, 1, 1) ➞ 3<br>\n",
    "equal(3, 4, 1) ➞ 0<br>\n",
    "\n",
    "<b>Notes:</b><br>\n",
    "Your function must return 0, 2 or 3."
   ]
  },
  {
   "cell_type": "code",
   "execution_count": 1,
   "id": "74198a63",
   "metadata": {},
   "outputs": [
    {
     "name": "stdout",
     "output_type": "stream",
     "text": [
      "(3, 4, 3) ➞ 0\n",
      "(1, 1, 1) ➞ 3\n",
      "(3, 4, 1) ➞ 0\n"
     ]
    }
   ],
   "source": [
    "def equal(a,b,c):\n",
    "    if a==b==c:\n",
    "        print(f'{a,b,c} ➞ {3}')\n",
    "    elif a==b or b==c:\n",
    "        print(f'{a,b,c} ➞ {2}')\n",
    "    else:\n",
    "        print(f'{a,b,c} ➞ {0}')\n",
    "\n",
    "equal(3, 4, 3)\n",
    "equal(1, 1, 1)\n",
    "equal(3, 4, 1)"
   ]
  },
  {
   "cell_type": "code",
   "execution_count": null,
   "id": "6f4aa5d6",
   "metadata": {},
   "outputs": [],
   "source": []
  },
  {
   "cell_type": "markdown",
   "id": "81e96e2d",
   "metadata": {},
   "source": [
    "### 2.Write a function that converts a dictionary into a list of keys-values tuples.\n",
    "<b>Examples:</b><br>\n",
    "dict_to_list({ <br>\n",
    "    \"D\": 1, <br>\n",
    "    \"B\": 2, <br>\n",
    "    \"C\": 3 <br>\n",
    "}) ➞ [(\"B\", 2), (\"C\", 3), (\"D\", 1)] <br><br>\n",
    "\n",
    "dict_to_list({ <br>\n",
    "    \"likes\": 2, <br>\n",
    "    \"dislikes\": 3, <br>\n",
    "    \"followers\": 10 <br>}) ➞ [(\"dislikes\", 3), (\"followers\", 10), (\"likes\", 2)]<br><br>\n",
    "\n",
    "<b>Notes:</b><br>\n",
    "Return the elements in the list in alphabetical order."
   ]
  },
  {
   "cell_type": "code",
   "execution_count": 2,
   "id": "4f71c90b",
   "metadata": {},
   "outputs": [
    {
     "name": "stdout",
     "output_type": "stream",
     "text": [
      "{'D': 1, 'B': 2, 'C': 3} ➞ [('D', 1), ('B', 2), ('C', 3)]\n",
      "{'likes': 2, 'dislikes': 3, 'followers': 10} ➞ [('likes', 2), ('dislikes', 3), ('followers', 10)]\n"
     ]
    }
   ],
   "source": [
    "def dict_to_list(dict_1):\n",
    "    list_1 = []\n",
    "    for i,j in dict_1.items():\n",
    "        list_1.append((i,j))\n",
    "    print(f'{dict_1} ➞ {list_1}')\n",
    "                   \n",
    "dict_to_list({\"D\": 1,\"B\": 2,\"C\": 3})\n",
    "dict_to_list({\"likes\": 2,\"dislikes\": 3,\"followers\": 10})"
   ]
  },
  {
   "cell_type": "code",
   "execution_count": null,
   "id": "d3de7416",
   "metadata": {},
   "outputs": [],
   "source": []
  },
  {
   "cell_type": "markdown",
   "id": "7237a371",
   "metadata": {},
   "source": [
    "### 3.Write a function that creates a dictionary with each (key, value) pair being the (lower case, upper case) versions of a letter, respectively.\n",
    "<b>Examples:</b><br>\n",
    "mapping([\"p\", \"s\"]) ➞ { \"p\": \"P\", \"s\": \"S\" }<br>\n",
    "mapping([\"a\", \"b\", \"c\"]) ➞ { \"a\": \"A\", \"b\": \"B\", \"c\": \"C\" }<br>\n",
    "mapping([\"a\", \"v\", \"y\", \"z\"]) ➞ { \"a\": \"A\", \"v\": \"V\", \"y\": \"Y\", \"z\": \"Z\" }<br>\n",
    "\n",
    "<b>Notes:</b><br>\n",
    "All of the letters in the input list will always be lowercase."
   ]
  },
  {
   "cell_type": "code",
   "execution_count": 15,
   "id": "e3e0986e",
   "metadata": {},
   "outputs": [
    {
     "name": "stdout",
     "output_type": "stream",
     "text": [
      "['p', 's'] ➞ {'p': 'P', 's': 'S'}\n",
      "['a', 'b', 'c'] ➞ {'a': 'A', 'b': 'B', 'c': 'C'}\n",
      "['a', 'v', 'y', 'z'] ➞ {'a': 'A', 'v': 'V', 'y': 'Y', 'z': 'Z'}\n"
     ]
    }
   ],
   "source": [
    "def mapping(list_1):\n",
    "    dict_1 = {}\n",
    "    for i in list_1:\n",
    "        dict_1[i] = i.upper()\n",
    "    print(f'{list_1} ➞ {dict_1}')\n",
    "    \n",
    "mapping([\"p\", \"s\"])\n",
    "mapping([\"a\", \"b\", \"c\"])\n",
    "mapping([\"a\", \"v\", \"y\", \"z\"])"
   ]
  },
  {
   "cell_type": "code",
   "execution_count": null,
   "id": "806f623a",
   "metadata": {},
   "outputs": [],
   "source": []
  },
  {
   "cell_type": "markdown",
   "id": "b6ced884",
   "metadata": {},
   "source": [
    "### 4.Write a function, that replaces all vowels in a string with a specified vowel.\n",
    "<b>Examples:</b><br>\n",
    "vow_replace(\"apples and bananas\", \"u\") ➞ \"upplus und bununus\"<br>\n",
    "vow_replace(\"cheese casserole\", \"o\") ➞ \"chooso cossorolo\"<br>\n",
    "vow_replace(\"stuffed jalapeno poppers\", \"e\") ➞ \"steffed jelepene peppers\"<br>\n",
    "\n",
    "<b>Notes:</b><br>\n",
    "All words will be lowercase. Y is not considered a vowel."
   ]
  },
  {
   "cell_type": "code",
   "execution_count": 12,
   "id": "b53075c3",
   "metadata": {},
   "outputs": [
    {
     "name": "stdout",
     "output_type": "stream",
     "text": [
      "apples and bananas ➞ \"upplus und bununus\"\n",
      "cheese casserole ➞ \"chooso cossorolo\"\n",
      "stuffed jalapeno poppers ➞ \"steffed jelepene peppers\"\n"
     ]
    }
   ],
   "source": [
    "def vow_replace(string,vow):\n",
    "    vowels = ['a','e','i','o','u']\n",
    "    string_2 = ''\n",
    "    for i in string:\n",
    "        if i in vowels:\n",
    "            string_2 += vow\n",
    "        else:\n",
    "            string_2 += i\n",
    "    print(f'{string} ➞ \"{string_2}\"')\n",
    "        \n",
    "vow_replace(\"apples and bananas\", \"u\")\n",
    "vow_replace(\"cheese casserole\", \"o\")\n",
    "vow_replace(\"stuffed jalapeno poppers\", \"e\")"
   ]
  },
  {
   "cell_type": "code",
   "execution_count": null,
   "id": "9f92d806",
   "metadata": {},
   "outputs": [],
   "source": []
  },
  {
   "cell_type": "markdown",
   "id": "44a0b9c0",
   "metadata": {},
   "source": [
    "### 5.Create a function that takes a string as input and capitalizes a letter if its ASCII code is even and returns its lower case version if its ASCII code is odd.\n",
    "<b>Examples:</b><br>\n",
    "ascii_capitalize(\"to be or not to be!\") ➞ \"To Be oR NoT To Be!\"<br>\n",
    "ascii_capitalize(\"THE LITTLE MERMAID\") ➞ \"THe LiTTLe meRmaiD\"<br>\n",
    "ascii_capitalize(\"Oh what a beautiful morning.\") ➞ \"oH wHaT a BeauTiFuL moRNiNg.\""
   ]
  },
  {
   "cell_type": "code",
   "execution_count": 11,
   "id": "ae518e0a",
   "metadata": {},
   "outputs": [
    {
     "name": "stdout",
     "output_type": "stream",
     "text": [
      "to be or not to be! ➞ \" To Be oR NoT To Be!\"\n",
      "THE LITTLE MERMAID ➞ \" THe LiTTLe meRmaiD\"\n",
      "Oh what a beautiful morning. ➞ \" oH wHaT a BeauTiFuL moRNiNg.\"\n"
     ]
    }
   ],
   "source": [
    "\n",
    "def ascii_capitalize(string):\n",
    "    string_2 = \" \"\n",
    "    for i in string.lower():\n",
    "        if (ord(i)%2 == 0):\n",
    "            string_2 += i.upper()\n",
    "        else:\n",
    "            string_2 += i\n",
    "    print(f'{string} ➞ \"{string_2}\"')\n",
    "        \n",
    "ascii_capitalize(\"to be or not to be!\")\n",
    "ascii_capitalize(\"THE LITTLE MERMAID\")\n",
    "ascii_capitalize(\"Oh what a beautiful morning.\")"
   ]
  },
  {
   "cell_type": "code",
   "execution_count": null,
   "id": "914bccee",
   "metadata": {},
   "outputs": [],
   "source": []
  }
 ],
 "metadata": {
  "kernelspec": {
   "display_name": "Python 3 (ipykernel)",
   "language": "python",
   "name": "python3"
  },
  "language_info": {
   "codemirror_mode": {
    "name": "ipython",
    "version": 3
   },
   "file_extension": ".py",
   "mimetype": "text/x-python",
   "name": "python",
   "nbconvert_exporter": "python",
   "pygments_lexer": "ipython3",
   "version": "3.9.13"
  }
 },
 "nbformat": 4,
 "nbformat_minor": 5
}
